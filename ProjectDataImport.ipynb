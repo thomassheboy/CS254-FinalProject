{
 "cells": [
  {
   "cell_type": "code",
   "execution_count": null,
   "metadata": {},
   "outputs": [],
   "source": []
  },
  {
   "cell_type": "code",
   "execution_count": 75,
   "metadata": {},
   "outputs": [
    {
     "name": "stderr",
     "output_type": "stream",
     "text": [
      "[nltk_data] Downloading package punkt to\n",
      "[nltk_data]     C:\\Users\\thoma\\AppData\\Roaming\\nltk_data...\n",
      "[nltk_data]   Package punkt is already up-to-date!\n",
      "[nltk_data] Downloading package wordnet to\n",
      "[nltk_data]     C:\\Users\\thoma\\AppData\\Roaming\\nltk_data...\n",
      "[nltk_data]   Package wordnet is already up-to-date!\n",
      "[nltk_data] Downloading package averaged_perceptron_tagger to\n",
      "[nltk_data]     C:\\Users\\thoma\\AppData\\Roaming\\nltk_data...\n",
      "[nltk_data]   Package averaged_perceptron_tagger is already up-to-\n",
      "[nltk_data]       date!\n",
      "[nltk_data] Downloading package stopwords to\n",
      "[nltk_data]     C:\\Users\\thoma\\AppData\\Roaming\\nltk_data...\n",
      "[nltk_data]   Package stopwords is already up-to-date!\n"
     ]
    },
    {
     "data": {
      "text/plain": [
       "True"
      ]
     },
     "execution_count": 75,
     "metadata": {},
     "output_type": "execute_result"
    }
   ],
   "source": [
    "import nltk\n",
    "nltk.download('punkt')\n",
    "nltk.download('wordnet')\n",
    "nltk.download('averaged_perceptron_tagger')\n",
    "nltk.download('stopwords')"
   ]
  },
  {
   "cell_type": "markdown",
   "metadata": {},
   "source": []
  },
  {
   "cell_type": "code",
   "execution_count": 99,
   "metadata": {},
   "outputs": [],
   "source": [
    "import pandas as pd\n",
    "import numpy as np\n",
    "from matplotlib import pyplot\n",
    "from nltk.tokenize import word_tokenize\n",
    "from nltk import pos_tag\n",
    "from nltk.corpus import stopwords\n",
    "from nltk.stem import WordNetLemmatizer\n",
    "from sklearn.pipeline import make_pipeline\n",
    "from sklearn.preprocessing import LabelEncoder, StandardScaler\n",
    "from collections import defaultdict\n",
    "from nltk.corpus import wordnet as wn\n",
    "from sklearn.feature_extraction.text import TfidfVectorizer\n",
    "from sklearn import model_selection, naive_bayes, svm\n",
    "from sklearn.svm import SVC\n",
    "from sklearn.metrics import accuracy_score, precision_recall_curve,f1_score,auc\n",
    "from sklearn.metrics import confusion_matrix, classification_report"
   ]
  },
  {
   "cell_type": "code",
   "execution_count": 81,
   "metadata": {},
   "outputs": [],
   "source": [
    "# Set seed for reproduceable results\n",
    "np.random.seed(500)\n",
    "# Read in to Pandas DataFrame and drop the first row(which contained column names as I have assigned new names)\n",
    "reviews = pd.read_csv(r\"rt_reviews.csv\", names = ['target', 'review'], encoding = 'latin-1')\n",
    "reviews = reviews.iloc[1:]\n",
    "reviews = reviews.iloc[:10000] # Choose num here"
   ]
  },
  {
   "cell_type": "code",
   "execution_count": 82,
   "metadata": {},
   "outputs": [],
   "source": [
    "for i in range(reviews.shape[0]):\n",
    "    #if(isinstance(reviews['target'].values[i],)):\n",
    "    if(reviews['target'].values[i] == '0'):\n",
    "        reviews['target'].values[i] = 0\n",
    "    elif(reviews['target'].values[i] == '1'):\n",
    "        reviews['target'].values[i] = 1\n",
    "for i in range(reviews.shape[0]):\n",
    "    if(isinstance(reviews['target'].values[i],str)):\n",
    "        print(\"Caught: \",reviews['target'].values[i])\n",
    "    if(reviews['target'].values[i] != 0 and reviews['target'].values[i] != 1):\n",
    "        print(\"Error\")"
   ]
  },
  {
   "cell_type": "code",
   "execution_count": 83,
   "metadata": {},
   "outputs": [],
   "source": [
    "\n",
    "# Data is of shape(480000,2) The first column is the target, the second in the review\n",
    "\n",
    "# Make data smaller for ease of implementation\n",
    "reviews = reviews.iloc[:10000] # Choose num here"
   ]
  },
  {
   "cell_type": "code",
   "execution_count": null,
   "metadata": {},
   "outputs": [],
   "source": []
  },
  {
   "cell_type": "code",
   "execution_count": null,
   "metadata": {},
   "outputs": [],
   "source": []
  },
  {
   "cell_type": "code",
   "execution_count": 84,
   "metadata": {},
   "outputs": [
    {
     "data": {
      "text/plain": [
       "(10000, 2)"
      ]
     },
     "execution_count": 84,
     "metadata": {},
     "output_type": "execute_result"
    }
   ],
   "source": [
    "# Remove and row where either datafield is blank, no rows contained blank data so the shape remains 480000,2 \n",
    "reviews.dropna(inplace = True)\n",
    "reviews.shape"
   ]
  },
  {
   "cell_type": "code",
   "execution_count": 85,
   "metadata": {},
   "outputs": [
    {
     "data": {
      "text/html": [
       "<div>\n",
       "<style scoped>\n",
       "    .dataframe tbody tr th:only-of-type {\n",
       "        vertical-align: middle;\n",
       "    }\n",
       "\n",
       "    .dataframe tbody tr th {\n",
       "        vertical-align: top;\n",
       "    }\n",
       "\n",
       "    .dataframe thead th {\n",
       "        text-align: right;\n",
       "    }\n",
       "</style>\n",
       "<table border=\"1\" class=\"dataframe\">\n",
       "  <thead>\n",
       "    <tr style=\"text-align: right;\">\n",
       "      <th></th>\n",
       "      <th>target</th>\n",
       "      <th>review</th>\n",
       "    </tr>\n",
       "  </thead>\n",
       "  <tbody>\n",
       "    <tr>\n",
       "      <th>1</th>\n",
       "      <td>1</td>\n",
       "      <td>manakamana doesn't answer any questions, yet ...</td>\n",
       "    </tr>\n",
       "    <tr>\n",
       "      <th>2</th>\n",
       "      <td>1</td>\n",
       "      <td>wilfully offensive and powered by a chest-thu...</td>\n",
       "    </tr>\n",
       "    <tr>\n",
       "      <th>3</th>\n",
       "      <td>0</td>\n",
       "      <td>it would be difficult to imagine material mor...</td>\n",
       "    </tr>\n",
       "    <tr>\n",
       "      <th>4</th>\n",
       "      <td>0</td>\n",
       "      <td>despite the gusto its star brings to the role...</td>\n",
       "    </tr>\n",
       "    <tr>\n",
       "      <th>5</th>\n",
       "      <td>0</td>\n",
       "      <td>if there was a good idea at the core of this ...</td>\n",
       "    </tr>\n",
       "  </tbody>\n",
       "</table>\n",
       "</div>"
      ],
      "text/plain": [
       "  target                                             review\n",
       "1      1   manakamana doesn't answer any questions, yet ...\n",
       "2      1   wilfully offensive and powered by a chest-thu...\n",
       "3      0   it would be difficult to imagine material mor...\n",
       "4      0   despite the gusto its star brings to the role...\n",
       "5      0   if there was a good idea at the core of this ..."
      ]
     },
     "execution_count": 85,
     "metadata": {},
     "output_type": "execute_result"
    }
   ],
   "source": [
    "# Convert all text to lowercase so all words recognized the same \n",
    "reviews['review'] = [entry.lower() for entry in reviews['review']]\n",
    "\n",
    "# Can now been seen to contain no capital letters\n",
    "reviews.head()\n",
    "#type(reviews)\n"
   ]
  },
  {
   "cell_type": "code",
   "execution_count": 86,
   "metadata": {},
   "outputs": [
    {
     "data": {
      "text/plain": [
       "pandas.core.frame.DataFrame"
      ]
     },
     "execution_count": 86,
     "metadata": {},
     "output_type": "execute_result"
    }
   ],
   "source": [
    "# Tokenize each review: this process converts each review into a set of words. \n",
    "reviews['review'] = [word_tokenize(entry) for entry in reviews['review']]\n",
    "type(reviews)"
   ]
  },
  {
   "cell_type": "code",
   "execution_count": 87,
   "metadata": {},
   "outputs": [
    {
     "data": {
      "text/html": [
       "<div>\n",
       "<style scoped>\n",
       "    .dataframe tbody tr th:only-of-type {\n",
       "        vertical-align: middle;\n",
       "    }\n",
       "\n",
       "    .dataframe tbody tr th {\n",
       "        vertical-align: top;\n",
       "    }\n",
       "\n",
       "    .dataframe thead th {\n",
       "        text-align: right;\n",
       "    }\n",
       "</style>\n",
       "<table border=\"1\" class=\"dataframe\">\n",
       "  <thead>\n",
       "    <tr style=\"text-align: right;\">\n",
       "      <th></th>\n",
       "      <th>target</th>\n",
       "      <th>review</th>\n",
       "    </tr>\n",
       "  </thead>\n",
       "  <tbody>\n",
       "    <tr>\n",
       "      <th>1</th>\n",
       "      <td>1</td>\n",
       "      <td>[manakamana, does, n't, answer, any, questions...</td>\n",
       "    </tr>\n",
       "    <tr>\n",
       "      <th>2</th>\n",
       "      <td>1</td>\n",
       "      <td>[wilfully, offensive, and, powered, by, a, che...</td>\n",
       "    </tr>\n",
       "    <tr>\n",
       "      <th>3</th>\n",
       "      <td>0</td>\n",
       "      <td>[it, would, be, difficult, to, imagine, materi...</td>\n",
       "    </tr>\n",
       "    <tr>\n",
       "      <th>4</th>\n",
       "      <td>0</td>\n",
       "      <td>[despite, the, gusto, its, star, brings, to, t...</td>\n",
       "    </tr>\n",
       "    <tr>\n",
       "      <th>5</th>\n",
       "      <td>0</td>\n",
       "      <td>[if, there, was, a, good, idea, at, the, core,...</td>\n",
       "    </tr>\n",
       "  </tbody>\n",
       "</table>\n",
       "</div>"
      ],
      "text/plain": [
       "  target                                             review\n",
       "1      1  [manakamana, does, n't, answer, any, questions...\n",
       "2      1  [wilfully, offensive, and, powered, by, a, che...\n",
       "3      0  [it, would, be, difficult, to, imagine, materi...\n",
       "4      0  [despite, the, gusto, its, star, brings, to, t...\n",
       "5      0  [if, there, was, a, good, idea, at, the, core,..."
      ]
     },
     "execution_count": 87,
     "metadata": {},
     "output_type": "execute_result"
    }
   ],
   "source": [
    "reviews.head()"
   ]
  },
  {
   "cell_type": "code",
   "execution_count": 88,
   "metadata": {},
   "outputs": [],
   "source": [
    "# Next steps are stemming/lemmenting which reduces words to their root so that words such as 'loving' and 'loved'\n",
    "# both reduce to 'love'\n",
    "\n",
    "# Creating tags so that lemmatizer can understand verbs from nouns from adjectives \n",
    "tag_map = defaultdict(lambda : wn.NOUN)\n",
    "tag_map['J'] = wn.ADJ\n",
    "tag_map['V'] = wn.VERB\n",
    "tag_map['R'] = wn.ADV\n",
    "\n",
    "for index,entry in enumerate(reviews['review']):\n",
    "    index = index+1 # Index seems to off by one, this fixes it\n",
    "    # Words that follow the rules will end up in this list\n",
    "    Final_words = []\n",
    "    \n",
    "    word_Lemmatized = WordNetLemmatizer()\n",
    "    \n",
    "    for word, tag in pos_tag(entry):\n",
    "        if word not in stopwords.words('english') and word.isalpha():\n",
    "            word_Final = word_Lemmatized.lemmatize(word, tag_map[tag[0]])\n",
    "            Final_words.append(word_Final)\n",
    "        reviews.loc[index, 'text_final'] = str(Final_words)"
   ]
  },
  {
   "cell_type": "code",
   "execution_count": 90,
   "metadata": {},
   "outputs": [
    {
     "data": {
      "text/plain": [
       "(10000, 3)"
      ]
     },
     "execution_count": 90,
     "metadata": {},
     "output_type": "execute_result"
    }
   ],
   "source": [
    "reviews.shape"
   ]
  },
  {
   "cell_type": "code",
   "execution_count": null,
   "metadata": {},
   "outputs": [],
   "source": []
  },
  {
   "cell_type": "code",
   "execution_count": 91,
   "metadata": {},
   "outputs": [
    {
     "data": {
      "text/html": [
       "<div>\n",
       "<style scoped>\n",
       "    .dataframe tbody tr th:only-of-type {\n",
       "        vertical-align: middle;\n",
       "    }\n",
       "\n",
       "    .dataframe tbody tr th {\n",
       "        vertical-align: top;\n",
       "    }\n",
       "\n",
       "    .dataframe thead th {\n",
       "        text-align: right;\n",
       "    }\n",
       "</style>\n",
       "<table border=\"1\" class=\"dataframe\">\n",
       "  <thead>\n",
       "    <tr style=\"text-align: right;\">\n",
       "      <th></th>\n",
       "      <th>target</th>\n",
       "      <th>review</th>\n",
       "      <th>text_final</th>\n",
       "    </tr>\n",
       "  </thead>\n",
       "  <tbody>\n",
       "    <tr>\n",
       "      <th>9996</th>\n",
       "      <td>0</td>\n",
       "      <td>[can, a, video, game, turn, a, movie, into, a,...</td>\n",
       "      <td>['video', 'game', 'turn', 'movie', 'hit', 'man...</td>\n",
       "    </tr>\n",
       "    <tr>\n",
       "      <th>9997</th>\n",
       "      <td>0</td>\n",
       "      <td>[if, you, swallow, this, type, of, thing, no, ...</td>\n",
       "      <td>['swallow', 'type', 'thing', 'matter', 'procee...</td>\n",
       "    </tr>\n",
       "    <tr>\n",
       "      <th>9998</th>\n",
       "      <td>1</td>\n",
       "      <td>[it, all, escalates, into, an, arch, ,, knowin...</td>\n",
       "      <td>['escalate', 'arch', 'know', 'throwback', 'mud...</td>\n",
       "    </tr>\n",
       "    <tr>\n",
       "      <th>9999</th>\n",
       "      <td>0</td>\n",
       "      <td>[witless, even, by, slasher-film, standards, .]</td>\n",
       "      <td>['witless', 'even', 'standard']</td>\n",
       "    </tr>\n",
       "    <tr>\n",
       "      <th>10000</th>\n",
       "      <td>0</td>\n",
       "      <td>[it, 's, the, work, of, a, filmmaker, who, is,...</td>\n",
       "      <td>['work', 'filmmaker', 'love', 'cinema', 'entir...</td>\n",
       "    </tr>\n",
       "  </tbody>\n",
       "</table>\n",
       "</div>"
      ],
      "text/plain": [
       "      target                                             review  \\\n",
       "9996       0  [can, a, video, game, turn, a, movie, into, a,...   \n",
       "9997       0  [if, you, swallow, this, type, of, thing, no, ...   \n",
       "9998       1  [it, all, escalates, into, an, arch, ,, knowin...   \n",
       "9999       0    [witless, even, by, slasher-film, standards, .]   \n",
       "10000      0  [it, 's, the, work, of, a, filmmaker, who, is,...   \n",
       "\n",
       "                                              text_final  \n",
       "9996   ['video', 'game', 'turn', 'movie', 'hit', 'man...  \n",
       "9997   ['swallow', 'type', 'thing', 'matter', 'procee...  \n",
       "9998   ['escalate', 'arch', 'know', 'throwback', 'mud...  \n",
       "9999                     ['witless', 'even', 'standard']  \n",
       "10000  ['work', 'filmmaker', 'love', 'cinema', 'entir...  "
      ]
     },
     "execution_count": 91,
     "metadata": {},
     "output_type": "execute_result"
    }
   ],
   "source": [
    "reviews.tail() "
   ]
  },
  {
   "cell_type": "code",
   "execution_count": 92,
   "metadata": {},
   "outputs": [],
   "source": [
    "# Create Train and Test splits \n",
    "\n",
    "train_x, test_x, train_y, test_y = model_selection.train_test_split(reviews['text_final'], reviews['target'], test_size=.1)"
   ]
  },
  {
   "cell_type": "code",
   "execution_count": 93,
   "metadata": {},
   "outputs": [
    {
     "name": "stdout",
     "output_type": "stream",
     "text": [
      "\n",
      "train_x Shape:  (9000,)\n",
      "\n",
      "train_y Shape:  (9000,)\n",
      "\n",
      "test_x Shape:  (1000,)\n",
      "\n",
      "test_y Shape:  (1000,)\n",
      "5504    ['amy', 'celebration', 'accomplish', 'well', '...\n",
      "6377    ['earnest', 'fault', 'afraid', 'say', 'somethi...\n",
      "3862    ['entrapment', 'simply', 'remind', 'u', 'far',...\n",
      "1309    ['snow', 'angel', 'essential', 'examination', ...\n",
      "6381    ['pearce', 'actor', 'seem', 'fairly', 'confide...\n",
      "                              ...                        \n",
      "8496    ['usually', 'laugh', 'bad', 'movie', 'laugh', ...\n",
      "7689    ['walk', 'among', 'tombstone', 'bit', 'methodi...\n",
      "2523    ['housemaid', 'many', 'filmmaker', 'remake', '...\n",
      "2439    ['geriatric', 'riff', 'hangover', 'minus', 'kn...\n",
      "9468    ['see', 'doctor', 'pull', 'blanket', 'little',...\n",
      "Name: text_final, Length: 1000, dtype: object\n"
     ]
    }
   ],
   "source": [
    "print(\"\\ntrain_x Shape: \", train_x.shape)\n",
    "print(\"\\ntrain_y Shape: \", train_y.shape)\n",
    "print(\"\\ntest_x Shape: \", test_x.shape)\n",
    "print(\"\\ntest_y Shape: \", test_y.shape)\n",
    "print(test_x)"
   ]
  },
  {
   "cell_type": "code",
   "execution_count": 94,
   "metadata": {},
   "outputs": [],
   "source": [
    "Encoder = LabelEncoder()\n",
    "train_y = Encoder.fit_transform(train_y)\n",
    "test_y = Encoder.fit_transform(test_y)"
   ]
  },
  {
   "cell_type": "code",
   "execution_count": 95,
   "metadata": {},
   "outputs": [
    {
     "name": "stdout",
     "output_type": "stream",
     "text": [
      "{'answer': 197, 'question': 3481, 'yet': 4987, 'make': 2685, 'point': 3303, 'like': 2583, 'rest': 3661, 'planet': 3274, 'far': 1640, 'kingdom': 2482, 'offensive': 3062, 'power': 3347, 'machismo': 2666, 'good': 1930, 'clean': 754, 'fun': 1832, 'would': 4967, 'difficult': 1203, 'imagine': 2201, 'material': 2731, 'wrong': 4978, 'lose': 2629, 'find': 1705, 'despite': 1169, 'gusto': 1995, 'star': 4180, 'brings': 537, 'role': 3740, 'hard': 2031, 'ride': 3704, 'voyage': 4825, 'discovery': 1236, 'idea': 2181, 'core': 943, 'film': 1694, 'bury': 576, 'pile': 3255, 'joke': 2417, 'bad': 330, 'pun': 3458, 'ridiculous': 3706, 'serial': 3890, 'plot': 3293, 'gleeson': 1906, 'go': 1922, 'hallmark': 2010, 'channel': 671, 'damage': 1047, 'intermittently': 2338, 'curious': 1029, 'entry': 1480, 'time': 4508, 'travel': 4589, 'height': 2069, 'satire': 3809, 'dark': 1061, 'hell': 2073, 'patently': 3187, 'absurd': 13, 'surely': 4341, 'nowhere': 3029, 'close': 770, 'objective': 3038, 'reality': 3545, 'surpass': 4344, 'somewhere': 4087, 'jerry': 2404, 'era': 1490, 'everyone': 1524, 'comedian': 812, 'deserve': 1159, 'movie': 2900, 'actor': 46, 'encourage': 1433, 'christian': 730, 'embrace': 1415, 'season': 3857, 'slight': 4035, 'contain': 908, 'soulful': 4101, 'bell': 399, 'debut': 1086, 'feature': 1670, 'address': 58, 'subject': 4279, 'humor': 2159, 'intelligence': 2319, 'approach': 229, 'issue': 2377, 'performance': 3216, 'every': 1521, 'angle': 178, 'except': 1543, 'shamelessly': 3921, 'irresistibly': 2373, 'music': 2922, 'score': 3839, 'director': 1220, 'halloween': 2011, 'achieve': 33, 'considerable': 898, 'almost': 134, 'entirely': 1478, 'visual': 4812, 'mean': 2751, 'one': 3075, 'uninitiated': 4708, 'also': 139, 'people': 3211, 'action': 41, 'thrill': 4489, 'son': 4089, 'employ': 1427, 'mechanic': 2759, 'filmmaking': 1697, 'turn': 4632, 'back': 323, 'around': 243, 'cinema': 736, 'best': 414, 'hand': 2016, 'great': 1960, 'filmmaker': 1696, 'show': 3955, 'tell': 4430, 'fox': 1792, 'ca': 586, 'act': 38, 'filthy': 1699, 'funny': 1837, 'lovely': 2638, 'watch': 4855, 'need': 2962, 'chew': 707, 'strong': 4252, 'predecessor': 3363, 'deeply': 1101, 'felt': 1674, 'less': 2563, 'convention': 924, 'feel': 1671, 'sparkle': 4114, 'baby': 322, 'dust': 1351, 'head': 2051, 'long': 2620, 'unfocused': 4697, 'two': 4641, 'string': 4248, 'immersive': 2209, 'pull': 3453, 'knight': 2487, 'direction': 1218, 'become': 379, 'part': 3171, 'studio': 4257, 'technical': 4419, 'easy': 1368, 'enjoy': 1454, 'sort': 4099, 'thing': 4470, 'leave': 2547, 'nothing': 3022, 'think': 4471, 'opportunity': 3086, 'brook': 546, 'miss': 2843, 'something': 4084, 'worthwhile': 4965, 'extraordinary': 1595, 'blast': 446, 'past': 3184, 'first': 1715, 'class': 749, 'decade': 1087, 'superhero': 4327, 'mostly': 2886, 'lightweight': 2581, 'interesting': 2332, 'jamie': 2389, 'foxx': 1793, 'villain': 4800, 'embody': 1414, 'black': 435, 'rage': 3500, 'mutant': 2926, 'drawn': 1315, 'per': 3212, 'period': 3221, 'account': 30, 'strange': 4231, 'phenomenon': 3235, 'break': 519, 'among': 159, 'impeccably': 2211, 'craft': 968, 'historically': 2100, 'accurate': 31, 'wear': 4867, 'sleeve': 4030, 'hone': 2120, 'dramatic': 1310, 'element': 1404, 'emotional': 1421, 'effect': 1386, 'rather': 3524, 'fall': 1624, 'slasher': 4025, 'template': 4432, 'bring': 536, 'seem': 3866, 'decent': 1090, 'fourth': 1791, 'final': 1700, 'american': 155, 'pie': 3250, 'swamp': 4361, 'reason': 3550, 'work': 4956, 'much': 2905, 'sequel': 3888, 'simply': 3991, 'special': 4116, 'even': 1516, 'free': 1805, 'bird': 428, 'stag': 4167, 'pace': 3134, 'uneven': 4691, 'beg': 385, 'since': 3995, 'always': 146, 'happen': 2026, 'dull': 1345, 'joyless': 2431, 'minute': 2829, 'worth': 4963, 'comedy': 814, 'rate': 3523, 'coen': 787, 'brother': 548, 'take': 4390, 'marvelous': 2717, 'mystery': 2931, 'critic': 1001, 'direct': 1216, 'john': 2413, 'follow': 1756, 'number': 3034, 'plod': 3291, 'unimaginative': 4707, 'set': 3899, 'piece': 3251, 'next': 2979, 'purely': 3465, 'visceral': 4808, 'generate': 1869, 'alarm': 116, 'tear': 4416, 'manage': 2692, 'avoid': 308, 'still': 4210, 'respect': 3655, 'could': 955, 'least': 2545, 'trash': 4585, 'decide': 1091, 'exercise': 1554, 'want': 4842, 'high': 2087, 'body': 471, 'count': 956, 'step': 4202, 'right': 3710, 'brain': 510, 'behind': 392, 'sorely': 4095, 'hidden': 2085, 'agenda': 97, 'eventually': 1519, 'surface': 4342, 'strain': 4229, 'credibility': 988, 'foster': 1786, 'ability': 3, 'improbable': 2226, 'allow': 132, 'flight': 1741, 'deliver': 1123, 'requisite': 3642, 'romantic': 3746, 'new': 2974, 'offer': 3063, 'rise': 3714, 'riff': 3709, 'wealth': 4865, 'gap': 1854, 'race': 3492, 'relies': 3610, 'stereotype': 4204, 'well': 4879, 'heart': 2056, 'place': 3268, 'excuse': 1551, 'insipid': 2300, 'ineptitude': 2266, 'love': 2637, 'live': 2604, 'life': 2574, 'edge': 1376, 'disaster': 1230, 'boyle': 505, 'narrow': 2944, 'breathtaking': 523, 'fine': 1706, 'entertainment': 1473, 'series': 3891, 'whole': 4899, 'hangover': 2024, 'ii': 2193, 'notably': 3018, 'justify': 2451, 'effort': 1392, 'spend': 4127, 'add': 55, 'nearly': 2957, 'identical': 2183, 'episode': 1485, 'original': 3096, 'multiplex': 2912, 'amy': 167, 'suit': 4309, 'favorite': 1662, 'school': 3834, 'student': 4256, 'quite': 3490, 'version': 4779, 'cult': 1022, 'tv': 4633, 'see': 3864, 'face': 1605, 'camera': 594, 'afternoon': 94, 'shadow': 3914, 'move': 2898, 'across': 37, 'large': 2518, 'building': 562, 'image': 2197, 'abandon': 2, 'amusement': 164, 'park': 3168, 'magical': 2674, 'quiet': 3485, 'throughout': 4494, 'documentary': 1281, 'gorgeous': 1936, 'teenager': 4427, 'goofy': 1933, 'smile': 4050, 'ache': 32, 'beautifully': 377, 'shot': 3952, 'aggressively': 99, 'sumptuous': 4315, 'disturbing': 1267, 'concept': 866, 'cool': 937, 'execution': 1553, 'gyllenhaal': 1999, 'ledger': 2548, 'old': 3071, 'song': 4090, 'teach': 4413, 'ai': 105, 'hold': 2111, 'try': 4624, 'say': 3820, 'choreograph': 728, 'fight': 1691, 'sequence': 3889, 'mortal': 2885, 'blow': 462, 'often': 3066, 'little': 2603, 'lasting': 2523, 'impact': 2210, 'brawl': 518, 'bergman': 409, 'masterpiece': 2727, 'raise': 3506, 'complex': 849, 'identity': 2185, 'possibly': 3337, 'thus': 4498, 'deliberately': 1115, 'ambiguity': 149, 'somehow': 4082, 'revolutionary': 3690, 'message': 2793, 'never': 2972, 'get': 1884, 'sexually': 3910, 'arrest': 244, 'block': 456, 'come': 811, 'frothy': 1819, 'sharply': 3929, 'write': 4975, 'entertaining': 1471, 'deficiency': 1103, 'chip': 719, 'disappointing': 1227, 'desperate': 1165, 'nudity': 3033, 'put': 3471, 'together': 4526, 'appreciate': 227, 'confirm': 881, 'loser': 2630, 'attend': 284, 'reunion': 3674, 'young': 4989, 'truly': 4620, 'fantasy': 1639, 'big': 420, 'screen': 3843, 'prime': 3399, 'way': 4861, 'goal': 1923, 'expect': 1565, 'horror': 2138, 'thriller': 4490, 'claim': 746, 'base': 359, 'true': 4619, 'story': 4223, 'actual': 48, 'event': 1517, 'however': 2147, 'sell': 3870, 'merely': 2787, 'viewer': 4795, 'delight': 1119, 'hilarity': 2092, 'cable': 587, 'guy': 1998, 'wind': 4918, 'vomit': 4823, 'produce': 3414, 'various': 4763, 'noise': 3003, 'etc': 1507, 'sweet': 4368, 'charming': 687, 'loss': 2631, 'beloved': 401, 'man': 2691, 'lend': 2557, 'picture': 3249, 'extra': 1594, 'unexpected': 4692, 'pathos': 3189, 'might': 2807, 'perhaps': 3219, 'adequate': 59, 'animated': 184, 'child': 711, 'thor': 4477, 'others': 3101, 'play': 3279, 'arena': 236, 'comic': 819, 'book': 482, 'superheroes': 4328, 'desolate': 1163, 'short': 3950, 'fresh': 1811, 'thanks': 4460, 'script': 3850, 'provide': 3443, 'enough': 1463, 'depth': 1151, 'render': 3629, 'character': 675, 'collection': 798, 'eccentricity': 1371, 'drama': 1309, 'crash': 976, 'wait': 4832, 'cross': 1007, 'view': 4794, 'may': 2742, 'excruciatingly': 1550, 'trite': 4612, 'mountain': 2894, 'crap': 974, 'suppose': 4336, 'hokum': 2110, 'wit': 4931, 'wilson': 4916, 'forget': 1772, 'improvement': 2228, 'family': 1631, 'fare': 1642, 'sex': 3907, 'scene': 3830, 'pretty': 3386, 'hot': 2142, 'though': 4480, 'diminish': 1212, 'limited': 2587, 'perfectly': 3214, 'enjoyable': 1455, 'forgettable': 1773, 'general': 1867, 'playful': 3281, 'tone': 4539, 'help': 2075, 'deal': 1082, 'cinematography': 739, 'edit': 1378, 'glossy': 1920, 'smooth': 4054, 'spielberg': 4131, 'neither': 2967, 'popcorn': 3322, 'flick': 1739, 'paul': 3194, 'fanboy': 1635, 'demographic': 1130, 'political': 3312, 'gripping': 1971, 'focus': 1752, 'innocent': 2292, 'whose': 4901, 'destroy': 1173, 'either': 1396, 'terrorist': 4451, 'administration': 63, 'feeling': 1672, 'saw': 3819, 'bottom': 495, 'dirty': 1223, 'glass': 1902, 'experience': 1569, 'precision': 3361, 'sensation': 3874, 'success': 4294, 'blend': 451, 'ghostbusters': 1887, 'meet': 2767, 'men': 2780, 'problem': 3410, 'amount': 161, 'hill': 2093, 'bean': 371, 'stalin': 4173, 'real': 3540, 'world': 4959, 'cash': 634, 'grab': 1942, 'paint': 3145, 'exploit': 1578, 'victim': 4789, 'society': 4069, 'model': 2855, 'figure': 1692, 'inspiration': 2302, 'mainstream': 2680, 'audience': 292, 'mother': 2887, 'courage': 962, 'full': 1829, 'review': 3684, 'spanish': 4111, 'let': 2565, 'happily': 2027, 'ever': 1520, 'side': 3970, 'heavy': 2066, 'watson': 4859, 'moment': 2860, 'must': 2924, 'memory': 2779, 'task': 4405, 'listless': 2597, 'mary': 2718, 'nevertheless': 2973, 'affecting': 85, 'contemplative': 909, 'hagiography': 2003, 'towards': 4556, 'arthouse': 250, 'aesthetic': 81, 'anything': 209, 'lawrence': 2533, 'game': 1850, 'sadistic': 3787, 'russian': 3779, 'spy': 4159, 'saga': 3792, 'year': 4983, 'ago': 100, 'french': 1808, 'classic': 750, 'throat': 4493, 'particularly': 3174, 'seyfried': 3912, 'spirit': 4137, 'nicely': 2981, 'gory': 1938, 'uninspired': 4709, 'handsomely': 2021, 'consequence': 896, 'damon': 1050, 'superbly': 4324, 'silly': 3982, 'beautiful': 376, 'mind': 2820, 'talent': 4392, 'water': 4858, 'tip': 4514, 'hurt': 2167, 'dog': 1283, 'another': 196, 'seemingly': 3867, 'endless': 1438, 'meditation': 2764, 'travail': 4588, 'toothless': 4541, 'several': 3906, 'level': 2569, 'completely': 848, 'production': 3417, 'design': 1161, 'celebration': 649, 'hear': 2055, 'phrase': 3242, 'door': 1291, 'clear': 755, 'onto': 3078, 'market': 2709, 'historical': 2099, 'fiction': 1686, 'king': 2481, 'arthur': 251, 'actually': 49, 'showcases': 3957, 'guide': 1989, 'destiny': 1172, 'chemistry': 704, 'lead': 2539, 'breezy': 525, 'affect': 84, 'age': 96, 'wistful': 4930, 'lifetime': 2576, 'pleasure': 3288, 'operate': 3084, 'genius': 1874, 'give': 1898, 'field': 1688, 'cost': 951, 'bobby': 470, 'inhabit': 2283, 'essential': 1502, 'maintain': 2681, 'powerful': 3348, 'superb': 4323, 'cast': 635, 'include': 2241, 'nicole': 2988, 'kidman': 2472, 'unsuspecting': 4731, 'wife': 4905, 'ground': 1977, 'spectacle': 4120, 'push': 3470, 'beyond': 419, 'innocence': 2291, 'uniformly': 4706, 'excellent': 1542, 'truth': 4623, 'plain': 3271, 'do': 1276, 'rote': 3757, 'capture': 613, 'particular': 3173, 'group': 1980, 'late': 2524, 'early': 1360, 'enter': 1468, 'adulthood': 76, 'certain': 658, 'reluctance': 3614, 'exist': 1560, 'distract': 1265, 'conventional': 925, 'failing': 1613, 'craftsmanship': 969, 'unsure': 4730, 'crisis': 998, 'really': 3548, 'classy': 752, 'lite': 2598, 'surreal': 4348, 'memoir': 2776, 'troubled': 4617, 'crass': 978, 'vulgar': 4826, 'inane': 2231, 'adjective': 62, 'effectively': 1388, 'convey': 927, 'agony': 101, 'fill': 1693, 'lovable': 2636, 'heartfelt': 2059, 'kid': 2469, 'along': 136, 'subtext': 4286, 'adult': 74, 'timely': 4510, 'grand': 1949, 'statement': 4187, 'shallow': 3918, 'instead': 2311, 'deep': 1098, 'carry': 628, 'weight': 4874, 'broken': 543, 'sink': 4004, 'deny': 1140, 'skill': 4015, 'deliberate': 1114, 'uncompromising': 4665, 'sad': 3784, 'bob': 469, 'inspired': 2305, 'genre': 1875, 'pic': 3247, 'hollywood': 2115, 'empty': 1429, 'heavily': 2065, 'commercial': 825, 'pity': 3265, 'crowd': 1008, 'cute': 1036, 'date': 1066, 'night': 2990, 'crazy': 980, 'stupid': 4265, 'ask': 259, 'serve': 3896, 'mccarthy': 2745, 'road': 3724, 'bleak': 450, 'nightmarish': 2992, 'stir': 4214, 'optimistic': 3090, 'remain': 3617, 'argue': 238, 'hope': 2129, 'clever': 757, 'surprising': 4346, 'complicate': 851, 'strike': 4246, 'spark': 4113, 'fails': 1614, 'juggle': 2437, 'myriad': 2929, 'successfully': 4296, 'observe': 3043, 'endear': 1435, 'quirky': 3489, 'sense': 3876, 'genuine': 1878, 'affection': 86, 'setting': 3901, 'million': 2819, 'week': 4873, 'last': 2522, 'stand': 4176, 'likely': 2585, 'whatever': 4886, 'drive': 1329, 'malick': 2690, 'found': 1788, 'discover': 1235, 'shoot': 3946, 'profound': 3422, 'cheat': 694, 'cup': 1026, 'straightforward': 4228, 'intimate': 2346, 'study': 4258, 'wholly': 4900, 'relatable': 3597, 'mcdonagh': 2747, 'line': 2589, 'without': 4935, 'compare': 834, 'know': 2490, 'home': 2119, 'harrelson': 2037, 'iron': 2367, 'create': 982, 'bit': 430, 'magic': 2673, 'dance': 1051, 'brown': 549, 'bog': 473, 'female': 1675, 'sweep': 4366, 'corner': 945, 'emotionally': 1422, 'devastating': 1182, 'apart': 212, 'toward': 4555, 'end': 1434, 'descend': 1154, 'charm': 685, 'mile': 2813, 'screenplay': 3845, 'bridge': 529, 'divide': 1273, 'romance': 3745, 'par': 3158, 'course': 963, 'modern': 2856, 'awful': 317, 'network': 2971, 'saturday': 3815, 'inexplicably': 2271, 'escape': 1495, 'eye': 1601, 'ear': 1359, 'attention': 285, 'gradually': 1947, 'piano': 3246, 'form': 1776, 'spine': 4135, 'soundtrack': 4104, 'convoluted': 933, 'tale': 4391, 'corruption': 950, 'within': 4934, 'rank': 3516, 'police': 3309, 'japanese': 2392, 'draw': 1313, 'compassion': 836, 'upside': 4740, 'partnership': 3176, 'franchise': 1799, 'pirate': 3260, 'adrift': 72, 'many': 2703, 'laugh': 2527, 'dead': 1078, 'lot': 2633, 'scenery': 3831, 'outside': 3112, 'initial': 2286, 'charlotte': 684, 'nice': 2980, 'second': 3861, 'pale': 3148, 'imitation': 2204, 'yes': 4986, 'james': 2388, 'stewart': 4207, 'care': 617, 'anyway': 210, 'folk': 1755, 'musical': 2923, 'genuinely': 1879, 'exploration': 1581, 'relationship': 3600, 'woman': 4946, 'europe': 1513, 'heroine': 2081, 'dozen': 1303, 'costume': 953, 'detail': 1175, 'case': 632, 'finale': 1701, 'involve': 2361, 'battle': 366, 'enthusiast': 1476, 'safe': 3790, 'intriguing': 2349, 'erotic': 1491, 'undone': 4688, 'generic': 1871, 'limp': 2588, 'anthology': 198, 'brief': 530, 'language': 2515, 'theme': 4465, 'occasionally': 3052, 'insightful': 2299, 'welcome': 4878, 'throwback': 4496, 'penelope': 3209, 'cruz': 1018, 'outstanding': 3113, 'otherwise': 3102, 'lame': 2509, 'male': 2689, 'bold': 477, 'innovative': 2294, 'challenge': 663, 'chop': 725, 'lover': 2639, 'concerned': 869, 'meaningful': 2754, 'insight': 2298, 'substance': 4283, 'whether': 4891, 'fail': 1611, 'recommend': 3564, 'downer': 1300, 'warm': 4844, 'bullock': 565, 'el': 1397, 'de': 1077, 'su': 4274, 'sin': 3994, 'con': 861, 'la': 2497, 'del': 1113, 'en': 1430, 'un': 4651, 'wolf': 4944, 'wall': 4836, 'street': 4241, 'speak': 4115, 'important': 2218, 'listen': 2596, 'ridley': 3708, 'scott': 3841, 'third': 4474, 'boy': 503, 'predictable': 3367, 'romcom': 3748, 'suffer': 4301, 'relative': 3601, 'lack': 2502, 'ambition': 151, 'observed': 3044, 'soar': 4065, 'creative': 984, 'setup': 3903, 'air': 109, 'flatten': 1733, 'momentum': 2861, 'hour': 2144, 'captain': 610, 'epic': 1484, 'source': 4106, 'plus': 3298, 'perform': 3215, 'weird': 4875, 'al': 113, 'groundbreaking': 1978, 'use': 4743, 'everything': 1525, 'dilute': 1209, 'terrify': 4446, 'supernatural': 4332, 'darkness': 1064, 'fast': 1653, 'cut': 1035, 'furious': 1839, 'vibe': 4784, 'faux': 1660, 'mighty': 2808, 'flat': 1732, 'rarely': 3521, 'literally': 2600, 'chore': 727, 'word': 4955, 'soulless': 4102, 'universe': 4715, 'small': 4045, 'formulaic': 1781, 'prof': 3418, 'sensitivity': 3881, 'hero': 2079, 'foot': 1761, 'metaphysical': 2796, 'proceeding': 3412, 'haunting': 2047, 'phoenix': 3239, 'value': 4754, 'acting': 40, 'overall': 3116, 'wan': 4839, 'internal': 2339, 'struggle': 4255, 'expand': 1564, 'video': 4792, 'dry': 1338, 'procedural': 3411, 'city': 744, 'savvy': 3818, 'social': 4067, 'desire': 1162, 'nazi': 2954, 'france': 1798, 'war': 4843, 'luck': 2646, 'wash': 4852, 'shore': 3949, 'startling': 4185, 'smash': 4048, 'recent': 3558, 'collapse': 797, 'barely': 351, 'breath': 520, 'document': 1280, 'testament': 4454, 'proud': 3440, 'sure': 4340, 'interest': 2330, 'politics': 3315, 'indian': 2254, 'familiar': 1629, 'disney': 1249, 'twist': 4638, 'vivid': 4817, 'imaginative': 2200, 'shape': 3926, 'hybrid': 2171, 'sometimes': 4085, 'call': 592, 'savage': 3816, 'balance': 336, 'observant': 3041, 'sadness': 3789, 'uncommon': 4664, 'grace': 1943, 'suspenseful': 4357, 'scary': 3826, 'silliness': 3981, 'fatal': 1655, 'unconvincing': 4667, 'finally': 1702, 'faith': 1621, 'away': 314, 'terrible': 4443, 'decision': 1093, 'unfold': 4698, 'tedious': 4424, 'badly': 331, 'outrageous': 3111, 'raunchy': 3530, 'likable': 2582, 'serviceable': 3898, 'noir': 3002, 'violent': 4805, 'treat': 4593, 'overlong': 3121, 'clunky': 782, 'underwhelming': 4686, 'protagonist': 3438, 'baggage': 334, 'sap': 3805, 'undercut': 4675, 'scare': 3825, 'visuals': 4814, 'amazing': 148, 'touch': 4551, 'seat': 3859, 'cause': 644, 'shed': 3930, 'muddled': 2907, 'revenge': 3682, 'crime': 996, 'release': 3604, 'boast': 467, 'energy': 1444, 'run': 3770, 'mediocre': 2762, 'watchable': 4856, 'candy': 604, 'slapstick': 4024, 'sophistication': 4094, 'informative': 2279, 'catch': 639, 'angst': 180, 'appear': 223, 'engage': 1446, 'respectful': 3657, 'arm': 241, 'length': 2558, 'narratively': 2943, 'volume': 4822, 'gut': 1996, 'installment': 2307, 'onslaught': 3077, 'boom': 483, 'result': 3666, 'david': 1069, 'soft': 4071, 'device': 1186, 'trouble': 4616, 'triumphant': 4614, 'grow': 1981, 'reasonable': 3551, 'possible': 3336, 'conclusion': 873, 'ape': 214, 'arc': 232, 'solid': 4075, 'flaw': 1734, 'difficulty': 1204, 'main': 2678, 'mexican': 2800, 'confound': 883, 'amaze': 147, 'increasingly': 2248, 'honestly': 2122, 'describe': 1156, 'look': 2623, 'sound': 4103, 'history': 2101, 'surprise': 4345, 'justice': 2450, 'showdown': 3959, 'louis': 2635, 'somebody': 4081, 'poignant': 3302, 'dimension': 1211, 'dynamic': 1355, 'master': 2725, 'present': 3376, 'situation': 4008, 'extreme': 1597, 'dim': 1210, 'light': 2578, 'spectator': 4122, 'assure': 272, 'resolve': 3650, 'helen': 2071, 'enrich': 1464, 'throw': 4495, 'sugar': 4306, 'system': 4383, 'dialogue': 1193, 'hunt': 2165, 'mask': 2721, 'earnest': 1362, 'sweetness': 4370, 'giggle': 1893, 'authority': 302, 'mischievous': 2836, 'develop': 1184, 'art': 247, 'century': 656, 'start': 4183, 'auteur': 298, 'competence': 841, 'blockbuster': 457, 'divorce': 1274, 'mount': 2893, 'strangely': 4232, 'inert': 2267, 'brilliant': 533, 'ambitious': 152, 'daughter': 1068, 'mine': 2822, 'expertly': 1573, 'richly': 3700, 'change': 670, 'crude': 1012, 'whimsical': 4894, 'overblown': 3117, 'caricature': 622, 'screwball': 3849, 'personality': 3226, 'reduce': 3574, 'sketch': 4012, 'gibney': 1889, 'professional': 3420, 'execute': 1552, 'aesthetically': 82, 'noteworthy': 3021, 'wonderfully': 4949, 'portrait': 3326, 'reflect': 3582, 'rhythm': 3696, 'keep': 2461, 'skit': 4020, 'stuff': 4259, 'abrahamson': 6, 'anderson': 170, 'depressingly': 1150, 'eager': 1358, 'dazzle': 1074, 'clueless': 779, 'sentimental': 3885, 'dreck': 1324, 'order': 3092, 'matter': 2735, 'anxious': 205, 'hint': 2094, 'exceedingly': 1540, 'attractive': 289, 'curiously': 1030, 'bland': 442, 'dramatically': 1311, 'dubious': 1340, 'mark': 2708, 'kind': 2477, 'anonymous': 195, 'maybe': 2743, 'franco': 1800, 'memorably': 2778, 'disturb': 1266, 'stick': 4208, 'explanation': 1575, 'romp': 3750, 'exactly': 1533, 'spin': 4134, 'indiana': 2255, 'jones': 2422, 'adventure': 78, 'title': 4520, 'suggest': 4307, 'match': 2729, 'authenticity': 300, 'intensity': 2325, 'type': 4642, 'talk': 4394, 'hokey': 2109, 'spite': 4140, 'display': 1253, 'resolutely': 3648, 'mawkish': 2740, 'melodrama': 2773, 'lackluster': 2504, 'nancy': 2939, 'distinctly': 1263, 'storyline': 4224, 'space': 4109, 'settle': 3902, 'riddle': 3703, 'suffers': 4303, 'russell': 3777, 'brand': 513, 'vehicle': 4769, 'deserves': 1160, 'gerwig': 1882, 'flirt': 1743, 'decency': 1089, 'terribly': 4444, 'wo': 4940, 'technically': 4420, 'culture': 1024, 'ought': 3103, 'simple': 3987, 'expectation': 1566, 'devoid': 1188, 'someone': 4083, 'boring': 490, 'vacation': 4748, 'force': 1765, 'glee': 1904, 'exaggerated': 1534, 'repetitive': 3634, 'unpredictable': 4724, 'revenant': 3681, 'exquisite': 1589, 'realistic': 3543, 'portrayal': 3328, 'unforgiving': 4701, 'environment': 1481, 'leo': 2561, 'lady': 2507, 'marry': 2713, 'adulterous': 75, 'husband': 2168, 'splash': 4141, 'trickle': 4603, 'sarah': 3807, 'polley': 3316, 'slightly': 4036, 'reek': 3577, 'quality': 3475, 'shanghai': 3923, 'derivative': 1152, 'amiable': 156, 'nation': 2946, 'rush': 3776, 'stanley': 4179, 'able': 4, 'biopic': 426, 'artist': 254, 'messy': 2794, 'sight': 3972, 'fan': 1634, 'linger': 2590, 'lethal': 2567, 'dose': 1295, 'tickle': 4501, 'dread': 1316, 'dreadful': 1317, 'confection': 877, 'mom': 2859, 'powerfully': 3349, 'sport': 4149, 'pure': 3464, 'utterly': 4747, 'graceful': 1944, 'cumulative': 1025, 'emerge': 1416, 'country': 959, 'state': 4186, 'drift': 1326, 'personal': 3225, 'uncanny': 4659, 'mix': 2849, 'ghost': 1886, 'entity': 1479, 'efficiency': 1390, 'cheer': 697, 'refreshing': 3586, 'reference': 3581, 'please': 3286, 'caro': 624, 'deftly': 1109, 'thomas': 4476, 'smart': 4046, 'subtle': 4288, 'tie': 4504, 'replicate': 3636, 'sensational': 3875, 'inspirational': 2303, 'jim': 2406, 'henson': 2077, 'creation': 983, 'relatively': 3602, 'narrative': 2942, 'premise': 3371, 'prove': 3442, 'inspire': 2304, 'deaden': 1079, 'portray': 3327, 'golden': 1929, 'journalism': 2426, 'reporter': 3638, 'risk': 3716, 'editor': 1381, 'graham': 1948, 'tense': 4439, 'combine': 810, 'fitting': 1720, 'tribute': 4601, 'survivor': 4353, 'disastrous': 1231, 'oil': 3068, 'explosion': 1583, 'spill': 4133, 'unintentionally': 4711, 'comedic': 813, 'mankind': 2698, 'disinterest': 1243, 'anyone': 208, 'danger': 1053, 'cue': 1021, 'multitude': 2913, 'waste': 4854, 'finish': 1710, 'different': 1202, 'neighborhood': 2965, 'paris': 3167, 'je': 2397, 'remarkable': 3619, 'achievement': 34, 'dare': 1059, 'peter': 3232, 'solo': 4076, 'thoughtful': 4482, 'handle': 2019, 'sympathy': 4381, 'stack': 4166, 'deck': 1094, 'ultimately': 4648, 'doubt': 1297, 'job': 2408, 'convince': 929, 'myth': 2932, 'explore': 1582, 'abuse': 16, 'knockoff': 2489, 'george': 1880, 'lucas': 2645, 'tension': 4440, 'suspense': 4356, 'annie': 191, 'hall': 2009, 'wright': 4973, 'lampoon': 2510, 'driver': 1330, 'graphic': 1952, 'remind': 3622, 'famous': 1632, 'miracle': 2830, 'heaven': 2064, 'manipulative': 2697, 'blunt': 464, 'propaganda': 3434, 'trick': 4602, 'reminder': 3623, 'famously': 1633, 'company': 833, 'stoner': 4219, 'indeed': 2251, 'england': 1449, 'monty': 2869, 'python': 3473, 'pack': 3137, 'circus': 742, 'update': 4735, 'formula': 1780, 'public': 3450, 'english': 1450, 'woefully': 4943, 'nod': 3001, 'hood': 2125, 'evil': 1528, 'cry': 1019, 'although': 143, 'hotel': 2143, 'sake': 3794, 'entertain': 1470, 'else': 1410, 'hart': 2042, 'manic': 2694, 'tire': 4515, 'shtick': 3964, 'hype': 2172, 'luckily': 2647, 'morgan': 2880, 'spurlock': 4158, 'box': 502, 'emotion': 1420, 'western': 4885, 'lazy': 2537, 'aimless': 108, 'qualify': 3474, 'parody': 3170, 'atmosphere': 279, 'weak': 4863, 'excitement': 1548, 'career': 618, 'opening': 3081, 'credit': 990, 'read': 3537, 'harry': 2040, 'lucky': 2648, 'reach': 3534, 'critical': 1002, 'mass': 2722, 'muddle': 2906, 'implausibility': 2213, 'already': 138, 'reveal': 3675, 'sun': 4316, 'bond': 480, 'glamour': 1900, 'attempt': 283, 'spoof': 4146, 'destination': 1170, 'wedding': 4872, 'gem': 1865, 'queen': 3477, 'wikipedia': 4908, 'page': 3140, 'learn': 2544, 'chazelle': 692, 'verve': 4781, 'law': 2532, 'shakespeare': 3916, 'lost': 2632, 'clearly': 756, 'relish': 3613, 'grit': 1972, 'pierce': 3252, 'kindergarten': 2478, 'teacher': 4414, 'monster': 2867, 'delightful': 1120, 'austen': 295, 'potent': 3341, 'moviemaking': 2902, 'genial': 1873, 'obsessive': 3047, 'progress': 3426, 'cycle': 1038, 'begin': 386, 'human': 2155, 'being': 394, 'giant': 1888, 'stop': 4220, 'betray': 416, 'woody': 4954, 'allen': 131, 'wisdom': 4925, 'alongside': 137, 'potboiler': 3340, 'pleasantly': 3285, 'rare': 3520, 'simultaneously': 3993, 'smith': 4052, 'fog': 1754, 'rain': 3505, 'machine': 2665, 'purpose': 3468, 'death': 1084, 'roof': 3753, 'tremendous': 4597, 'supremely': 4339, 'confident': 879, 'clooney': 769, 'zombie': 4997, 'hop': 2128, 'visually': 4813, 'staid': 4170, 'green': 1964, 'weirder': 4876, 'accent': 18, 'german': 1881, 'fairy': 1619, 'pleasant': 3284, 'violence': 4804, 'stylish': 4269, 'witty': 4938, 'robber': 3727, 'forrest': 1782, 'gun': 1992, 'redford': 3573, 'believe': 398, 'cop': 939, 'tail': 4389, 'hit': 2102, 'humanity': 2156, 'reflection': 3583, 'individual': 2259, 'tightly': 4506, 'wound': 4968, 'melancholy': 2771, 'royal': 3766, 'term': 4442, 'elegantly': 1403, 'caper': 609, 'contrivance': 920, 'resolution': 3649, 'hackneyed': 2001, 'tired': 4516, 'larson': 2521, 'jacob': 2385, 'couple': 961, 'unforgettable': 4700, 'blade': 436, 'certainly': 659, 'member': 2775, 'reel': 3578, 'traditional': 4566, 'introduce': 2350, 'sly': 4043, 'simpson': 3992, 'sensibility': 3878, 'unique': 4713, 'overly': 3123, 'melodramatic': 2774, 'mishmash': 2841, 'repeat': 3631, 'notice': 3023, 'sit': 4006, 'compelling': 838, 'le': 2538, 'novel': 3026, 'necessary': 2960, 'build': 561, 'absence': 7, 'development': 1185, 'idiocy': 2187, 'mess': 2792, 'suspect': 4355, 'parent': 3165, 'equally': 1488, 'compel': 837, 'scenario': 3829, 'irrelevant': 2371, 'perspective': 3227, 'attitude': 286, 'church': 734, 'polish': 3310, 'serious': 3892, 'toddler': 4525, 'velvet': 4771, 'painting': 3146, 'consider': 897, 'irresistible': 2372, 'realistically': 3544, 'tackle': 4386, 'grief': 1966, 'believable': 397, 'jessica': 2405, 'chastain': 691, 'imperfect': 2212, 'slow': 4040, 'erratic': 1492, 'return': 3673, 'burn': 573, 'stretch': 4244, 'running': 3773, 'cronenberg': 1005, 'angel': 174, 'style': 4268, 'danny': 1057, 'commentary': 824, 'guilty': 1991, 'intentional': 2328, 'unintentional': 4710, 'ala': 114, 'three': 4488, 'writer': 4976, 'lurch': 2657, 'magically': 2675, 'unexpectedly': 4693, 'crisp': 999, 'godfather': 1925, 'soul': 4100, 'keen': 2459, 'eastwood': 1367, 'delivers': 1124, 'artistry': 256, 'river': 3721, 'aficionado': 90, 'forward': 1785, 'besson': 413, 'standard': 4177, 'kill': 2474, 'silence': 3979, 'half': 2007, 'former': 1778, 'squad': 4160, 'wobbly': 4941, 'precisely': 3360, 'murder': 2917, 'window': 4919, 'complete': 847, 'gasp': 1860, 'entire': 1477, 'screening': 3844, 'adaptation': 54, 'effective': 1387, 'tearjerker': 4417, 'stay': 4192, 'infinity': 2276, 'sprawling': 4154, 'span': 4110, 'international': 2340, 'location': 2612, 'efficient': 1391, 'convincing': 930, 'transcend': 4575, 'friendship': 1815, 'animal': 182, 'fairly': 1618, 'broad': 541, 'astute': 277, 'childhood': 712, 'shannon': 3925, 'shade': 3913, 'deft': 1108, 'tragedy': 4568, 'proof': 3432, 'expert': 1572, 'copy': 942, 'chill': 714, 'undoubtedly': 4689, 'creature': 987, 'bride': 528, 'humorous': 2160, 'aside': 258, 'shock': 3942, 'tactic': 4387, 'awkward': 319, 'williams': 4912, 'sluggish': 4042, 'interested': 2331, 'unusual': 4732, 'oddly': 3056, 'satisfying': 3814, 'robert': 3729, 'langdon': 2514, 'chase': 690, 'novelist': 3027, 'los': 2628, 'angeles': 175, 'shoulder': 3953, 'handful': 2017, 'snappy': 4058, 'amuse': 163, 'overwhelm': 3127, 'seek': 3865, 'casual': 637, 'borderline': 487, 'risible': 3715, 'geek': 1864, 'fascinate': 1648, 'intellectual': 2317, 'mixed': 2850, 'bag': 333, 'bitter': 432, 'rivalry': 3720, 'dream': 1319, 'glory': 1918, 'team': 4415, 'belong': 400, 'vividly': 4818, 'satisfaction': 3812, 'finance': 1703, 'necessarily': 2959, 'politically': 3313, 'worry': 4960, 'deepen': 1099, 'racial': 3494, 'speech': 4123, 'empathetic': 1423, 'generous': 1872, 'highly': 2089, 'missed': 2844, 'ingredient': 2282, 'delightfully': 1121, 'sleek': 4028, 'bloat': 454, 'sibling': 3968, 'gritty': 1973, 'underbelly': 4672, 'backdrop': 324, 'relentlessly': 3606, 'profanity': 3419, 'consist': 900, 'brutal': 552, 'titanic': 4519, 'honest': 2121, 'continue': 915, 'revel': 3678, 'ups': 4739, 'emphasis': 1425, 'childish': 713, 'heat': 2063, 'tremendously': 4598, 'talented': 4393, 'room': 3754, 'improvise': 2229, 'remake': 3618, 'wrap': 4969, 'hundred': 2162, 'package': 3138, 'acknowledge': 36, 'decidedly': 1092, 'martin': 2715, 'march': 2706, 'injustice': 2289, 'sting': 4213, 'relevance': 3607, 'stirring': 4215, 'superlative': 4330, 'sharp': 3928, 'drum': 1335, 'fear': 1666, 'existence': 1561, 'suicide': 4308, 'club': 777, 'guess': 1987, 'constantly': 905, 'track': 4562, 'camp': 597, 'factor': 1608, 'ugly': 4646, 'barf': 352, 'nut': 3036, 'consistently': 902, 'unnerving': 4721, 'frustratingly': 1823, 'teenage': 4426, 'ta': 4384, 'superstar': 4333, 'teen': 4425, 'day': 1073, 'favor': 1661, 'stunt': 4264, 'basic': 360, 'hilarious': 2090, 'global': 1912, 'terrorism': 4450, 'cube': 1020, 'suitable': 4310, 'vaguely': 4751, 'ill': 2195, 'gimmicky': 1896, 'aspire': 262, 'collective': 799, 'tide': 4502, 'opinion': 3085, 'contemporary': 910, 'popular': 3323, 'gordon': 1934, 'poetic': 3299, 'independent': 2253, 'lowbrow': 2643, 'weirdly': 4877, 'vital': 4815, 'slice': 4032, 'lie': 2573, 'absorb': 11, 'highlight': 2088, 'ocean': 3053, 'worthy': 4966, 'hopefully': 2131, 'satisfy': 3813, 'award': 311, 'ritchie': 3718, 'cgi': 661, 'banter': 347, 'gas': 1859, 'conspiracy': 903, 'sky': 4021, 'thinly': 4473, 'implication': 2215, 'thin': 4469, 'layer': 2535, 'gender': 1866, 'recycled': 3569, 'predicament': 3364, 'cliff': 762, 'snake': 4056, 'monument': 2870, 'charge': 678, 'manages': 2693, 'monotonous': 2865, 'glance': 1901, 'wonder': 4947, 'lively': 2605, 'actress': 47, 'girl': 1897, 'buy': 582, 'andy': 172, 'trip': 4610, 'nature': 2951, 'perfect': 3213, 'concern': 868, 'communication': 830, 'responsibility': 3659, 'stark': 4181, 'vignette': 4797, 'frustration': 1824, 'loneliness': 2618, 'disappointment': 1229, 'happiness': 2028, 'industrial': 2263, 'accident': 23, 'father': 1658, 'thrillingly': 4492, 'incredibly': 2250, 'painfully': 3144, 'footage': 1762, 'front': 1818, 'flood': 1744, 'orange': 3091, 'suddenly': 4300, 'spring': 4156, 'shut': 3965, 'flail': 1726, 'swirl': 4374, 'turmoil': 4631, 'mission': 2845, 'bizarre': 434, 'journey': 2428, 'near': 2956, 'fat': 1654, 'trim': 4609, 'pad': 3139, 'ego': 1394, 'buddy': 557, 'superficial': 4325, 'unsatisfying': 4728, 'memorable': 2777, 'vision': 4810, 'mature': 2737, 'land': 2511, 'oliver': 3074, 'stone': 4218, 'alexander': 120, 'brad': 508, 'pitt': 3264, 'swear': 4363, 'sentimentality': 3886, 'share': 3927, 'triumph': 4613, 'devolve': 1189, 'oddball': 3055, 'lonely': 2619, 'island': 2376, 'fame': 1627, 'navigate': 2953, 'center': 653, 'bite': 431, 'incisive': 2239, 'preachy': 3357, 'america': 154, 'von': 4824, 'trier': 4605, 'tiresome': 4517, 'practical': 3351, 'symbol': 4377, 'feminist': 1676, 'low': 2642, 'inner': 2290, 'zero': 4994, 'motivate': 2891, 'tend': 4435, 'refuse': 3589, 'neat': 2958, 'intelligent': 2320, 'distinctive': 1262, 'detailed': 1176, 'buff': 559, 'devour': 1192, 'coppola': 941, 'evidence': 1526, 'noisy': 3004, 'jumbled': 2444, 'borat': 485, 'thankfully': 4459, 'bruno': 551, 'huge': 2151, 'praise': 3354, 'threaten': 4487, 'prepare': 3372, 'forest': 1769, 'iconography': 2180, 'middle': 2804, 'dardennes': 1058, 'fashion': 1651, 'accessible': 22, 'expose': 1585, 'terror': 4449, 'appeal': 221, 'common': 829, 'denominator': 1136, 'bar': 348, 'due': 1344, 'rating': 3525, 'friend': 1813, 'frustrating': 1822, 'dress': 1325, 'nine': 2995, 'party': 3177, 'enormous': 1461, 'subtlety': 4289, 'connection': 892, 'desperately': 1166, 'beat': 375, 'intention': 2327, 'passion': 3182, 'palpable': 3151, 'vanity': 4758, 'project': 3428, 'ready': 3539, 'pass': 3179, 'total': 4549, 'descent': 1155, 'comprehensive': 858, 'tour': 4554, 'circle': 740, 'evolution': 1531, 'steam': 4196, 'killer': 2475, 'pitch': 3262, 'shield': 3934, 'straw': 4236, 'thoroughly': 4479, 'average': 307, 'somewhat': 4086, 'mike': 2810, 'nichols': 2984, 'bin': 423, 'laden': 2506, 'stellar': 4200, 'alike': 127, 'jude': 2433, 'artificial': 252, 'construct': 906, 'implausible': 2214, 'christmas': 731, 'cliche': 760, 'spike': 4132, 'lee': 2549, 'rail': 3503, 'anna': 189, 'television': 4429, 'living': 2606, 'stun': 4261, 'celluloid': 652, 'hollow': 2114, 'essence': 1501, 'telling': 4431, 'hardwicke': 2034, 'absolutely': 10, 'table': 4385, 'palette': 3149, 'invest': 2358, 'essentially': 1503, 'saint': 3793, 'obviously': 3049, 'mood': 2872, 'logic': 2615, 'static': 4189, 'presentation': 3377, 'questionable': 3482, 'aim': 107, 'incite': 2240, 'paranoia': 3163, 'theory': 4466, 'argument': 239, 'conflict': 882, 'similar': 3984, 'especially': 1499, 'realization': 3546, 'explain': 1574, 'conception': 867, 'import': 2216, 'accomplish': 26, 'depict': 1145, 'cultural': 1023, 'revolution': 3689, 'comparison': 835, 'cinematic': 737, 'legend': 2554, 'supply': 4334, 'stunning': 4263, 'exciting': 1549, 'undeniable': 4670, 'red': 3570, 'fair': 1617, 'timeless': 4509, 'friendly': 1814, 'notion': 3024, 'white': 4898, 'pay': 3197, 'money': 2862, 'mad': 2668, 'dash': 1065, 'neeson': 2964, 'win': 4917, 'oscar': 3098, 'position': 3330, 'favourite': 1664, 'redemption': 3572, 'british': 540, 'gear': 1863, 'kennedy': 2463, 'tender': 4437, 'devastate': 1181, 'supreme': 4338, 'kindness': 2479, 'darkly': 1063, 'slave': 4027, 'rule': 3769, 'cameo': 593, 'religion': 3611, 'roll': 3741, 'purge': 3466, 'house': 2145, 'bunny': 568, 'blonde': 458, 'root': 3755, 'frankly': 1802, 'straight': 4227, 'transition': 4580, 'acceptance': 20, 'pop': 3321, 'charlie': 682, 'pour': 3346, 'grant': 1951, 'audrey': 293, 'natural': 2949, 'sophisticated': 4093, 'slowly': 4041, 'finger': 1709, 'establishment': 1506, 'tug': 4628, 'heartstrings': 2061, 'unfortunately': 4703, 'support': 4335, 'ballast': 340, 'excessive': 1546, 'subplots': 4282, 'kevin': 2465, 'casting': 636, 'elevate': 1406, 'effervescent': 1389, 'seth': 3900, 'elizabeth': 1408, 'bank': 346, 'modest': 2857, 'massively': 2724, 'successful': 4295, 'remember': 3621, 'idiosyncrasy': 2188, 'mckay': 2748, 'refusal': 3588, 'branagh': 512, 'wicked': 4902, 'cold': 793, 'literary': 2601, 'jane': 2390, 'initially': 2287, 'nonsense': 3011, 'sandler': 3802, 'virtually': 4806, 'soon': 4092, 'shy': 3966, 'origin': 3095, 'convincingly': 931, 'carefully': 620, 'choose': 724, 'represent': 3639, 'conviction': 928, 'rich': 3698, 'philosophy': 3238, 'ray': 3533, 'beauty': 378, 'mere': 2786, 'potentially': 3343, 'crew': 994, 'precious': 3358, 'anybody': 206, 'grip': 1970, 'steer': 4199, 'wheel': 4887, 'depend': 1144, 'edition': 1380, 'impressive': 2224, 'blood': 459, 'none': 3009, 'performer': 3217, 'hank': 2025, 'treatment': 4594, 'joe': 2411, 'classroom': 751, 'obsession': 3046, 'remarkably': 3620, 'typical': 4643, 'trapping': 4584, 'universal': 4714, 'affair': 83, 'loyalty': 2644, 'campaign': 598, 'panther': 3156, 'lewis': 2570, 'complicated': 852, 'category': 640, 'fact': 1607, 'possess': 3333, 'familiarity': 1630, 'spot': 4150, 'ethan': 1509, 'hawke': 2048, 'ideal': 2182, 'fabulous': 1603, 'squeeze': 4164, 'besides': 412, 'flash': 1729, 'bore': 488, 'joy': 2429, 'warmth': 4845, 'sincerity': 3997, 'fascinating': 1649, 'aspect': 260, 'examination': 1535, 'process': 3413, 'overwrought': 3130, 'faithful': 1622, 'medical': 2761, 'economic': 1373, 'establish': 1505, 'map': 2704, 'denzel': 1141, 'basis': 362, 'lord': 2626, 'christopher': 732, 'miller': 2818, 'transform': 4576, 'unlikely': 4719, 'wonderful': 4948, 'cruel': 1014, 'gentle': 1876, 'inhabitant': 2284, 'pas': 3178, 'load': 2607, 'meaning': 2753, 'notorious': 3025, 'exceptional': 1544, 'increase': 2247, 'price': 3392, 'jason': 2394, 'statham': 4188, 'alan': 115, 'generation': 1870, 'humour': 2161, 'trek': 4596, 'uncertain': 4660, 'wreck': 4970, 'unnecessary': 4720, 'canon': 606, 'gangster': 1853, 'cynical': 1039, 'understand': 4680, 'greatness': 1961, 'heist': 2070, 'sappy': 3806, 'blandness': 444, 'inventive': 2356, 'cat': 638, 'screenwriting': 3847, 'duty': 1352, 'wachowski': 4829, 'disappear': 1224, 'rabbit': 3491, 'hole': 2112, 'matrix': 2733, 'mild': 2811, 'surprisingly': 4347, 'homage': 2118, 'rough': 3760, 'verge': 4776, 'exploitation': 1579, 'maggie': 2672, 'tricky': 4604, 'pick': 3248, 'bittersweet': 433, 'motherhood': 2888, 'hilariously': 2091, 'onscreen': 3076, 'obvious': 3048, 'guest': 1988, 'likeable': 2584, 'chuckle': 733, 'slacker': 4022, 'spell': 4125, 'philosophical': 3237, 'allegory': 130, 'pit': 3261, 'cruise': 1016, 'told': 4529, 'enliven': 1460, 'wave': 4860, 'science': 3837, 'painful': 3143, 'uninteresting': 4712, 'vengeance': 4773, 'concession': 871, 'riveting': 3723, 'territory': 4448, 'previously': 3390, 'unexplored': 4694, 'imagination': 2199, 'saccharine': 3782, 'realism': 3542, 'promise': 3429, 'halfway': 2008, 'pacing': 3135, 'usually': 4745, 'frenetic': 1809, 'kiddie': 2470, 'conscience': 893, 'runtime': 3774, 'exhaust': 1555, 'require': 3641, 'suspension': 4358, 'disbelief': 1232, 'willing': 4913, 'meticulously': 2799, 'clue': 778, 'revelation': 3679, 'detective': 1177, 'frank': 1801, 'exposition': 1586, 'multiple': 2911, 'dismiss': 1248, 'switch': 4375, 'costner': 952, 'express': 1587, 'hat': 2043, 'plodding': 3292, 'vicious': 4788, 'davy': 1071, 'bale': 338, 'herzog': 2083, 'reluctant': 3615, 'despair': 1164, 'harrow': 2038, 'sensitive': 3880, 'collaboration': 795, 'delicate': 1116, 'construction': 907, 'top': 4542, 'significance': 3976, 'asian': 257, 'jon': 2421, 'phenomenal': 3234, 'joyful': 2430, 'trope': 4615, 'summer': 4314, 'tad': 4388, 'becomes': 380, 'central': 654, 'elaborate': 1398, 'trap': 4583, 'uncle': 4661, 'arrive': 246, 'storytelling': 4226, 'impressively': 2225, 'gang': 1852, 'brisk': 538, 'surfer': 4343, 'sticky': 4209, 'schmaltz': 3833, 'carrie': 627, 'laughable': 2528, 'budget': 558, 'scattershot': 3828, 'moore': 2876, 'blatantly': 448, 'astonishing': 275, 'regret': 3593, 'inevitable': 2269, 'hair': 2005, 'firmly': 1714, 'control': 923, 'intellect': 2316, 'episodic': 1486, 'fully': 1830, 'sincere': 3996, 'tradition': 4565, 'nuance': 3030, 'minor': 2827, 'key': 2466, 'tragically': 4570, 'baumbach': 367, 'previous': 3389, 'recapture': 3556, 'pave': 3196, 'michael': 2801, 'fassbender': 1652, 'bend': 404, 'sheer': 3931, 'sustain': 4359, 'happy': 2029, 'vast': 4764, 'discussion': 1238, 'luminous': 2655, 'macho': 2667, 'cheeky': 696, 'wink': 4920, 'specifically': 4119, 'clash': 748, 'titan': 4518, 'assemblage': 265, 'odds': 3057, 'grasp': 1954, 'anticipate': 201, 'name': 2937, 'content': 912, 'pride': 3395, 'lay': 2534, 'warn': 4846, 'lavish': 2531, 'sensual': 3882, 'endlessly': 1439, 'fetishism': 1682, 'provocative': 3444, 'willingness': 4914, 'loud': 2634, 'ignore': 2192, 'tea': 4412, 'dude': 1343, 'touching': 4552, 'host': 2140, 'theater': 4461, 'hunger': 2163, 'polar': 3308, 'winter': 4923, 'alone': 135, 'southern': 4108, 'buoyant': 571, 'alive': 128, 'accompany': 25, 'outing': 3108, 'possession': 3334, 'firepower': 1712, 'ensemble': 1465, 'wish': 4929, 'depress': 1148, 'person': 3223, 'hbo': 2050, 'biographical': 424, 'borrow': 491, 'glimpse': 1910, 'doom': 1290, 'ring': 3712, 'component': 855, 'trial': 4599, 'lone': 2617, 'contender': 911, 'candidate': 602, 'sommers': 4088, 'crib': 995, 'mock': 2853, 'dislike': 1246, 'regard': 3590, 'invention': 2355, 'intermittent': 2337, 'iq': 2362, 'retire': 3670, 'extremely': 1598, 'dangerous': 1054, 'emily': 1417, 'astound': 276, 'michelle': 2802, 'pfeiffer': 3233, 'kathy': 2455, 'bates': 364, 'cartoonish': 631, 'smug': 4055, 'fatally': 1656, 'consistent': 901, 'degenerate': 1111, 'soap': 4063, 'opera': 3083, 'impression': 2222, 'torture': 4546, 'raid': 3501, 'leaden': 2540, 'guilt': 1990, 'betrayal': 417, 'unknown': 4716, 'realize': 3547, 'tuck': 4626, 'ireland': 2365, 'irish': 2366, 'dig': 1205, 'anachronism': 168, 'sign': 3973, 'cameron': 596, 'crowe': 1009, 'toxic': 4559, 'advance': 77, 'buzz': 583, 'dizzy': 1275, 'viewing': 4796, 'incredible': 2249, 'circumstance': 741, 'surround': 4350, 'expense': 1567, 'sexual': 3908, 'boa': 465, 'kick': 2467, 'assortment': 269, 'vintage': 4803, 'crasher': 977, 'car': 614, 'bay': 368, 'dumb': 1346, 'crack': 967, 'falter': 1626, 'boys': 506, 'lighting': 2580, 'composition': 857, 'nicholson': 2985, 'opt': 3089, 'rent': 3630, 'product': 3416, 'significantly': 3978, 'italian': 2378, 'countryside': 960, 'echo': 1372, 'sentiment': 3884, 'skewer': 4014, 'satirize': 3811, 'brutally': 554, 'ramsay': 3511, 'lean': 2542, 'trauma': 4587, 'grim': 1967, 'marvel': 2716, 'upon': 4738, 'taste': 4406, 'notch': 3019, 'coarse': 783, 'hughes': 2154, 'ranger': 3515, 'closer': 772, 'slick': 4033, 'platitude': 3277, 'bear': 372, 'sum': 4313, 'everybody': 1522, 'blandly': 443, 'influential': 2277, 'politician': 3314, 'separate': 3887, 'coast': 784, 'mainly': 2679, 'worthington': 4964, 'wooden': 4952, 'mendes': 2782, 'bardem': 349, 'plumb': 3296, 'ton': 4536, 'hitman': 2105, 'agent': 98, 'nonsensical': 3012, 'evident': 1527, 'admirable': 64, 'nolan': 3005, 'floor': 1745, 'dancing': 1052, 'chaos': 672, 'resonance': 3651, 'amid': 157, 'complement': 846, 'pulp': 3454, 'manner': 2700, 'quietly': 3486, 'horizon': 2134, 'information': 2278, 'probably': 3408, 'indie': 2258, 'invite': 2360, 'local': 2609, 'color': 801, 'blah': 437, 'reductive': 3575, 'akin': 112, 'thought': 4481, 'conclude': 872, 'york': 4988, 'interestingly': 2333, 'jack': 2381, 'explicit': 1576, 'suave': 4275, 'jock': 2409, 'oldboy': 3072, 'recognize': 3563, 'climax': 764, 'ferrell': 1679, 'playground': 3282, 'diversion': 1269, 'dreamworks': 1321, 'animation': 185, 'shrek': 3960, 'area': 235, 'stagger': 4169, 'trust': 4622, 'forge': 1771, 'collaborator': 796, 'kidnapping': 2473, 'seldom': 3868, 'funnier': 1836, 'convolute': 932, 'correct': 949, 'pageant': 3141, 'demonstrate': 1132, 'grotesque': 1976, 'winner': 4921, 'imax': 2202, 'wallow': 4838, 'horrific': 2137, 'judging': 2435, 'biography': 425, 'una': 4652, 'hardly': 2033, 'taut': 4409, 'test': 4453, 'boat': 468, 'plenty': 3289, 'topic': 4543, 'doc': 1277, 'parade': 3161, 'flop': 1746, 'coherent': 791, 'subplot': 4281, 'swing': 4373, 'blame': 440, 'meander': 2752, 'odyssey': 3058, 'devastation': 1183, 'porn': 3324, 'mythology': 2933, 'breathless': 522, 'heartwarming': 2062, 'netflix': 2970, 'later': 2525, 'silver': 3983, 'lake': 2508, 'confusing': 888, 'frustrate': 1821, 'hypnotic': 2174, 'teeth': 4428, 'inventiveness': 2357, 'hug': 2150, 'avenge': 305, 'challenging': 664, 'slog': 4038, 'honesty': 2123, 'fade': 1610, 'future': 1844, 'richard': 3699, 'linklater': 2593, 'fictional': 1687, 'choice': 722, 'card': 615, 'eat': 1369, 'disappoint': 1225, 'bromance': 544, 'washington': 4853, 'usual': 4744, 'afraid': 92, 'santa': 3804, 'frequently': 1810, 'instinct': 2312, 'australian': 297, 'save': 3817, 'ambiguous': 150, 'interpretation': 2343, 'heroism': 2082, 'grate': 1955, 'depiction': 1146, 'chance': 668, 'cheap': 693, 'assume': 270, 'cranston': 973, 'nomination': 3007, 'recognition': 3561, 'die': 1198, 'shame': 3919, 'ad': 50, 'pig': 3253, 'introduction': 2351, 'absent': 8, 'scheme': 3832, 'drag': 1306, 'swell': 4371, 'assault': 264, 'six': 4009, 'taraji': 4401, 'mel': 2769, 'single': 4000, 'curiosity': 1028, 'lens': 2560, 'awe': 315, 'inspiring': 2306, 'provoke': 3445, 'asset': 267, 'four': 1790, 'horrible': 2135, 'realm': 3549, 'actively': 43, 'unbearable': 4658, 'example': 1537, 'slender': 4031, 'apply': 226, 'drab': 1304, 'blue': 463, 'creepy': 992, 'frame': 1796, 'tune': 4629, 'polanski': 3307, 'major': 2683, 'woo': 4950, 'indulge': 2260, 'gag': 1845, 'double': 1296, 'triple': 4611, 'eight': 1395, 'nominee': 3008, 'clint': 766, 'academy': 17, 'gold': 1928, 'garden': 1856, 'travelogue': 4591, 'drug': 1334, 'forster': 1783, 'gothic': 1940, 'brilliantly': 534, 'capacity': 608, 'vulnerability': 4827, 'skin': 4017, 'lifeless': 2575, 'abundance': 15, 'parker': 3169, 'merciless': 2785, 'shocker': 3943, 'snyder': 4062, 'monumental': 2871, 'belt': 402, 'plight': 3290, 'ordinary': 3093, 'fantastic': 1638, 'warrior': 4850, 'adolescent': 70, 'moral': 2877, 'complication': 853, 'ken': 2462, 'drunken': 1337, 'charmingly': 688, 'ferrara': 1678, 'remotely': 3626, 'resemble': 3644, 'uma': 4650, 'da': 1041, 'filme': 1695, 'carell': 621, 'em': 1412, 'retread': 3671, 'holiday': 2113, 'manipulation': 2696, 'cooper': 938, 'terrifying': 4447, 'pacino': 3136, 'ravish': 3531, 'fire': 1711, 'excite': 1547, 'workmanlike': 4957, 'poor': 3319, 'transformer': 4579, 'massive': 2723, 'explode': 1577, 'subculture': 4277, 'sag': 3791, 'current': 1031, 'mode': 2854, 'excellence': 1541, 'invent': 2354, 'ford': 1767, 'precise': 3359, 'willis': 4915, 'ease': 1364, 'nobody': 3000, 'bother': 493, 'inevitably': 2270, 'false': 1625, 'hugh': 2153, 'pain': 3142, 'lengthy': 2559, 'awesome': 316, 'monotony': 2866, 'guarantee': 1985, 'plug': 3295, 'directly': 1219, 'glib': 1907, 'charmer': 686, 'impress': 2221, 'eddie': 1375, 'murphy': 2919, 'daisy': 1046, 'presumably': 3383, 'labour': 2500, 'pedigree': 3205, 'tantalize': 4399, 'bounce': 496, 'catharsis': 641, 'osmosis': 3099, 'daring': 1060, 'alice': 123, 'preposterous': 3373, 'youtube': 4992, 'earn': 1361, 'jerk': 2403, 'sensuality': 3883, 'adorable': 71, 'atmospheric': 280, 'odd': 3054, 'behavior': 389, 'town': 4558, 'reckon': 3560, 'primer': 3400, 'object': 3037, 'valentine': 4752, 'marshall': 2714, 'bunch': 567, 'sitcom': 4007, 'ugliness': 4645, 'outlandish': 3109, 'captivate': 611, 'open': 3080, 'forgive': 1774, 'unappealing': 4656, 'mixture': 2851, 'psychodrama': 3448, 'cope': 940, 'crappy': 975, 'deadpan': 1080, 'behaviour': 391, 'judge': 2434, 'chamber': 665, 'letter': 2568, 'gore': 1935, 'tom': 4533, 'rock': 3733, 'tap': 4400, 'adam': 52, 'confuse': 886, 'unlike': 4718, 'concert': 870, 'pungent': 3461, 'flashback': 1730, 'alien': 124, 'carpenter': 625, 'gift': 1891, 'contrive': 921, 'extend': 1591, 'crush': 1017, 'strictly': 4245, 'plotting': 3294, 'passage': 3181, 'relentless': 3605, 'pause': 3195, 'knock': 2488, 'sideways': 3971, 'interminable': 2336, 'ryan': 3781, 'january': 2391, 'frightening': 1817, 'sea': 3851, 'feat': 1669, 'strand': 4230, 'weave': 4869, 'tangle': 4398, 'choke': 723, 'bone': 481, 'dinosaur': 1214, 'flower': 1749, 'shine': 3938, 'clumsy': 781, 'formidable': 1779, 'bask': 363, 'charles': 681, 'joaquin': 2407, 'johnny': 2414, 'holy': 2117, 'bowl': 501, 'deadpool': 1081, 'horribly': 2136, 'handsome': 2020, 'barry': 357, 'measure': 2757, 'grave': 1957, 'disposable': 1254, 'undemanding': 4669, 'diverting': 1272, 'energetic': 1443, 'empowerment': 1428, 'disappointingly': 1228, 'translate': 4581, 'cage': 588, 'passable': 3180, 'wildly': 4910, 'gloria': 1915, 'accomplished': 27, 'jung': 2446, 'structure': 4254, 'mute': 2927, 'jar': 2393, 'tonal': 4537, 'shift': 3935, 'restraint': 3665, 'excess': 1545, 'irreverence': 2374, 'baroque': 355, 'stylistically': 4272, 'domestic': 1286, 'stylistic': 4271, 'urgency': 4742, 'resonate': 3653, 'turkey': 4630, 'rancid': 3512, 'cook': 935, 'motif': 2889, 'instantly': 2310, 'offbeat': 3060, 'rival': 3719, 'scope': 3838, 'mirror': 2833, 'hip': 2095, 'irony': 2369, 'raucous': 3528, 'exhilarate': 1558, 'fable': 1602, 'payne': 3198, 'bloated': 455, 'trace': 4561, 'airport': 110, 'bully': 566, 'community': 831, 'amidst': 158, 'stab': 4165, 'available': 304, 'basically': 361, 'terrific': 4445, 'docudrama': 1279, 'disappointed': 1226, 'meryl': 2789, 'streep': 4240, 'adapt': 53, 'nimble': 2994, 'villeneuve': 4801, 'distinguish': 1264, 'runner': 3772, 'news': 2977, 'ok': 3069, 'carnage': 623, 'lacklustre': 2505, 'distinction': 1261, 'replace': 3635, 'paranormal': 3164, 'activity': 45, 'sleep': 4029, 'audacious': 290, 'engross': 1451, 'quentin': 3479, 'tarantino': 4402, 'flawless': 1736, 'voice': 4820, 'ingenious': 2281, 'weapon': 4866, 'assemble': 266, 'hoffman': 2106, 'authentic': 299, 'complaint': 845, 'concentrate': 865, 'lush': 2660, 'anticlimactic': 202, 'loosely': 2625, 'taylor': 4411, 'damn': 1049, 'steal': 4195, 'today': 4523, 'pulpy': 3455, 'colin': 794, 'farrell': 1644, 'rehash': 3594, 'experiment': 1570, 'fit': 1718, 'exploitative': 1580, 'tolerance': 4531, 'understanding': 4682, 'freedom': 1806, 'minimalist': 2824, 'bruce': 550, 'jackie': 2382, 'chan': 667, 'parable': 3160, 'tight': 4505, 'nonetheless': 3010, 'lift': 2577, 'robbie': 3728, 'naked': 2936, 'generally': 1868, 'target': 4403, 'gratuitous': 1956, 'rotten': 3759, 'motion': 2890, 'hire': 2097, 'spencer': 4126, 'spout': 4152, 'daniel': 1055, 'tower': 4557, 'totally': 4550, 'bullet': 564, 'sloppy': 4039, 'occasional': 3051, 'web': 4870, 'typically': 4644, 'farrelly': 1645, 'lap': 2516, 'sweetly': 4369, 'dish': 1241, 'donner': 1289, 'superman': 4331, 'punch': 3459, 'drunk': 1336, 'confused': 887, 'steady': 4194, 'walk': 4834, 'priceless': 3393, 'resistance': 3647, 'futile': 1842, 'van': 4756, 'soderbergh': 4070, 'glimmer': 1909, 'destine': 1171, 'colour': 804, 'witch': 4932, 'desperation': 1167, 'endeavor': 1437, 'earth': 1363, 'strength': 4242, 'participant': 3172, 'um': 4649, 'mais': 2682, 'que': 3476, 'para': 3159, 'sexy': 3911, 'five': 1721, 'hook': 2126, 'calculate': 591, 'interaction': 2329, 'myers': 2928, 'fellow': 1673, 'beach': 370, 'careful': 619, 'gogh': 1927, 'haunt': 2046, 'strategy': 4235, 'animate': 183, 'perfunctory': 3218, 'flag': 1725, 'triangle': 4600, 'ball': 339, 'playing': 3283, 'nicholas': 2983, 'sympathetic': 4380, 'method': 2798, 'breathe': 521, 'rivet': 3722, 'dated': 1067, 'difference': 1201, 'zhang': 4995, 'revisit': 3687, 'backstage': 326, 'ghastly': 1885, 'rape': 3517, 'screenwriter': 3846, 'lesson': 2564, 'criminal': 997, 'regardless': 3591, 'trigger': 4607, 'leg': 2551, 'fundamental': 1834, 'god': 1924, 'slide': 4034, 'daddy': 1043, 'juvenile': 2452, 'laughably': 2529, 'encounter': 1432, 'twilight': 4636, 'vampire': 4755, 'dinner': 1213, 'prejudice': 3370, 'inherent': 2285, 'vice': 4787, 'jennifer': 2401, 'prop': 3433, 'flimsy': 1742, 'lust': 2661, 'command': 822, 'enchant': 1431, 'recreate': 3567, 'burst': 574, 'confront': 884, 'brutality': 553, 'transformation': 4577, 'unearned': 4690, 'thinking': 4472, 'reynolds': 3694, 'pointless': 3304, 'loving': 2640, 'canadian': 600, 'smarter': 4047, 'morality': 2878, 'overcome': 3118, 'trilogy': 4608, 'bang': 345, 'department': 1142, 'code': 786, 'victoria': 4790, 'gimmick': 1895, 'toy': 4560, 'finely': 1707, 'suffering': 4302, 'potter': 3344, 'batman': 365, 'swallow': 4360, 'apparently': 220, 'characterization': 677, 'idiotic': 2191, 'marketing': 2710, 'artistic': 255, 'downey': 1301, 'business': 577, 'potential': 3342, 'sameness': 3799, 'jolie': 2418, 'wayne': 4862, 'blair': 438, 'complexity': 850, 'seamless': 3852, 'flow': 1748, 'lazily': 2536, 'connect': 891, 'dramedy': 1312, 'equal': 1487, 'crown': 1010, 'emmerich': 1419, 'wartime': 4851, 'robot': 3731, 'trade': 4564, 'respectable': 3656, 'misguided': 2840, 'phillips': 3236, 'hardcore': 2032, 'twisted': 4639, 'inferior': 2274, 'psychological': 3449, 'howl': 2148, 'laughter': 2530, 'denis': 1134, 'tiny': 4513, 'chess': 705, 'donald': 1288, 'demon': 1131, 'reward': 3692, 'league': 2541, 'roller': 3742, 'coaster': 785, 'shyamalan': 3967, 'jump': 2445, 'ship': 3941, 'gunplay': 1993, 'aplenty': 215, 'billy': 422, 'identify': 2184, 'relate': 3598, 'appreciation': 228, 'jackson': 2384, 'stephen': 4203, 'downbeat': 1299, 'unable': 4654, 'resist': 3646, 'mr': 2904, 'presence': 3375, 'fulfillment': 1828, 'rogen': 3737, 'contribute': 918, 'churn': 735, 'stock': 4217, 'range': 3514, 'middling': 2805, 'ethnic': 1511, 'vibrancy': 4785, 'menace': 2781, 'visit': 4811, 'patrick': 3192, 'plausible': 3278, 'perry': 3222, 'niche': 2982, 'office': 3064, 'service': 3897, 'seriously': 3893, 'sacrifice': 3783, 'gross': 1975, 'fly': 1751, 'outstay': 3114, 'cynicism': 1040, 'melancholic': 2770, 'hardy': 2035, 'twice': 4635, 'groove': 1974, 'claustrophobic': 753, 'woodley': 4953, 'symbolic': 4378, 'wake': 4833, 'protracted': 3439, 'fest': 1680, 'competition': 844, 'degree': 1112, 'cruelty': 1015, 'jackman': 2383, 'wolverine': 4945, 'wig': 4906, 'scandal': 3822, 'wannabe': 4841, 'jean': 2398, 'technology': 4422, 'mouth': 2897, 'farce': 1641, 'byrne': 585, 'sing': 3998, 'toro': 4545, 'pan': 3152, 'labyrinth': 2501, 'misstep': 2846, 'cousin': 965, 'rachel': 3493, 'dopey': 1293, 'lesbian': 2562, 'intrigue': 2348, 'overstuffed': 3125, 'frozen': 1820, 'misery': 2837, 'matthew': 2736, 'bright': 531, 'cheerful': 698, 'fever': 1683, 'iii': 2194, 'thematic': 4464, 'rattle': 3527, 'habit': 2000, 'awareness': 312, 'awfully': 318, 'antic': 200, 'intimacy': 2345, 'chef': 702, 'failed': 1612, 'attraction': 288, 'west': 4884, 'directorial': 1221, 'foolish': 1760, 'showcase': 3956, 'danish': 1056, 'oldman': 3073, 'veteran': 4782, 'astonish': 274, 'fracture': 1794, 'mistake': 2847, 'condition': 875, 'electrify': 1401, 'henry': 2076, 'contradiction': 916, 'distance': 1257, 'gaze': 1862, 'edgy': 1377, 'interpersonal': 2342, 'sinister': 4003, 'undercurrent': 4674, 'band': 344, 'animator': 186, 'inside': 2296, 'moviegoer': 2901, 'board': 466, 'kutcher': 2496, 'vega': 4768, 'sciamma': 3836, 'favour': 1663, 'davis': 1070, 'compliment': 854, 'muster': 2925, 'spirited': 4138, 'mundane': 2915, 'ron': 3751, 'howard': 2146, 'benefit': 406, 'bodyguard': 472, 'fragment': 1795, 'gloriously': 1917, 'wild': 4909, 'weakness': 4864, 'tarzan': 4404, 'douglas': 1298, 'principal': 3403, 'witherspoon': 4933, 'slip': 4037, 'stupidity': 4266, 'refer': 3580, 'newman': 2976, 'routine': 3764, 'allege': 129, 'rogue': 3739, 'speed': 4124, 'runaway': 3771, 'polished': 3311, 'roman': 3744, 'rapidly': 3518, 'witness': 4937, 'stylize': 4273, 'wide': 4903, 'expression': 1588, 'stumble': 4260, 'pitfall': 3263, 'biopics': 427, 'mummy': 2914, 'bomb': 478, 'secret': 3862, 'pet': 3230, 'minus': 2828, 'pixar': 3266, 'cleverness': 759, 'path': 3188, 'salt': 3796, 'snapshot': 4059, 'albeit': 117, 'gain': 1846, 'guardian': 1986, 'bet': 415, 'baz': 369, 'reveals': 3677, 'brainless': 511, 'todd': 4524, 'solondz': 4077, 'mill': 2817, 'steven': 4206, 'mildly': 2812, 'predictably': 3368, 'fake': 1623, 'firework': 1713, 'spotlight': 4151, 'dreamy': 1322, 'spectacular': 4121, 'simplistic': 3990, 'longing': 2622, 'fuel': 1826, 'disjointed': 1245, 'legal': 2553, 'enlighten': 1458, 'phony': 3241, 'intense': 2323, 'sour': 4105, 'racism': 3495, 'plague': 3270, 'defeat': 1102, 'smack': 4044, 'north': 3014, 'military': 2816, 'nicolas': 2987, 'definition': 1106, 'spice': 4129, 'numerous': 3035, 'stitch': 4216, 'ponderous': 3317, 'gravitas': 1958, 'butler': 579, 'note': 3020, 'strongly': 4253, 'shrug': 3963, 'surrender': 4349, 'medium': 2766, 'babe': 321, 'busy': 578, 'craig': 970, 'whip': 4896, 'paste': 3185, 'accept': 19, 'possibility': 3335, 'landscape': 2512, 'movement': 2899, 'proper': 3436, 'tepid': 4441, 'pose': 3329, 'keenly': 2460, 'chemical': 703, 'masterful': 2726, 'transformative': 4578, 'anchor': 169, 'barrage': 356, 'ostensibly': 3100, 'silent': 3980, 'enigmatic': 1453, 'abstract': 12, 'yarn': 4981, 'labor': 2498, 'angelina': 176, 'brave': 516, 'sonic': 4091, 'prevent': 3388, 'heartbreak': 2057, 'puzzle': 3472, 'anywhere': 211, 'disjoint': 1244, 'helm': 2074, 'confidence': 878, 'chair': 662, 'hugely': 2152, 'subtly': 4290, 'revelatory': 3680, 'reminiscent': 3624, 'relief': 3609, 'warp': 4848, 'misfire': 2838, 'bedroom': 382, 'startle': 4184, 'craze': 979, 'maker': 2686, 'pander': 3153, 'restore': 3663, 'snow': 4061, 'vulnerable': 4828, 'conceit': 863, 'magnificent': 2677, 'legendary': 2555, 'welles': 4880, 'nick': 2986, 'nolte': 3006, 'esta': 1504, 'comical': 820, 'aspiration': 261, 'princess': 3402, 'fairytale': 1620, 'chapter': 674, 'sam': 3798, 'chilly': 717, 'roger': 3738, 'list': 2595, 'check': 695, 'infinitely': 2275, 'fanciful': 1636, 'honor': 2124, 'redeem': 3571, 'deflate': 1107, 'explosive': 1584, 'purity': 3467, 'knack': 2486, 'forth': 1784, 'soapy': 4064, 'intend': 2322, 'leap': 2543, 'inappropriate': 2233, 'incoherent': 2242, 'london': 2616, 'admit': 67, 'barrymore': 358, 'computer': 860, 'ticket': 4500, 'agree': 102, 'worse': 4961, 'gray': 1959, 'definitely': 1105, 'widow': 4904, 'gal': 1847, 'lara': 2517, 'exhaustively': 1556, 'matt': 2734, 'johnson': 2415, 'shooting': 3947, 'lumber': 2654, 'overload': 3120, 'gay': 1861, 'midnight': 2806, 'characterisation': 676, 'infuse': 2280, 'brilliance': 532, 'void': 4821, 'thousand': 4484, 'unfunny': 4704, 'commitment': 827, 'toilet': 4527, 'repetition': 3633, 'mar': 2705, 'attack': 282, 'mediocrity': 2763, 'unwieldy': 4734, 'devote': 1190, 'endurance': 1440, 'dracula': 1305, 'religious': 3612, 'pen': 3208, 'actioner': 42, 'campy': 599, 'glorious': 1916, 'whereas': 4889, 'conversation': 926, 'pattern': 3193, 'godzilla': 1926, 'escapism': 1496, 'corny': 946, 'primarily': 3398, 'tough': 4553, 'vin': 4802, 'diesel': 1199, 'variant': 4760, 'rouse': 3762, 'scant': 3823, 'awkwardly': 320, 'realise': 3541, 'eventual': 1518, 'comeuppance': 815, 'scorsese': 3840, 'priest': 3396, 'artful': 248, 'cg': 660, 'improve': 2227, 'mechanical': 2760, 'factory': 1609, 'maudlin': 2739, 'melissa': 2772, 'adhere': 61, 'distinct': 1260, 'meter': 2797, 'clinton': 767, 'guru': 1994, 'appropriate': 230, 'directing': 1217, 'item': 2379, 'chaotic': 673, 'gifted': 1892, 'producer': 3415, 'misgiving': 2839, 'hustle': 2169, 'skilled': 4016, 'meg': 2768, 'delirious': 1122, 'baffle': 332, 'elba': 1399, 'hogan': 2107, 'writing': 4977, 'lucy': 2649, 'fisher': 1717, 'pratfall': 3355, 'uncomfortable': 4663, 'ethel': 1510, 'sprawl': 4153, 'garish': 1857, 'enterprise': 1469, 'engaging': 1447, 'incomprehensible': 2244, 'heroic': 2080, 'noble': 2999, 'rude': 3767, 'ivan': 2380, 'reitman': 3596, 'fifth': 1689, 'raunch': 3529, 'judd': 2432, 'apatow': 213, 'junk': 2448, 'drain': 1308, 'smell': 4049, 'rely': 3616, 'random': 3513, 'locate': 2611, 'vaughn': 4765, 'drink': 1327, 'behold': 393, 'lane': 2513, 'winning': 4922, 'self': 3869, 'bogged': 474, 'dodgy': 1282, 'punctuate': 3460, 'instance': 2308, 'ludicrous': 2650, 'ferocious': 1677, 'comfort': 816, 'suburban': 4291, 'curse': 1032, 'dad': 1042, 'comfortably': 818, 'bill': 421, 'join': 2416, 'derive': 1153, 'pi': 3245, 'succeed': 4293, 'pair': 3147, 'dreamlike': 1320, 'burden': 572, 'darker': 1062, 'futility': 1843, 'afloat': 91, 'psyche': 3447, 'fool': 1759, 'fury': 1840, 'enlightenment': 1459, 'poop': 3318, 'hey': 2084, 'food': 1758, 'nightmare': 2991, 'heartless': 2060, 'gesture': 1883, 'quick': 3483, 'accomplishment': 28, 'making': 2688, 'endure': 1441, 'farm': 1643, 'sketchy': 4013, 'innovation': 2293, 'unclear': 4662, 'friday': 1812, 'thread': 4485, 'fulfil': 1827, 'receive': 3557, 'largely': 2519, 'buoy': 570, 'larry': 2520, 'aplomb': 216, 'sorority': 4097, 'shrewd': 3961, 'harsh': 2041, 'spooky': 4147, 'gorgeously': 1937, 'grandeur': 1950, 'flesh': 1738, 'fright': 1816, 'hathaway': 2045, 'nuanced': 3031, 'departure': 1143, 'lighthearted': 2579, 'college': 800, 'ounce': 3104, 'physical': 3243, 'constant': 904, 'jeff': 2399, 'naturalistic': 2950, 'deeper': 1100, 'poorly': 3320, 'mileage': 2814, 'fume': 1831, 'versa': 4778, 'veneer': 4772, 'glazer': 1903, 'distasteful': 1259, 'facile': 1606, 'clown': 775, 'avoids': 309, 'manipulate': 2695, 'subversive': 4292, 'insidious': 2297, 'search': 3856, 'thoughtfully': 4483, 'shaky': 3917, 'profoundly': 3423, 'garner': 1858, 'wes': 4883, 'dominate': 1287, 'prince': 3401, 'punk': 3463, 'merit': 2788, 'steve': 4205, 'coogan': 934, 'charisma': 679, 'adventurous': 79, 'attach': 281, 'admire': 66, 'saddle': 3786, 'yell': 4985, 'metaphor': 2795, 'alert': 118, 'youth': 4991, 'annabelle': 190, 'quickly': 3484, 'spiritual': 4139, 'cliched': 761, 'incarnation': 2235, 'robin': 3730, 'partner': 3175, 'radiate': 3497, 'hopeless': 2132, 'closing': 773, 'motivation': 2892, 'farther': 1647, 'semblance': 3871, 'wherever': 4890, 'unapologetically': 4655, 'titular': 4521, 'wiseman': 4928, 'record': 3566, 'primal': 3397, 'hipster': 2096, 'misanthropy': 2834, 'compose': 856, 'unattractive': 4657, 'handheld': 2018, 'altogether': 145, 'probing': 3409, 'shanley': 3924, 'th': 4457, 'na': 2934, 'smirk': 4051, 'beast': 373, 'prowess': 3446, 'kenneth': 2464, 'reboot': 3554, 'retain': 3669, 'pulse': 3456, 'revealing': 3676, 'determine': 1179, 'train': 4572, 'dragon': 1307, 'storm': 4222, 'glide': 1908, 'mysterious': 2930, 'undercooked': 4673, 'ultimate': 4647, 'conjure': 890, 'tool': 4540, 'football': 1763, 'corporate': 947, 'training': 4573, 'affleck': 89, 'loose': 2624, 'brosnan': 547, 'depp': 1147, 'post': 3338, 'apocalyptic': 218, 'variety': 4762, 'mention': 2784, 'wise': 4926, 'observation': 3042, 'grade': 1946, 'lore': 2627, 'occasion': 3050, 'shout': 3954, 'pedestrian': 3204, 'compellingly': 839, 'prestige': 3382, 'alienation': 126, 'pegg': 3207, 'defy': 1110, 'vapid': 4759, 'profundity': 3424, 'wallop': 4837, 'disgust': 1240, 'theatrical': 4463, 'aftertaste': 95, 'sully': 4312, 'legacy': 2552, 'bradley': 509, 'anguish': 181, 'extent': 1592, 'moronic': 2883, 'inject': 2288, 'fi': 1685, 'magnetic': 2676, 'ridicule': 3705, 'trailer': 4571, 'somber': 4079, 'ben': 403, 'ted': 4423, 'report': 3637, 'compromise': 859, 'imbue': 2203, 'tragic': 4569, 'catholic': 642, 'physically': 3244, 'intensely': 2324, 'credible': 989, 'sick': 3969, 'absolute': 9, 'inanity': 2232, 'hate': 2044, 'robust': 3732, 'response': 3658, 'yearn': 4984, 'trashy': 4586, 'sean': 3854, 'brian': 526, 'morris': 2884, 'spunky': 4157, 'stage': 4168, 'scream': 3842, 'impressionistic': 2223, 'experimental': 1571, 'punishment': 3462, 'underneath': 4679, 'hopelessly': 2133, 'groundhog': 1979, 'rhetoric': 3695, 'escalate': 1494, 'stake': 4171, 'insist': 2301, 'kubrick': 2494, 'anthony': 199, 'square': 4162, 'error': 1493, 'impossible': 2220, 'simon': 3986, 'curtis': 1033, 'chord': 726, 'rocker': 3734, 'reiner': 3595, 'tommy': 4535, 'competent': 842, 'socially': 4068, 'conscious': 894, 'sunshine': 4321, 'soldier': 4073, 'rampling': 3510, 'register': 3592, 'mindless': 2821, 'idiot': 2190, 'sexuality': 3909, 'tonally': 4538, 'forced': 1766, 'stale': 4172, 'sweat': 4365, 'swearing': 4364, 'singular': 4001, 'coincidence': 792, 'decline': 1095, 'ensue': 1466, 'troubling': 4618, 'disingenuous': 1242, 'incapable': 2234, 'hide': 2086, 'boredom': 489, 'weary': 4868, 'retro': 3672, 'exuberant': 1599, 'theatre': 4462, 'chris': 729, 'russia': 3778, 'solemn': 4074, 'recall': 3555, 'clinical': 765, 'veer': 4766, 'tenderness': 4438, 'ice': 2176, 'dawn': 1072, 'capable': 607, 'promising': 3430, 'milieu': 2815, 'muddy': 2908, 'refreshingly': 3587, 'slap': 4023, 'cotillard': 954, 'subtitle': 4287, 'sadly': 3788, 'mcconaughey': 2746, 'knowledge': 2491, 'store': 4221, 'affectionate': 87, 'oppressive': 3088, 'clumsily': 780, 'angry': 179, 'mesmerizing': 2791, 'susan': 4354, 'raw': 3532, 'audible': 291, 'distant': 1258, 'obnoxious': 3040, 'vague': 4750, 'cram': 971, 'combination': 809, 'rome': 3749, 'deliciously': 1118, 'virtue': 4807, 'activist': 44, 'easily': 1365, 'dud': 1342, 'hereafter': 2078, 'send': 3872, 'chicago': 708, 'undeniably': 4671, 'rousing': 3763, 'signal': 3974, 'nigh': 2989, 'haneke': 2022, 'faint': 1616, 'theron': 4467, 'doll': 1284, 'watching': 4857, 'oeuvre': 3059, 'crucial': 1011, 'refresh': 3585, 'josh': 2425, 'arrival': 245, 'mesmerize': 2790, 'drop': 1332, 'conceive': 864, 'hitler': 2104, 'meal': 2750, 'scale': 3821, 'forever': 1770, 'player': 3280, 'contribution': 919, 'illuminate': 2196, 'hitchcock': 2103, 'swim': 4372, 'priority': 3404, 'plan': 3272, 'peace': 3200, 'strive': 4250, 'anymore': 207, 'sunny': 4319, 'technique': 4421, 'ronan': 3752, 'sweeping': 4367, 'confidently': 880, 'meant': 2756, 'julie': 2442, 'fix': 1722, 'ang': 173, 'competently': 843, 'relation': 3599, 'macabre': 2663, 'shocking': 3944, 'phone': 3240, 'liberal': 2571, 'fart': 1646, 'enhance': 1452, 'murray': 2920, 'flair': 1727, 'meaningless': 2755, 'egg': 1393, 'backyard': 328, 'beer': 383, 'patience': 3190, 'heck': 2067, 'mannerism': 2702, 'evoke': 1530, 'rocky': 3735, 'adolescence': 69, 'wisely': 4927, 'harmless': 2036, 'horse': 2139, 'neil': 2966, 'heft': 2068, 'ratchet': 3522, 'colorful': 802, 'syndrome': 4382, 'fifty': 1690, 'grey': 1965, 'mental': 2783, 'essay': 1500, 'joel': 2412, 'obsess': 3045, 'leather': 2546, 'strip': 4249, 'scar': 3824, 'reviewer': 3685, 'dazzling': 1075, 'icon': 2178, 'enormously': 1462, 'stamp': 4175, 'sporadically': 4148, 'tolerable': 4530, 'dennis': 1135, 'suitably': 4311, 'nostalgia': 3016, 'exotic': 1563, 'prey': 3391, 'gleefully': 1905, 'neck': 2961, 'artfully': 249, 'boot': 484, 'plunge': 3297, 'tempt': 4433, 'giddy': 1890, 'wahlberg': 4831, 'mistaken': 2848, 'garbage': 1855, 'stiller': 4211, 'instant': 2309, 'lurid': 2659, 'inconsistency': 2245, 'dilemma': 1208, 'shortcoming': 3951, 'reasonably': 3552, 'marriage': 2712, 'cloy': 776, 'thank': 4458, 'goodness': 1931, 'fey': 1684, 'expensive': 1568, 'infantile': 2272, 'bereft': 408, 'edward': 1384, 'civil': 745, 'rewarding': 3693, 'cave': 646, 'poetry': 3300, 'humble': 2158, 'awash': 313, 'imagery': 2198, 'duck': 1341, 'poke': 3305, 'treasure': 4592, 'glow': 1921, 'whiff': 4892, 'native': 2948, 'restless': 3662, 'understated': 4683, 'cinematographer': 738, 'textured': 4456, 'rural': 3775, 'flawed': 1735, 'responsible': 3660, 'south': 4107, 'african': 93, 'cleverly': 758, 'amusing': 165, 'trait': 4574, 'bed': 381, 'kiss': 2484, 'unpleasant': 4723, 'prefer': 3369, 'lynch': 2662, 'translation': 4582, 'indulgence': 2261, 'bertolucci': 411, 'archival': 233, 'moana': 2852, 'overstate': 3124, 'zoo': 4999, 'striking': 4247, 'overlook': 3122, 'vietnam': 4793, 'pretentious': 3385, 'werner': 4882, 'clock': 768, 'posse': 3332, 'beginning': 387, 'murky': 2918, 'berlin': 410, 'grimy': 1968, 'baron': 354, 'cohen': 790, 'neon': 2968, 'bow': 500, 'flaccid': 1724, 'morning': 2881, 'glitz': 1911, 'trifle': 4606, 'familial': 1628, 'embarrassment': 1413, 'importance': 2217, 'jurassic': 2449, 'subconscious': 4276, 'dvd': 1353, 'patient': 3191, 'sword': 4376, 'intent': 2326, 'ahead': 104, 'stroke': 4251, 'jazz': 2396, 'pretend': 3384, 'jenkins': 2400, 'baldwin': 337, 'spending': 4128, 'annoy': 192, 'specific': 4118, 'fleeting': 1737, 'similarly': 3985, 'sunset': 4320, 'ribald': 3697, 'unrelenting': 4726, 'artificiality': 253, 'environs': 1482, 'jungle': 2447, 'superior': 4329, 'boil': 476, 'quest': 3480, 'narrate': 2941, 'aronofsky': 242, 'countless': 958, 'super': 4322, 'cannon': 605, 'ratio': 3526, 'disconnect': 1233, 'ruin': 3768, 'undead': 4668, 'clarity': 747, 'makeup': 2687, 'brood': 545, 'delivery': 1125, 'timing': 4511, 'monkey': 2864, 'vikander': 4798, 'croft': 1004, 'tomb': 4534, 'schwarzenegger': 3835, 'intellectually': 2318, 'thrilling': 4491, 'determination': 1178, 'naughty': 2952, 'misjudge': 2842, 'radical': 3498, 'compensate': 840, 'enthusiasm': 1475, 'inconsistent': 2246, 'court': 964, 'greek': 1963, 'ethos': 1512, 'aka': 111, 'beneath': 405, 'normal': 3013, 'blind': 453, 'unconventional': 4666, 'survival': 4351, 'tree': 4595, 'context': 913, 'assassin': 263, 'creed': 991, 'creaky': 981, 'suck': 4298, 'cease': 647, 'duo': 1350, 'banality': 343, 'private': 3407, 'moody': 2873, 'succession': 4297, 'superfluous': 4326, 'storyteller': 4225, 'define': 1104, 'demand': 1127, 'okay': 3070, 'whimsy': 4895, 'bare': 350, 'droll': 1331, 'fault': 1659, 'station': 4190, 'advice': 80, 'chick': 709, 'splendid': 4143, 'flame': 1728, 'satirical': 3810, 'blanchett': 441, 'paper': 3157, 'fate': 1657, 'december': 1088, 'peril': 3220, 'fluff': 1750, 'enthral': 1474, 'andrew': 171, 'screw': 3848, 'kim': 2476, 'gloomy': 1914, 'resume': 3667, 'centre': 655, 'symbolism': 4379, 'dench': 1133, 'standout': 4178, 'immediately': 2207, 'preserve': 3378, 'lego': 2556, 'haggis': 2002, 'carrey': 626, 'condescend': 874, 'ten': 4434, 'specie': 4117, 'pressure': 3381, 'celebrity': 650, 'breed': 524, 'amongst': 160, 'month': 2868, 'cover': 966, 'disorient': 1251, 'juxtaposition': 2453, 'introspective': 2352, 'posturing': 3339, 'workplace': 4958, 'practice': 3353, 'skip': 4018, 'wood': 4951, 'everyday': 1523, 'proportion': 3437, 'whistle': 4897, 'determined': 1180, 'cure': 1027, 'bourne': 499, 'progression': 3427, 'foundation': 1789, 'whenever': 4888, 'freak': 1804, 'stranger': 4233, 'shining': 3939, 'san': 3800, 'sober': 4066, 'valley': 4753, 'minimal': 2823, 'committed': 828, 'globe': 1913, 'foreign': 1768, 'locale': 2610, 'latter': 2526, 'nanny': 2940, 'exceed': 1539, 'tease': 4418, 'harrowing': 2039, 'monk': 2863, 'comfortable': 817, 'elephant': 1405, 'humanize': 2157, 'caine': 589, 'iconic': 2179, 'celebrate': 648, 'miniseries': 2826, 'chloe': 720, 'bygone': 584, 'interview': 2344, 'admittedly': 68, 'amusingly': 166, 'obligatory': 3039, 'devotion': 1191, 'rag': 3499, 'cell': 651, 'function': 1833, 'framing': 1797, 'traffic': 4567, 'pant': 3155, 'exorcist': 1562, 'apparent': 219, 'clot': 774, 'hammer': 2012, 'interlude': 2335, 'hypocrisy': 2175, 'inept': 2265, 'button': 581, 'depressing': 1149, 'unless': 4717, 'colossal': 803, 'bogus': 475, 'border': 486, 'righteous': 3711, 'anger': 177, 'racist': 3496, 'abound': 5, 'paradox': 3162, 'glad': 1899, 'sturdy': 4267, 'tidy': 4503, 'anxiety': 204, 'denouement': 1137, 'substitute': 4285, 'nerve': 2969, 'toss': 4548, 'acclaim': 24, 'hancock': 2015, 'jugular': 2438, 'captivating': 612, 'payoff': 3199, 'backstory': 327, 'repeatedly': 3632, 'brick': 527, 'confusion': 889, 'prisoner': 3406, 'shiny': 3940, 'charlize': 683, 'continually': 914, 'julia': 2440, 'masculinity': 2719, 'wring': 4974, 'smoke': 4053, 'climactic': 763, 'confrontation': 885, 'boyhood': 504, 'crank': 972, 'addiction': 56, 'profile': 3421, 'outcome': 3106, 'sorry': 4098, 'wiig': 4907, 'creator': 986, 'greed': 1962, 'insult': 2314, 'avenger': 306, 'snarky': 4060, 'sister': 4005, 'survive': 4352, 'pink': 3259, 'mayhem': 2744, 'tame': 4397, 'cartoon': 630, 'curve': 1034, 'passionate': 3183, 'snap': 4057, 'investment': 2359, 'rid': 3702, 'resilience': 3645, 'quirk': 3487, 'insensitive': 2295, 'butt': 580, 'steel': 4197, 'wretched': 4972, 'nuclear': 3032, 'holocaust': 2116, 'originality': 3097, 'exude': 1600, 'venom': 4774, 'gallery': 1848, 'wry': 4979, 'enemy': 1442, 'delve': 1126, 'reflective': 3584, 'subdue': 4278, 'poignancy': 3301, 'judgment': 2436, 'steep': 4198, 'chest': 706, 'limit': 2586, 'absurdity': 14, 'dreary': 1323, 'wed': 4871, 'brash': 514, 'rip': 3713, 'impulse': 2230, 'filter': 1698, 'july': 2443, 'burton': 575, 'spontaneous': 4145, 'moving': 2903, 'prison': 3405, 'balloon': 341, 'equivalent': 1489, 'author': 301, 'worship': 4962, 'demented': 1128, 'pixel': 3267, 'jolt': 2420, 'hang': 2023, 'mannered': 2701, 'logan': 2614, 'elusive': 1411, 'annoyingly': 194, 'toll': 4532, 'hamper': 2014, 'journalistic': 2427, 'nasty': 2945, 'feast': 1668, 'terry': 4452, 'gilliam': 1894, 'colourful': 805, 'skirt': 4019, 'openly': 3082, 'utter': 4746, 'industry': 2264, 'haley': 2006, 'puerile': 3452, 'enjoyably': 1456, 'trump': 4621, 'educational': 1383, 'moroccan': 2882, 'failure': 1615, 'carter': 629, 'literal': 2599, 'national': 2947, 'dumbed': 1347, 'pump': 3457, 'historic': 2098, 'opposite': 3087, 'kong': 2492, 'independence': 2252, 'description': 1157, 'unabashed': 4653, 'romanticism': 3747, 'dive': 1268, 'festival': 1681, 'contrast': 917, 'densely': 1139, 'fitfully': 1719, 'slate': 4026, 'blank': 445, 'kaufman': 2456, 'apocalypse': 217, 'elegant': 1402, 'texture': 4455, 'dc': 1076, 'huston': 2170, 'squarely': 4163, 'vein': 4770, 'raimi': 3504, 'fanning': 1637, 'bravado': 515, 'damme': 1048, 'eerie': 1385, 'folly': 1757, 'stylishly': 4270, 'vanilla': 4757, 'nail': 2935, 'institution': 2313, 'australia': 296, 'unrealistic': 4725, 'moon': 2874, 'revolt': 3688, 'ed': 1374, 'rob': 3726, 'unusually': 4733, 'madness': 2671, 'raider': 3502, 'supposedly': 4337, 'scattered': 3827, 'incomplete': 2243, 'appearance': 224, 'palma': 3150, 'daft': 1044, 'acted': 39, 'bottle': 494, 'closely': 771, 'ne': 2955, 'pa': 3133, 'banal': 342, 'admirably': 65, 'dire': 1215, 'offend': 3061, 'significant': 3977, 'pat': 3186, 'behave': 388, 'practically': 3352, 'cookie': 936, 'bravura': 517, 'oz': 3132, 'hudson': 2149, 'britain': 539, 'plant': 3275, 'empathy': 1424, 'fearless': 1667, 'baker': 335, 'lovingly': 2641, 'senseless': 3877, 'victory': 4791, 'chocolate': 721, 'champagne': 666, 'rapport': 3519, 'chillingly': 716, 'unfolds': 4699, 'heartbreaking': 2058, 'fascination': 1650, 'awaken': 310, 'drinking': 1328, 'tasty': 4407, 'maddeningly': 2670, 'brim': 535, 'unflinching': 4696, 'nostalgic': 3017, 'mulligan': 2910, 'overtone': 3126, 'cheesy': 701, 'gutsy': 1997, 'traveler': 4590, 'fbi': 1665, 'chinese': 718, 'luis': 2652, 'bunuel': 569, 'repression': 3640, 'kinky': 2483, 'irrelevance': 2370, 'serkis': 3894, 'seductive': 3863, 'befit': 384, 'overkill': 3119, 'creativity': 985, 'achingly': 35, 'visible': 4809, 'stray': 4237, 'powerhouse': 3350, 'boundless': 498, 'majority': 2684, 'extravagant': 1596, 'alternately': 141, 'gloss': 1919, 'venture': 4775, 'idiosyncratic': 2189, 'aid': 106, 'kristen': 2493, 'candle': 603, 'stem': 4201, 'morbid': 2879, 'cheery': 699, 'longer': 2621, 'veers': 4767, 'swank': 4362, 'gosling': 1939, 'wrestle': 4971, 'crook': 1006, 'evolve': 1532, 'government': 1941, 'saldana': 3795, 'sadden': 3785, 'dwayne': 1354, 'vocal': 4819, 'fabulously': 1604, 'importantly': 2219, 'lull': 2653, 'kitchen': 2485, 'prickly': 3394, 'antihero': 203, 'alfred': 121, 'gallows': 1849, 'stress': 4243, 'mann': 2699, 'ruthless': 3780, 'jaw': 2395, 'desert': 1158, 'indicate': 2256, 'understood': 4684, 'alienate': 125, 'newspaper': 2978, 'coens': 788, 'warner': 4847, 'fusion': 1841, 'discuss': 1237, 'julianne': 2441, 'assurance': 271, 'seattle': 3860, 'yank': 4980, 'lacking': 2503, 'reader': 3538, 'hunter': 2166, 'disorder': 1250, 'novelty': 3028, 'threat': 4486, 'status': 4191, 'frantic': 1803, 'blake': 439, 'ooze': 3079, 'salvage': 3797, 'pete': 3231, 'stream': 4239, 'seamlessly': 3853, 'sufficiently': 4304, 'gently': 1877, 'contrived': 922, 'access': 21, 'vacuum': 4749, 'iraq': 2363, 'hammy': 2013, 'oh': 3067, 'versus': 4780, 'meat': 2758, 'cardboard': 616, 'indulgent': 2262, 'intelligently': 2321, 'grapple': 1953, 'william': 4911, 'spider': 4130, 'sublime': 4280, 'fu': 1825, 'spare': 4112, 'diane': 1195, 'bloody': 460, 'lump': 2656, 'village': 4799, 'dismal': 1247, 'twisty': 4640, 'reacher': 3535, 'brace': 507, 'rescue': 3643, 'arctic': 234, 'criticism': 1003, 'sunday': 4318, 'lick': 2572, 'shootout': 3948, 'wander': 4840, 'disparate': 1252, 'sudden': 4299, 'press': 3380, 'nisha': 2997, 'deconstruction': 1097, 'com': 807, 'unfamiliar': 4695, 'bound': 497, 'youngster': 4990, 'kinetic': 2480, 'cautionary': 645, 'belief': 396, 'heal': 2052, 'evocative': 1529, 'chandor': 669, 'endearing': 1436, 'tick': 4499, 'president': 3379, 'peak': 3201, 'envision': 1483, 'enjoyment': 1457, 'mashup': 2720, 'sens': 3873, 'seuss': 3904, 'resonant': 3652, 'arguably': 237, 'topical': 4544, 'urban': 4741, 'consciousness': 895, 'unfortunate': 4702, 'sarandon': 3808, 'camerawork': 595, 'bombastic': 479, 'flashy': 1731, 'hyperactive': 2173, 'education': 1382, 'vitality': 4816, 'mickey': 2803, 'resort': 3654, 'jeremy': 2402, 'seasoned': 3858, 'empire': 1426, 'disguise': 1239, 'associate': 268, 'hunk': 2164, 'nihilistic': 2993, 'werewolf': 4881, 'jordan': 2423, 'allure': 133, 'peculiar': 3203, 'dollar': 1285, 'tatum': 4408, 'altman': 144, 'cornball': 944, 'substantial': 4284, 'underworld': 4687, 'positive': 3331, 'remote': 3625, 'keaton': 2458, 'lock': 2613, 'prompt': 3431, 'debate': 1085, 'bos': 492, 'comically': 821, 'rom': 3743, 'pound': 3345, 'meditative': 2765, 'pray': 3356, 'mate': 2730, 'out': 3105, 'predictability': 3366, 'simplicity': 3988, 'commit': 826, 'witless': 4936, 'parental': 3166, 'revolve': 3691, 'rodriguez': 3736, 'aaron': 1, 'link': 2592, 'sundance': 4317, 'quirkiness': 3488, 'annoying': 193, 'emma': 1418, 'alternate': 140, 'conan': 862, 'perverse': 3229, 'addition': 57, 'prequel': 3374, 'citizen': 743, 'outfit': 3107, 'enervate': 1445, 'pilot': 3257, 'shrink': 3962, 'suffocate': 4305, 'muppets': 2916, 'bubbly': 555, 'intricate': 2347, 'tucker': 4627, 'winterbottom': 4924, 'pursuit': 3469, 'buck': 556, 'shelf': 3932, 'size': 4010, 'destruction': 1174, 'whimper': 4893, 'luhrmann': 2651, 'birth': 429, 'grind': 1969, 'namesake': 2938, 'penetrate': 3210, 'caught': 643, 'squander': 4161, 'dunk': 1349, 'fuqua': 1838, 'sorkin': 4096, 'ironic': 2368, 'dignity': 1207, 'immediacy': 2205, 'internet': 2341, 'reese': 3579, 'recognizable': 3562, 'portman': 3325, 'despicable': 1168, 'unsettling': 4729, 'icky': 2177, 'cerebral': 657, 'underdog': 4677, 'immediate': 2206, 'plane': 3273, 'eccentric': 1370, 'dynamite': 1356, 'strap': 4234, 'uplift': 4736, 'corpse': 948, 'juicy': 2439, 'thrust': 4497, 'combat': 808, 'amble': 153, 'roald': 3725, 'dahl': 1045, 'reverse': 3683, 'zellweger': 4993, 'fish': 1716, 'maximum': 2741, 'niro': 2996, 'unhappy': 4705, 'woe': 4942, 'bless': 452, 'blatant': 447, 'exhilarating': 1559, 'round': 3761, 'charismatic': 680, 'downright': 1302, 'laborious': 2499, 'streak': 4238, 'walker': 4835, 'peele': 3206, 'roth': 3758, 'ali': 122, 'kiddy': 2471, 'museum': 2921, 'vibrant': 4786, 'dystopian': 1357, 'assured': 273, 'ensure': 1467, 'variation': 4761, 'tax': 4410, 'cancer': 601, 'coffee': 789, 'anime': 187, 'helicopter': 2072, 'discourse': 1234, 'jaden': 2386, 'foul': 1787, 'placement': 3269, 'solace': 4072, 'flounder': 1747, 'relevant': 3608, 'mouse': 2896, 'cheese': 700, 'columbus': 806, 'tendency': 4436, 'simplify': 3989, 'hostage': 2141, 'hail': 2004, 'overworked': 3129, 'persona': 3224, 'hogwarts': 2108, 'inception': 2236, 'stallone': 4174, 'dos': 1294, 'digital': 1206, 'lingering': 2591, 'pervasive': 3228, 'marley': 2711, 'dense': 1138, 'undermine': 4678, 'predict': 3365, 'cutter': 1037, 'verhoeven': 4777, 'goofiness': 1932, 'editing': 1379, 'pearl': 3202, 'harbor': 2030, 'elicit': 1407, 'sear': 3855, 'inescapable': 2268, 'better': 418, 'moonlight': 2875, 'recommendation': 3565, 'kazan': 2457, 'deconstruct': 1096, 'shoe': 3945, 'diary': 1196, 'miscalculation': 2835, 'dear': 1083, 'finesse': 1708, 'diamond': 1194, 'tall': 4396, 'incessant': 2237, 'hoover': 2127, 'publicity': 3451, 'delicious': 1117, 'restrain': 3664, 'signature': 3975, 'shane': 3922, 'revisionism': 3686, 'wizard': 4939, 'sensible': 3879, 'risky': 3717, 'casey': 633, 'background': 325, 'affinity': 88, 'escapist': 1497, 'aurora': 294, 'aniston': 188, 'reaction': 3536, 'indication': 2257, 'prevail': 3387, 'plastic': 3276, 'miraculous': 2831, 'reckless': 3559, 'chief': 710, 'mourn': 2895, 'tina': 4512, 'overwhelming': 3128, 'proudly': 3441, 'pigeonhole': 3254, 'ralph': 3507, 'gracefully': 1945, 'shake': 3915, 'thirst': 4475, 'examine': 1536, 'dumber': 1348, 'behavioral': 390, 'organization': 3094, 'ideology': 2186, 'ramble': 3508, 'directs': 1222, 'bening': 407, 'letdown': 2566, 'du': 1339, 'singing': 3999, 'eternity': 1508, 'starkly': 4182, 'underused': 4685, 'accord': 29, 'thick': 4468, 'democracy': 1129, 'incident': 2238, 'relax': 3603, 'molly': 2858, 'bacon': 329, 'adage': 51, 'barnyard': 353, 'integrity': 2315, 'thorough': 4478, 'comment': 823, 'freeman': 1807, 'arbitrary': 231, 'appealing': 222, 'talky': 4395, 'engine': 1448, 'newcomer': 2975, 'gru': 1983, 'minion': 2825, 'rebecca': 3553, 'propel': 3435, 'divert': 1271, 'shameless': 3920, 'rick': 3701, 'jolly': 2419, 'election': 1400, 'elliott': 1409, 'maturity': 2738, 'chilling': 715, 'jam': 2387, 'lure': 2658, 'devil': 1187, 'steadfast': 4193, 'tim': 4507, 'via': 4783, 'diet': 1200, 'interior': 2334, 'queer': 3478, 'seven': 3905, 'agreeably': 103, 'pleasingly': 3287, 'condon': 876, 'unoriginal': 4722, 'east': 1366, 'crescendo': 993, 'extinction': 1593, 'pin': 3258, 'spoil': 4144, 'left': 2550, 'exhibit': 1557, 'crudely': 1013, 'charmless': 689, 'program': 3425, 'mastery': 2728, 'dissolve': 1256, 'dope': 1292, 'blaze': 449, 'bug': 560, 'stunner': 4262, 'heap': 2054, 'healthy': 2053, 'panic': 3154, 'bloom': 461, 'crisply': 1000, 'understandable': 4681, 'dreadfully': 1318, 'noah': 2998, 'sombre': 4080, 'eschew': 1498, 'alex': 119, 'warrant': 4849, 'ridiculously': 3707, 'outrage': 3110, 'tortured': 4547, 'grown': 1982, 'financial': 1704, 'rowdy': 3765, 'wacky': 4830, 'bekmambetov': 395, 'consideration': 899, 'underdeveloped': 4676, 'lion': 2594, 'bull': 563, 'sermon': 3895, 'flicker': 1740, 'exquisitely': 1590, 'joseph': 2424, 'invasion': 2353, 'solve': 4078, 'spread': 4155, 'drown': 1333, 'uplifting': 4737, 'miike': 2809, 'renaissance': 3628, 'kung': 2495, 'kicking': 2468, 'resurrect': 3668, 'sandra': 3803, 'attract': 287, 'forgiveness': 1775, 'pilgrim': 3256, 'ire': 2364, 'cake': 590, 'predator': 3362, 'pokey': 3306, 'tsunami': 4625, 'twenty': 4634, 'exasperate': 1538, 'adequately': 60, 'shin': 3937, 'hopeful': 2130, 'kate': 2454, 'marginally': 2707, 'gandolfini': 1851, 'matinee': 2732, 'irritating': 2375, 'owe': 3131, 'jody': 2410, 'como': 832, 'reed': 3576, 'european': 1514, 'broadly': 542, 'official': 3065, 'nose': 3015, 'needle': 2963, 'entertainingly': 1472, 'footing': 1764, 'doctor': 1278, 'splatter': 4142, 'fodder': 1753, 'machination': 2664, 'recycle': 3568, 'sand': 3801, 'shimmer': 3936, 'madcap': 2669, 'skeptical': 4011, 'mckinnon': 2749, 'atkinson': 278, 'stilted': 4212, 'hawkins': 2049, 'diversity': 1270, 'immensely': 2208, 'tm': 4522, 'appetite': 225, 'disregard': 1255, 'showcasing': 3958, 'mirren': 2832, 'zoe': 4996, 'shell': 3933, 'spiral': 4136, 'loathe': 2608, 'drawer': 1314, 'amped': 162, 'fundamentally': 1835, 'infectious': 2273, 'singularly': 4002, 'tokyo': 4528, 'yawn': 4982, 'aardman': 0, 'beastly': 374, 'fizz': 1723, 'unrelentingly': 4727, 'counterpoint': 957, 'litter': 2602, 'format': 1777, 'remove': 3627, 'evaporate': 1515, 'adroit': 73, 'overact': 3115, 'arise': 240, 'zone': 4998, 'roster': 3756, 'alternative': 142, 'rampage': 3509, 'gruff': 1984, 'dick': 1197, 'autopilot': 303, 'mug': 2909, 'twin': 4637, 'tracy': 4563}\n"
     ]
    }
   ],
   "source": [
    "Tfidf_vect = TfidfVectorizer(max_features=5000)\n",
    "Tfidf_vect.fit(reviews['text_final'])\n",
    "train_x_Tfidf = Tfidf_vect.transform(train_x)\n",
    "test_x_Tfidf = Tfidf_vect.transform(test_x)\n",
    "print(Tfidf_vect.vocabulary_)"
   ]
  },
  {
   "cell_type": "code",
   "execution_count": null,
   "metadata": {},
   "outputs": [],
   "source": []
  },
  {
   "cell_type": "code",
   "execution_count": 96,
   "metadata": {},
   "outputs": [
    {
     "name": "stdout",
     "output_type": "stream",
     "text": [
      "  (0, 4871)\t0.47307694899800695\n",
      "  (0, 3746)\t0.3186109350178839\n",
      "  (0, 2109)\t0.46543336585987743\n",
      "  (0, 1837)\t0.27050454395074874\n",
      "  (0, 1285)\t0.46543336585987743\n",
      "  (0, 1051)\t0.4101903558159985\n",
      "  (1, 4891)\t0.2491139662946176\n",
      "  (1, 4480)\t0.19763244465490015\n",
      "  (1, 3996)\t0.3015667455104187\n",
      "  (1, 3843)\t0.20856070373865945\n",
      "  (1, 2980)\t0.2508491439355957\n",
      "  (1, 2735)\t0.23108686682885124\n",
      "  (1, 2685)\t0.13876967269108878\n",
      "  (1, 2121)\t0.2620788336252484\n",
      "  (1, 1631)\t0.207377732315141\n",
      "  (1, 1607)\t0.23162529011680746\n",
      "  (1, 1560)\t0.2586823384778954\n",
      "  (1, 724)\t0.28797056949525734\n",
      "  (1, 704)\t0.26579927311717044\n",
      "  (1, 480)\t0.2729162077564454\n",
      "  (1, 398)\t0.2586823384778954\n",
      "  (1, 221)\t0.24285497980646015\n",
      "  (1, 196)\t0.20651345192790094\n",
      "  (2, 4391)\t0.3946233176340185\n",
      "  (2, 3288)\t0.4729685766186136\n",
      "  :\t:\n",
      "  (8997, 4861)\t0.18128775297957717\n",
      "  (8997, 4855)\t0.20128635962710498\n",
      "  (8997, 4490)\t0.4182057837095771\n",
      "  (8997, 4414)\t0.34172163923537713\n",
      "  (8997, 3540)\t0.21726765179393315\n",
      "  (8997, 2962)\t0.21311553931019223\n",
      "  (8997, 2795)\t0.32697385039522847\n",
      "  (8997, 2685)\t0.14699207349052956\n",
      "  (8997, 2583)\t0.14878654756892334\n",
      "  (8997, 2547)\t0.20839202080221406\n",
      "  (8997, 2490)\t0.2076931650486242\n",
      "  (8997, 2002)\t0.3556340869152304\n",
      "  (8997, 1434)\t0.18993895011840328\n",
      "  (8997, 722)\t0.2874653812272049\n",
      "  (8997, 136)\t0.24477925942232193\n",
      "  (8998, 4406)\t0.4388802934242433\n",
      "  (8998, 2905)\t0.26044605831881723\n",
      "  (8998, 2900)\t0.195269248498021\n",
      "  (8998, 2637)\t0.30431789097194056\n",
      "  (8998, 2011)\t0.4835561316409774\n",
      "  (8998, 604)\t0.503546736504769\n",
      "  (8998, 134)\t0.3484632438052256\n",
      "  (8999, 1422)\t0.5728255262168505\n",
      "  (8999, 849)\t0.5862950051200989\n",
      "  (8999, 838)\t0.5728255262168505\n"
     ]
    }
   ],
   "source": [
    "print(train_x_Tfidf)"
   ]
  },
  {
   "cell_type": "code",
   "execution_count": 102,
   "metadata": {},
   "outputs": [
    {
     "name": "stdout",
     "output_type": "stream",
     "text": [
      "Accuracy:  0.727\n"
     ]
    }
   ],
   "source": [
    "# First Attempt at classifier is Naive Bays \n",
    "nb = naive_bayes.MultinomialNB()\n",
    "nb.fit(train_x_Tfidf, train_y)\n",
    "\n",
    "# predict the target on validation data\n",
    "pred_nb = nb.predict(test_x_Tfidf)\n",
    "\n",
    "# output accuracy just to show it works\n",
    "print(\"Accuracy: \", accuracy_score(pred_nb, test_y))\n",
    "\n"
   ]
  },
  {
   "cell_type": "code",
   "execution_count": 103,
   "metadata": {},
   "outputs": [
    {
     "name": "stdout",
     "output_type": "stream",
     "text": [
      "Naive-Bayes: f1=0.730 auc=0.796\n"
     ]
    },
    {
     "data": {
      "image/png": "[encoded data removed]",
      "text/plain": [
       "<Figure size 432x288 with 1 Axes>"
      ]
     },
     "metadata": {
      "needs_background": "light"
     },
     "output_type": "display_data"
    }
   ],
   "source": [
    "#Analysis\n",
    "\n",
    "#Predict Probability\n",
    "nb_probs = nb.predict_proba(test_x_Tfidf)\n",
    "nb_probs = nb_probs[:,1]\n",
    "\n",
    "#Calculate precision-recall\n",
    "precision, recall, thresholds = precision_recall_curve(test_y, nb_probs)\n",
    "\n",
    "#Calculate F1\n",
    "f1 = f1_score(test_y, pred_nb)\n",
    "\n",
    "#Calculate precision recal auc\n",
    "auc = auc(recall, precision)\n",
    "\n",
    "# summarize scores\n",
    "print('Naive-Bayes: f1=%.3f auc=%.3f' % (f1, auc))\n",
    "\n",
    "# plot the precision-recall curves\n",
    "no_skill = len(test_y[test_y==1]) / len(test_y)\n",
    "pyplot.plot([0, 1], [no_skill, no_skill], linestyle='--', label='No Skill')\n",
    "pyplot.plot(recall, precision, marker='.', label='Naive-Bayes')\n",
    "\n",
    "# axis labels\n",
    "pyplot.xlabel('Recall')\n",
    "pyplot.ylabel('Precision')\n",
    "\n",
    "# show the legend\n",
    "pyplot.legend()\n",
    "\n",
    "# show the plot\n",
    "pyplot.show()"
   ]
  }
 ],
 "metadata": {
  "kernelspec": {
   "display_name": "Python 3",
   "language": "python",
   "name": "python3"
  },
  "language_info": {
   "codemirror_mode": {
    "name": "ipython",
    "version": 3
   },
   "file_extension": ".py",
   "mimetype": "text/x-python",
   "name": "python",
   "nbconvert_exporter": "python",
   "pygments_lexer": "ipython3",
   "version": "3.8.3"
  }
 },
 "nbformat": 4,
 "nbformat_minor": 4
}
