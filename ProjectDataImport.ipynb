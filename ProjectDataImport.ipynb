{
 "cells": [
  {
   "cell_type": "code",
   "execution_count": 5,
   "metadata": {},
   "outputs": [
    {
     "ename": "SyntaxError",
     "evalue": "invalid syntax (<ipython-input-5-f120e7149481>, line 1)",
     "output_type": "error",
     "traceback": [
      "\u001b[1;36m  File \u001b[1;32m\"<ipython-input-5-f120e7149481>\"\u001b[1;36m, line \u001b[1;32m1\u001b[0m\n\u001b[1;33m    python -m pip install wordcloud\u001b[0m\n\u001b[1;37m              ^\u001b[0m\n\u001b[1;31mSyntaxError\u001b[0m\u001b[1;31m:\u001b[0m invalid syntax\n"
     ]
    }
   ],
   "source": []
  },
  {
   "cell_type": "code",
   "execution_count": 114,
   "metadata": {},
   "outputs": [
    {
     "name": "stderr",
     "output_type": "stream",
     "text": [
      "[nltk_data] Downloading package punkt to\n",
      "[nltk_data]     C:\\Users\\Zachery\\AppData\\Roaming\\nltk_data...\n",
      "[nltk_data]   Package punkt is already up-to-date!\n",
      "[nltk_data] Downloading package wordnet to\n",
      "[nltk_data]     C:\\Users\\Zachery\\AppData\\Roaming\\nltk_data...\n",
      "[nltk_data]   Package wordnet is already up-to-date!\n",
      "[nltk_data] Downloading package averaged_perceptron_tagger to\n",
      "[nltk_data]     C:\\Users\\Zachery\\AppData\\Roaming\\nltk_data...\n",
      "[nltk_data]   Package averaged_perceptron_tagger is already up-to-\n",
      "[nltk_data]       date!\n",
      "[nltk_data] Downloading package stopwords to\n",
      "[nltk_data]     C:\\Users\\Zachery\\AppData\\Roaming\\nltk_data...\n",
      "[nltk_data]   Package stopwords is already up-to-date!\n"
     ]
    },
    {
     "data": {
      "text/plain": [
       "True"
      ]
     },
     "execution_count": 114,
     "metadata": {},
     "output_type": "execute_result"
    }
   ],
   "source": [
    "import nltk\n",
    "nltk.download('punkt')\n",
    "nltk.download('wordnet')\n",
    "nltk.download('averaged_perceptron_tagger')\n",
    "nltk.download('stopwords')"
   ]
  },
  {
   "cell_type": "code",
   "execution_count": 255,
   "metadata": {},
   "outputs": [],
   "source": [
    "import pandas as pd\n",
    "import numpy as np\n",
    "from nltk.tokenize import word_tokenize\n",
    "from nltk import pos_tag\n",
    "from nltk.corpus import stopwords\n",
    "from nltk.stem import WordNetLemmatizer\n",
    "from sklearn.preprocessing import LabelEncoder\n",
    "from collections import defaultdict\n",
    "from nltk.corpus import wordnet as wn\n",
    "from sklearn.feature_extraction.text import TfidfVectorizer\n",
    "from sklearn import model_selection, naive_bayes, svm\n",
    "from sklearn.metrics import accuracy_score\n",
    "from sklearn.metrics import confusion_matrix, classification_report"
   ]
  },
  {
   "cell_type": "code",
   "execution_count": 313,
   "metadata": {},
   "outputs": [
    {
     "name": "stderr",
     "output_type": "stream",
     "text": [
      "C:\\Users\\Zachery\\anaconda3\\lib\\site-packages\\IPython\\core\\interactiveshell.py:3071: DtypeWarning: Columns (0) have mixed types.Specify dtype option on import or set low_memory=False.\n",
      "  has_raised = await self.run_ast_nodes(code_ast.body, cell_name,\n"
     ]
    }
   ],
   "source": [
    "# Set seed for reproduceable results\n",
    "np.random.seed(500)\n",
    "# Read in to Pandas DataFrame and drop the first row(which contained column names as I have assigned new names)\n",
    "reviews = pd.read_csv(r\"C:\\Users\\Zachery\\Desktop\\CS254\\rt_reviews.csv\", names = ['target', 'review'], encoding = 'latin-1')\n",
    "reviews = reviews.iloc[1:]\n",
    "reviews = reviews.iloc[:1000] # Choose num here"
   ]
  },
  {
   "cell_type": "code",
   "execution_count": 314,
   "metadata": {},
   "outputs": [],
   "source": [
    "for i in range(reviews.shape[0]):\n",
    "    #if(isinstance(reviews['target'].values[i],)):\n",
    "    if(reviews['target'].values[i] == '0'):\n",
    "        reviews['target'].values[i] = 0\n",
    "    elif(reviews['target'].values[i] == '1'):\n",
    "        reviews['target'].values[i] = 1\n",
    "for i in range(reviews.shape[0]):\n",
    "    if(isinstance(reviews['target'].values[i],str)):\n",
    "        print(\"Caught: \",reviews['target'].values[i])\n",
    "    if(reviews['target'].values[i] != 0 and reviews['target'].values[i] != 1):\n",
    "        print(\"Error\")"
   ]
  },
  {
   "cell_type": "code",
   "execution_count": 315,
   "metadata": {},
   "outputs": [],
   "source": [
    "\n",
    "# Data is of shape(480000,2) The first column is the target, the second in the review\n",
    "\n",
    "# Make data smaller for ease of implementation\n",
    "reviews = reviews.iloc[:1000] # Choose num here"
   ]
  },
  {
   "cell_type": "code",
   "execution_count": null,
   "metadata": {},
   "outputs": [],
   "source": []
  },
  {
   "cell_type": "code",
   "execution_count": 316,
   "metadata": {},
   "outputs": [
    {
     "data": {
      "text/plain": [
       "(1000, 2)"
      ]
     },
     "execution_count": 316,
     "metadata": {},
     "output_type": "execute_result"
    }
   ],
   "source": [
    "# Remove and row where either datafield is blank, no rows contained blank data so the shape remains 480000,2 \n",
    "reviews.dropna(inplace = True)\n",
    "reviews.shape"
   ]
  },
  {
   "cell_type": "code",
   "execution_count": 317,
   "metadata": {},
   "outputs": [
    {
     "data": {
      "text/html": [
       "<div>\n",
       "<style scoped>\n",
       "    .dataframe tbody tr th:only-of-type {\n",
       "        vertical-align: middle;\n",
       "    }\n",
       "\n",
       "    .dataframe tbody tr th {\n",
       "        vertical-align: top;\n",
       "    }\n",
       "\n",
       "    .dataframe thead th {\n",
       "        text-align: right;\n",
       "    }\n",
       "</style>\n",
       "<table border=\"1\" class=\"dataframe\">\n",
       "  <thead>\n",
       "    <tr style=\"text-align: right;\">\n",
       "      <th></th>\n",
       "      <th>target</th>\n",
       "      <th>review</th>\n",
       "    </tr>\n",
       "  </thead>\n",
       "  <tbody>\n",
       "    <tr>\n",
       "      <th>1</th>\n",
       "      <td>1</td>\n",
       "      <td>manakamana doesn't answer any questions, yet ...</td>\n",
       "    </tr>\n",
       "    <tr>\n",
       "      <th>2</th>\n",
       "      <td>1</td>\n",
       "      <td>wilfully offensive and powered by a chest-thu...</td>\n",
       "    </tr>\n",
       "    <tr>\n",
       "      <th>3</th>\n",
       "      <td>0</td>\n",
       "      <td>it would be difficult to imagine material mor...</td>\n",
       "    </tr>\n",
       "    <tr>\n",
       "      <th>4</th>\n",
       "      <td>0</td>\n",
       "      <td>despite the gusto its star brings to the role...</td>\n",
       "    </tr>\n",
       "    <tr>\n",
       "      <th>5</th>\n",
       "      <td>0</td>\n",
       "      <td>if there was a good idea at the core of this ...</td>\n",
       "    </tr>\n",
       "  </tbody>\n",
       "</table>\n",
       "</div>"
      ],
      "text/plain": [
       "  target                                             review\n",
       "1      1   manakamana doesn't answer any questions, yet ...\n",
       "2      1   wilfully offensive and powered by a chest-thu...\n",
       "3      0   it would be difficult to imagine material mor...\n",
       "4      0   despite the gusto its star brings to the role...\n",
       "5      0   if there was a good idea at the core of this ..."
      ]
     },
     "execution_count": 317,
     "metadata": {},
     "output_type": "execute_result"
    }
   ],
   "source": [
    "# Convert all text to lowercase so all words recognized the same \n",
    "reviews['review'] = [entry.lower() for entry in reviews['review']]\n",
    "\n",
    "# Can now been seen to contain no capital letters\n",
    "reviews.head()\n",
    "#type(reviews)\n"
   ]
  },
  {
   "cell_type": "code",
   "execution_count": 318,
   "metadata": {},
   "outputs": [
    {
     "data": {
      "text/plain": [
       "pandas.core.frame.DataFrame"
      ]
     },
     "execution_count": 318,
     "metadata": {},
     "output_type": "execute_result"
    }
   ],
   "source": [
    "# Tokenize each review: this process converts each review into a set of words. \n",
    "reviews['review'] = [word_tokenize(entry) for entry in reviews['review']]\n",
    "type(reviews)"
   ]
  },
  {
   "cell_type": "code",
   "execution_count": 195,
   "metadata": {},
   "outputs": [
    {
     "data": {
      "text/html": [
       "<div>\n",
       "<style scoped>\n",
       "    .dataframe tbody tr th:only-of-type {\n",
       "        vertical-align: middle;\n",
       "    }\n",
       "\n",
       "    .dataframe tbody tr th {\n",
       "        vertical-align: top;\n",
       "    }\n",
       "\n",
       "    .dataframe thead th {\n",
       "        text-align: right;\n",
       "    }\n",
       "</style>\n",
       "<table border=\"1\" class=\"dataframe\">\n",
       "  <thead>\n",
       "    <tr style=\"text-align: right;\">\n",
       "      <th></th>\n",
       "      <th>target</th>\n",
       "      <th>review</th>\n",
       "    </tr>\n",
       "  </thead>\n",
       "  <tbody>\n",
       "    <tr>\n",
       "      <th>1</th>\n",
       "      <td>1</td>\n",
       "      <td>[manakamana, does, n't, answer, any, questions...</td>\n",
       "    </tr>\n",
       "    <tr>\n",
       "      <th>2</th>\n",
       "      <td>1</td>\n",
       "      <td>[wilfully, offensive, and, powered, by, a, che...</td>\n",
       "    </tr>\n",
       "    <tr>\n",
       "      <th>3</th>\n",
       "      <td>0</td>\n",
       "      <td>[it, would, be, difficult, to, imagine, materi...</td>\n",
       "    </tr>\n",
       "    <tr>\n",
       "      <th>4</th>\n",
       "      <td>0</td>\n",
       "      <td>[despite, the, gusto, its, star, brings, to, t...</td>\n",
       "    </tr>\n",
       "    <tr>\n",
       "      <th>5</th>\n",
       "      <td>0</td>\n",
       "      <td>[if, there, was, a, good, idea, at, the, core,...</td>\n",
       "    </tr>\n",
       "  </tbody>\n",
       "</table>\n",
       "</div>"
      ],
      "text/plain": [
       "  target                                             review\n",
       "1      1  [manakamana, does, n't, answer, any, questions...\n",
       "2      1  [wilfully, offensive, and, powered, by, a, che...\n",
       "3      0  [it, would, be, difficult, to, imagine, materi...\n",
       "4      0  [despite, the, gusto, its, star, brings, to, t...\n",
       "5      0  [if, there, was, a, good, idea, at, the, core,..."
      ]
     },
     "execution_count": 195,
     "metadata": {},
     "output_type": "execute_result"
    }
   ],
   "source": [
    "reviews.head()"
   ]
  },
  {
   "cell_type": "code",
   "execution_count": 319,
   "metadata": {},
   "outputs": [],
   "source": [
    "# Next steps are stemming/lemmenting which reduces words to their root so that words such as 'loving' and 'loved'\n",
    "# both reduce to 'love'\n",
    "\n",
    "# Creating tags so that lemmatizer can understand verbs from nouns from adjectives \n",
    "tag_map = defaultdict(lambda : wn.NOUN)\n",
    "tag_map['J'] = wn.ADJ\n",
    "tag_map['V'] = wn.VERB\n",
    "tag_map['R'] = wn.ADV\n",
    "\n",
    "for index,entry in enumerate(reviews['review']):\n",
    "    index = index+1 # Index seems to off by one, this fixes it\n",
    "    # Words that follow the rules will end up in this list\n",
    "    Final_words = []\n",
    "    \n",
    "    word_Lemmatized = WordNetLemmatizer()\n",
    "    \n",
    "    for word, tag in pos_tag(entry):\n",
    "        if word not in stopwords.words('english') and word.isalpha():\n",
    "            word_Final = word_Lemmatized.lemmatize(word, tag_map[tag[0]])\n",
    "            Final_words.append(word_Final)\n",
    "        reviews.loc[index, 'text_final'] = str(Final_words)"
   ]
  },
  {
   "cell_type": "code",
   "execution_count": 237,
   "metadata": {},
   "outputs": [
    {
     "data": {
      "text/plain": [
       "(10000, 3)"
      ]
     },
     "execution_count": 237,
     "metadata": {},
     "output_type": "execute_result"
    }
   ],
   "source": [
    "reviews.shape"
   ]
  },
  {
   "cell_type": "code",
   "execution_count": 243,
   "metadata": {},
   "outputs": [
    {
     "data": {
      "text/plain": [
       "(10000, 3)"
      ]
     },
     "execution_count": 243,
     "metadata": {},
     "output_type": "execute_result"
    }
   ],
   "source": []
  },
  {
   "cell_type": "code",
   "execution_count": 167,
   "metadata": {},
   "outputs": [
    {
     "data": {
      "text/html": [
       "<div>\n",
       "<style scoped>\n",
       "    .dataframe tbody tr th:only-of-type {\n",
       "        vertical-align: middle;\n",
       "    }\n",
       "\n",
       "    .dataframe tbody tr th {\n",
       "        vertical-align: top;\n",
       "    }\n",
       "\n",
       "    .dataframe thead th {\n",
       "        text-align: right;\n",
       "    }\n",
       "</style>\n",
       "<table border=\"1\" class=\"dataframe\">\n",
       "  <thead>\n",
       "    <tr style=\"text-align: right;\">\n",
       "      <th></th>\n",
       "      <th>target</th>\n",
       "      <th>review</th>\n",
       "      <th>text_final</th>\n",
       "    </tr>\n",
       "  </thead>\n",
       "  <tbody>\n",
       "    <tr>\n",
       "      <th>96</th>\n",
       "      <td>1</td>\n",
       "      <td>[what, grounds, the, spectacle, ,, pushing, it...</td>\n",
       "      <td>['ground', 'spectacle', 'push', 'beyond', 'eja...</td>\n",
       "    </tr>\n",
       "    <tr>\n",
       "      <th>97</th>\n",
       "      <td>1</td>\n",
       "      <td>[the, performances, are, uniformly, excellent, .]</td>\n",
       "      <td>['performance', 'uniformly', 'excellent']</td>\n",
       "    </tr>\n",
       "    <tr>\n",
       "      <th>98</th>\n",
       "      <td>0</td>\n",
       "      <td>[the, truth, is, that, this, film, is, mostly,...</td>\n",
       "      <td>['truth', 'film', 'mostly', 'plain', 'work', '...</td>\n",
       "    </tr>\n",
       "    <tr>\n",
       "      <th>99</th>\n",
       "      <td>1</td>\n",
       "      <td>[capturing, that, particular, age, group, ,, o...</td>\n",
       "      <td>['capture', 'particular', 'age', 'group', 'lat...</td>\n",
       "    </tr>\n",
       "    <tr>\n",
       "      <th>100</th>\n",
       "      <td>0</td>\n",
       "      <td>[ballard, 's, sumptuous, images, exist, only, ...</td>\n",
       "      <td>['ballard', 'sumptuous', 'image', 'exist', 'di...</td>\n",
       "    </tr>\n",
       "  </tbody>\n",
       "</table>\n",
       "</div>"
      ],
      "text/plain": [
       "    target                                             review  \\\n",
       "96       1  [what, grounds, the, spectacle, ,, pushing, it...   \n",
       "97       1  [the, performances, are, uniformly, excellent, .]   \n",
       "98       0  [the, truth, is, that, this, film, is, mostly,...   \n",
       "99       1  [capturing, that, particular, age, group, ,, o...   \n",
       "100      0  [ballard, 's, sumptuous, images, exist, only, ...   \n",
       "\n",
       "                                            text_final  \n",
       "96   ['ground', 'spectacle', 'push', 'beyond', 'eja...  \n",
       "97           ['performance', 'uniformly', 'excellent']  \n",
       "98   ['truth', 'film', 'mostly', 'plain', 'work', '...  \n",
       "99   ['capture', 'particular', 'age', 'group', 'lat...  \n",
       "100  ['ballard', 'sumptuous', 'image', 'exist', 'di...  "
      ]
     },
     "execution_count": 167,
     "metadata": {},
     "output_type": "execute_result"
    }
   ],
   "source": [
    "reviews.tail() "
   ]
  },
  {
   "cell_type": "code",
   "execution_count": 335,
   "metadata": {},
   "outputs": [],
   "source": [
    "# Create Train and Test splits \n",
    "\n",
    "train_x, test_x, train_y, test_y = model_selection.train_test_split(reviews['text_final'], reviews['target'], test_size=.1)"
   ]
  },
  {
   "cell_type": "code",
   "execution_count": 321,
   "metadata": {},
   "outputs": [
    {
     "name": "stdout",
     "output_type": "stream",
     "text": [
      "\n",
      "train_x Shape:  (850,)\n",
      "\n",
      "train_y Shape:  (850,)\n",
      "\n",
      "test_x Shape:  (150,)\n",
      "\n",
      "test_y Shape:  (150,)\n",
      "304    ['rare', 'film', 'manage', 'simultaneously', '...\n",
      "797    ['ken', 'loach', 'breezy', 'scribble', 'lowlif...\n",
      "187    ['structurally', 'narratively', 'amputate', 'v...\n",
      "638                   ['pretty', 'much', 'people', 'iq']\n",
      "593    ['astonishing', 'vivid', 'portrait', 'time', '...\n",
      "                             ...                        \n",
      "381    ['duvernay', 'look', 'martin', 'luther', 'king...\n",
      "450    ['forget', 'evolution', 'franchise', 'need', '...\n",
      "299    ['annie', 'hall', 'expand', 'woody', 'allen', ...\n",
      "861    ['drama', 'start', 'playful', 'comedy', 'knock...\n",
      "444    ['jersey', 'boy', 'solid', 'watch', 'seek', 'd...\n",
      "Name: text_final, Length: 150, dtype: object\n"
     ]
    }
   ],
   "source": [
    "print(\"\\ntrain_x Shape: \", train_x.shape)\n",
    "print(\"\\ntrain_y Shape: \", train_y.shape)\n",
    "print(\"\\ntest_x Shape: \", test_x.shape)\n",
    "print(\"\\ntest_y Shape: \", test_y.shape)\n",
    "print(test_x)"
   ]
  },
  {
   "cell_type": "code",
   "execution_count": 336,
   "metadata": {},
   "outputs": [],
   "source": [
    "Encoder = LabelEncoder()\n",
    "train_y = Encoder.fit_transform(train_y)\n",
    "test_y = Encoder.fit_transform(test_y)"
   ]
  },
  {
   "cell_type": "code",
   "execution_count": 337,
   "metadata": {},
   "outputs": [
    {
     "name": "stdout",
     "output_type": "stream",
     "text": [
      "{'manakamana': 2466, 'answer': 182, 'question': 3174, 'yet': 4518, 'make': 2455, 'point': 3030, 'nepal': 2705, 'like': 2360, 'rest': 3331, 'planet': 2999, 'picturesque': 2980, 'far': 1494, 'peaceable': 2930, 'kingdom': 2254, 'wilfully': 4449, 'offensive': 2804, 'power': 3065, 'machismo': 2437, 'good': 1758, 'clean': 695, 'fun': 1667, 'would': 4502, 'difficult': 1095, 'imagine': 2011, 'material': 2501, 'wrong': 4510, 'spade': 3735, 'lose': 2403, 'find': 1554, 'despite': 1068, 'gusto': 1815, 'star': 3792, 'brings': 502, 'role': 3391, 'hard': 1848, 'ride': 3357, 'shotgun': 3595, 'hector': 1883, 'voyage': 4373, 'discovery': 1126, 'idea': 1997, 'core': 863, 'film': 1542, 'bury': 537, 'unsightly': 4287, 'pile': 2986, 'flatulence': 1579, 'joke': 2206, 'bad': 307, 'pun': 3149, 'ridiculous': 3358, 'serial': 3539, 'arson': 227, 'plot': 3018, 'gleeson': 1739, 'go': 1752, 'hallmark': 1829, 'channel': 626, 'route': 3405, 'damage': 956, 'intermittently': 2130, 'curious': 941, 'entry': 1350, 'time': 4081, 'travel': 4150, 'subgenre': 3864, 'height': 1886, 'satire': 3450, 'dark': 973, 'hell': 1892, 'patently': 2921, 'absurd': 12, 'surely': 3915, 'nowhere': 2762, 'close': 708, 'objective': 2775, 'reality': 3227, 'surpass': 3923, 'somewhere': 3717, 'jerry': 2192, 'springer': 3769, 'era': 1360, 'everyone': 1389, 'comedian': 748, 'deserve': 1058, 'movie': 2646, 'actor': 49, 'encourage': 1310, 'grumpy': 1805, 'christian': 669, 'embrace': 1293, 'season': 3500, 'slight': 3670, 'contain': 830, 'ineffably': 2064, 'soulful': 3727, 'bell': 372, 'debut': 998, 'feature': 1516, 'address': 60, 'subject': 3865, 'humor': 1983, 'intelligence': 2117, 'approach': 204, 'issue': 2171, 'performance': 2943, 'enhancement': 1331, 'every': 1386, 'conceivable': 784, 'angle': 171, 'except': 1405, 'shamelessly': 3568, 'irresistibly': 2166, 'zingy': 4531, 'music': 2661, 'score': 3483, 'director': 1111, 'halloween': 1831, 'achieve': 37, 'considerable': 819, 'almost': 127, 'entirely': 1347, 'visual': 4362, 'mean': 2515, 'one': 2814, 'uninitiated': 4262, 'also': 134, 'people': 2936, 'action': 46, 'thrill': 4062, 'son': 3719, 'saul': 3459, 'employ': 1303, 'formal': 1617, 'mechanic': 2521, 'filmmaking': 1545, 'turn': 4194, 'back': 304, 'around': 223, 'cinema': 678, 'best': 384, 'hand': 1832, 'great': 1781, 'filmmaker': 1544, 'showing': 3601, 'show': 3597, 'tell': 4007, 'fox': 1633, 'ca': 541, 'act': 44, 'backchat': 305, 'filthy': 1546, 'funny': 1671, 'hiddleston': 1907, 'swinton': 3949, 'lovely': 2412, 'watch': 4401, 'need': 2695, 'chew': 649, 'yossi': 4520, 'strong': 3843, 'predecessor': 3079, 'deeply': 1011, 'felt': 1521, 'less': 2337, 'reliant': 3282, 'convention': 847, 'feel': 1519, 'sparkle': 3739, 'baby': 303, 'puke': 3145, 'dust': 1230, 'head': 1869, 'long': 2396, 'unfocused': 4252, 'kubo': 2264, 'two': 4200, 'string': 3841, 'immersive': 2017, 'absorptive': 11, 'pull': 3146, 'knight': 2255, 'direction': 1109, 'become': 356, 'part': 2903, 'studio': 3848, 'technical': 3996, 'wizardry': 4477, 'easy': 1246, 'enjoy': 1332, 'susceptible': 3932, 'sort': 3725, 'thing': 4047, 'leave': 2319, 'nothing': 2756, 'think': 4048, 'opportunity': 2827, 'brook': 512, 'miss': 2593, 'something': 3714, 'worthwhile': 4500, 'extraordinary': 1459, 'blast': 417, 'past': 2918, 'first': 1565, 'class': 691, 'decade': 999, 'superhero': 3903, 'mostly': 2636, 'lightweight': 2358, 'interesting': 2126, 'jamie': 2180, 'foxx': 1634, 'electro': 1282, 'villain': 4351, 'embody': 1292, 'black': 408, 'rage': 3190, 'malcolm': 2456, 'mutant': 2667, 'drawn': 1201, 'per': 2938, 'disclaimer': 1122, 'period': 2947, 'account': 29, 'strange': 3831, 'phenomenon': 2967, 'psychotic': 3140, 'break': 485, 'among': 153, 'settler': 3549, 'egger': 1269, 'impeccably': 2020, 'craft': 886, 'historically': 1922, 'accurate': 33, 'creepshow': 903, 'wear': 4415, 'research': 3317, 'tattered': 3984, 'gingham': 1727, 'sleeve': 3666, 'hone': 1945, 'dramatic': 1196, 'element': 1284, 'emotional': 1299, 'effect': 1261, 'rather': 3211, 'fall': 1480, 'slasher': 3656, 'template': 4010, 'moretz': 2632, 'bring': 501, 'seem': 3507, 'decent': 1002, 'fourth': 1632, 'final': 1548, 'stroll': 3842, 'american': 147, 'pie': 2981, 'gutter': 1817, 'swamp': 3939, 'reason': 3233, 'work': 4492, 'much': 2648, 'sequel': 3532, 'simply': 3626, 'special': 3743, 'even': 1379, 'free': 1643, 'bird': 398, 'unappealingly': 4218, 'stag': 3783, 'pace': 2870, 'uneven': 4248, 'sluggishness': 3677, 'beg': 360, 'since': 3631, 'always': 137, 'happen': 1843, 'crushingly': 925, 'dull': 1223, 'joyless': 2217, 'misanthropic': 2585, 'minute': 2579, 'worth': 4498, 'comedy': 750, 'rate': 3210, 'coen': 724, 'brother': 513, 'take': 3969, 'marvelous': 2491, 'imponderable': 2028, 'mystery': 2670, 'critic': 910, 'direct': 1108, 'john': 2203, 'glen': 1740, 'follow': 1601, 'number': 2767, 'plod': 3015, 'unimaginative': 4261, 'set': 3545, 'piece': 2982, 'next': 2717, 'purely': 3157, 'visceral': 4359, 'generate': 1700, 'adrenaline': 69, 'alarm': 110, 'tear': 3994, 'berg': 380, 'manage': 2463, 'avoid': 289, 'seriousness': 3542, 'still': 3814, 'respect': 3328, 'peppermint': 2937, 'could': 874, 'least': 2318, 'trash': 4147, 'decide': 1003, 'exercise': 1418, 'shallowness': 3565, 'want': 4388, 'high': 1908, 'body': 440, 'count': 875, 'step': 3806, 'right': 3364, 'brain': 477, 'behind': 364, 'brawn': 484, 'sorely': 3724, 'hidden': 1906, 'agenda': 91, 'eventually': 1383, 'surface': 3917, 'strain': 3829, 'credibility': 901, 'foster': 1629, 'ability': 3, 'reign': 3270, 'improbable': 2037, 'allow': 125, 'flight': 1588, 'deliver': 1032, 'requisite': 3314, 'romantic': 3394, 'new': 2714, 'offer': 2805, 'rise': 3370, 'awkwafina': 299, 'riff': 3362, 'wealth': 4413, 'gap': 1685, 'race': 3184, 'relies': 3283, 'stereotype': 3808, 'estevez': 1372, 'well': 4429, 'heart': 1875, 'place': 2997, 'excuse': 1414, 'insipid': 2099, 'ineptitude': 2065, 'ralston': 3198, 'love': 2411, 'live': 2382, 'life': 2348, 'ragged': 3191, 'edge': 1254, 'disaster': 1119, 'boyle': 472, 'narrow': 2684, 'breathtaking': 491, 'fine': 1555, 'entertainment': 1343, 'irreparable': 2162, 'harm': 1855, 'series': 3540, 'whole': 4439, 'hangover': 1839, 'ii': 2006, 'notably': 2753, 'justify': 2229, 'effort': 1268, 'spend': 3750, 'add': 58, 'nearly': 2691, 'identical': 1999, 'episode': 1355, 'original': 2836, 'multiplex': 2653, 'amy': 159, 'sedaris': 3503, 'suit': 3893, 'favorite': 1511, 'school': 3478, 'student': 3847, 'quite': 3181, 'version': 4334, 'cult': 932, 'tv': 4195, 'see': 3505, 'unadorned': 4215, 'face': 1467, 'camera': 551, 'afternoon': 88, 'shadow': 3562, 'move': 2645, 'across': 43, 'large': 2289, 'building': 525, 'forlorn': 1615, 'image': 2008, 'abandon': 0, 'amusement': 158, 'park': 2899, 'misty': 2598, 'magical': 2446, 'quiet': 3178, 'throughout': 4067, 'documentary': 1171, 'gorgeous': 1762, 'teenager': 4003, 'goofy': 1759, 'smile': 3683, 'ache': 36, 'beautifully': 352, 'shot': 3594, 'aggressively': 93, 'menacing': 2539, 'sumptuous': 3897, 'disturbing': 1156, 'concept': 786, 'cool': 857, 'execution': 1417, 'gyllenhaal': 1819, 'ledger': 2322, 'old': 2811, 'waylon': 4411, 'willie': 4451, 'song': 3720, 'teach': 3990, 'ai': 97, 'hold': 1932, 'unsubtle': 4289, 'try': 4184, 'say': 3467, 'extensively': 1456, 'choreograph': 667, 'fight': 1536, 'sequence': 3533, 'mortal': 2634, 'blow': 431, 'often': 2807, 'little': 2381, 'lasting': 2292, 'impact': 2019, 'brawl': 483, 'bergman': 381, 'undisputed': 4241, 'masterpiece': 2498, 'seminal': 3516, 'psychonalayis': 3139, 'metacinema': 2550, 'raise': 3196, 'complex': 772, 'identity': 2000, 'possibly': 3058, 'thus': 4072, 'deliberately': 1026, 'encouraging': 1311, 'ambivalence': 145, 'ambiguity': 141, 'somehow': 3711, 'revolutionary': 3351, 'empower': 1304, 'message': 2548, 'never': 2712, 'get': 1715, 'dunn': 1228, 'sexually': 3556, 'psychologically': 3137, 'arrest': 225, 'pathology': 2922, 'block': 424, 'come': 747, 'frothy': 1660, 'manifesto': 2469, 'briskly': 504, 'sharply': 3576, 'write': 4508, 'infectiously': 2072, 'entertaining': 1342, 'deficiency': 1016, 'insignificant': 2098, 'lightly': 2356, 'chip': 656, 'fingernail': 1557, 'disappointing': 1116, 'rosemary': 3401, 'stoop': 3821, 'desperate': 1065, 'pyrotechnic': 3165, 'nudity': 2765, 'put': 3163, 'together': 4098, 'choppily': 664, 'appreciate': 203, 'athleticism': 255, 'parkour': 2901, 'confirm': 802, 'perception': 2939, 'loser': 2404, 'attend': 263, 'reunion': 3341, 'young': 4521, 'truly': 4181, 'fantasy': 1493, 'big': 390, 'screen': 3489, 'prime': 3101, 'way': 4410, 'goal': 1753, 'expect': 1429, 'embellishment': 1291, 'horror': 1965, 'thriller': 4063, 'claim': 686, 'base': 329, 'true': 4180, 'story': 3824, 'actual': 52, 'event': 1381, 'however': 1972, 'sell': 3512, 'merely': 2545, 'viewer': 4345, 'delight': 1028, 'hilarity': 1914, 'cable': 542, 'guy': 1818, 'wind': 4458, 'vomit': 4371, 'produce': 3110, 'various': 4322, 'gastric': 1691, 'noise': 2737, 'etc': 1373, 'sweet': 3942, 'charming': 635, 'loss': 2405, 'beloved': 375, 'leading': 2312, 'man': 2462, 'lend': 2328, 'picture': 2979, 'extra': 1457, 'unexpected': 4249, 'pathos': 2923, 'might': 2562, 'perhaps': 2946, 'adequate': 62, 'animated': 174, 'child': 651, 'thor': 4052, 'odin': 2799, 'others': 2842, 'play': 3002, 'piglet': 2985, 'arena': 215, 'comic': 751, 'book': 452, 'superheroes': 3904, 'desolate': 1063, 'vastation': 4324, 'short': 3592, 'fresh': 1649, 'thanks': 4039, 'script': 3496, 'provide': 3132, 'enough': 1336, 'depth': 1051, 'render': 3300, 'character': 628, 'collection': 736, 'eccentricity': 1249, 'drama': 1195, 'crash': 891, 'wait': 4381, 'cross': 914, 'gatlif': 1692, 'view': 4344, 'flamenco': 1573, 'may': 2507, 'excruciatingly': 1413, 'trite': 4173, 'mountain': 2644, 'crap': 889, 'remembers': 3294, 'suppose': 3911, 'hokum': 1930, 'wit': 4471, 'attenborough': 262, 'wilson': 4456, 'forget': 1610, 'rash': 3209, 'putative': 3164, 'improvement': 2038, 'family': 1487, 'fare': 1495, 'sex': 3552, 'scene': 3473, 'pretty': 3095, 'hot': 1967, 'though': 4054, 'diminish': 1104, 'limited': 2367, 'perfectly': 2941, 'enjoyable': 1333, 'forgettable': 1611, 'general': 1698, 'playful': 3003, 'tone': 4105, 'help': 1894, 'deal': 994, 'cinematography': 681, 'edit': 1256, 'appealingly': 200, 'glossy': 1749, 'smooth': 3685, 'spielberg': 3751, 'neither': 2703, 'purehearted': 3156, 'popcorn': 3045, 'flick': 1587, 'paul': 2925, 'verhoevenesque': 4333, 'subversion': 3878, 'uneasily': 4246, 'cow': 883, 'fanboy': 1491, 'demographic': 1037, 'political': 3037, 'pelting': 2933, 'gripping': 1793, 'focus': 1598, 'innocent': 2092, 'whose': 4441, 'destroy': 1072, 'either': 1276, 'terrorist': 4031, 'administration': 64, 'feeling': 1520, 'saw': 3466, 'bottom': 465, 'dirty': 1112, 'glass': 1736, 'experience': 1434, 'precision': 3078, 'duplicate': 1229, 'sensation': 3518, 'success': 3880, 'reconstituted': 3244, 'blend': 421, 'ghostbusters': 1717, 'meet': 2526, 'men': 2538, 'pinch': 2987, 'problem': 3104, 'amount': 154, 'hill': 1915, 'bean': 344, 'stalin': 3786, 'ussr': 4304, 'real': 3223, 'world': 4494, 'doublethink': 1185, 'cash': 593, 'grab': 1767, 'paint': 2883, 'perpetrator': 2953, 'saviour': 3462, 'exploit': 1442, 'victim': 4339, 'fringe': 1656, 'society': 3701, 'model': 2605, 'figure': 1539, 'inspiration': 2102, 'mainstream': 2451, 'uncritical': 4228, 'audience': 269, 'aire': 102, 'mother': 2637, 'courage': 879, 'full': 1665, 'review': 3349, 'spanish': 3737, 'let': 2338, 'happily': 1845, 'ever': 1384, 'wadded': 4379, 'squish': 3779, 'side': 3609, 'heavy': 1882, 'lifting': 2352, 'watson': 4404, 'moment': 2613, 'must': 2665, 'wipe': 4465, 'memory': 2537, 'protect': 3129, 'task': 3981, 'listless': 2375, 'mary': 2492, 'magdalene': 2443, 'nevertheless': 2713, 'affecting': 81, 'contemplative': 831, 'hagiography': 1822, 'biblical': 389, 'inclined': 2047, 'towards': 4124, 'arthouse': 230, 'aesthetic': 77, 'anything': 194, 'lawrence': 2304, 'reunites': 3342, 'game': 1679, 'sadistic': 3430, 'russian': 3423, 'spy': 3773, 'saga': 3434, 'nyet': 2772, 'year': 4515, 'ago': 94, 'french': 1645, 'classic': 692, 'throat': 4066, 'particularly': 2908, 'seyfried': 3558, 'redgrave': 3249, 'spirit': 3756, 'contagious': 829, 'nicely': 2719, 'gory': 1763, 'uninspired': 4263, 'handsomely': 1837, 'photographed': 2973, 'consequence': 816, 'damon': 958, 'superbly': 3901, 'silly': 3621, 'beautiful': 351, 'mind': 2574, 'talent': 3971, 'water': 4403, 'tip': 4085, 'hurt': 1990, 'dog': 1172, 'insistence': 2100, 'another': 181, 'seemingly': 3508, 'endless': 1317, 'meditation': 2525, 'travail': 4149, 'krampus': 2263, 'toothless': 4108, 'several': 3551, 'level': 2342, 'sf': 3560, 'completely': 771, 'transparent': 4144, 'production': 3112, 'design': 1060, 'famil': 1484, 'celebration': 605, 'hear': 1873, 'phrase': 2974, 'door': 1181, 'clear': 697, 'translates': 4142, 'onto': 2820, 'market': 2483, 'historical': 1921, 'fiction': 1531, 'king': 2253, 'arthur': 232, 'actually': 53, 'octane': 2793, 'showcases': 3599, 'excalibur': 1401, 'guide': 1811, 'destiny': 1071, 'chemistry': 648, 'lead': 2310, 'breezy': 492, 'affect': 80, 'age': 90, 'wistful': 4470, 'reminiscence': 3298, 'lifetime': 2350, 'pleasure': 3012, 'operate': 2825, 'genius': 1706, 'give': 1731, 'field': 1535, 'cost': 870, 'purgatory': 3158, 'bobby': 439, 'fischer': 1567, 'inhabit': 2083, 'essential': 1368, 'maintain': 2452, 'powerful': 3066, 'atmospherics': 258, 'superb': 3900, 'cast': 594, 'include': 2048, 'nicole': 2723, 'kidman': 2244, 'surgeon': 3920, 'unsuspecting': 4292, 'wife': 4444, 'ground': 1801, 'spectacle': 3745, 'push': 3162, 'beyond': 388, 'ejaculation': 1277, 'yearning': 4516, 'innocence': 2091, 'uniformly': 4258, 'excellent': 1404, 'truth': 4183, 'plain': 2998, 'do': 1164, 'rote': 3402, 'introductory': 2143, 'potion': 3063, 'capture': 573, 'particular': 2907, 'group': 1803, 'late': 2294, 'early': 1238, 'enter': 1340, 'adulthood': 73, 'certain': 611, 'reluctance': 3287, 'trepidation': 4161, 'ballard': 316, 'exist': 1422, 'distract': 1151, 'conventional': 848, 'failing': 1472, 'craftsmanship': 887, 'spouse': 3764, 'vicariously': 4337, 'hickenlooper': 1905, 'unsure': 4291, 'crisis': 908, 'really': 3230, 'classy': 694, 'lite': 2377, 'kudos': 2265, 'cuaron': 928, 'surreal': 3928, 'memoir': 2534, 'troubled': 4178, 'coming': 752, 'crass': 893, 'vulgar': 4375, 'inane': 2042, 'adjective': 63, 'effectively': 1263, 'convey': 849, 'agony': 95, 'humshakals': 1986, 'zootopia': 4536, 'fill': 1541, 'lovable': 2410, 'heartfelt': 1876, 'kid': 2242, 'along': 130, 'layered': 2307, 'subtext': 3874, 'adult': 71, 'timely': 4083, 'grand': 1772, 'statement': 3797, 'shallow': 3564, 'instead': 2110, 'deep': 1009, 'carry': 587, 'weight': 4422, 'broken': 510, 'wilder': 4446, 'farmyard': 1497, 'sink': 3636, 'elsewhere': 1288, 'deny': 1042, 'skill': 3646, 'deliberate': 1025, 'uncompromising': 4226, 'sad': 3429, 'bob': 438, 'clark': 688, 'inspired': 2105, 'genre': 1707, 'pic': 2976, 'hollywood': 1936, 'empty': 1306, 'heavily': 1881, 'perfume': 2945, 'commercial': 754, 'pity': 2996, 'crowd': 918, 'cute': 947, 'date': 979, 'night': 2724, 'crazy': 896, 'stupid': 3855, 'ask': 239, 'burger': 534, 'serve': 3543, 'escargot': 1365, 'mccarthy': 2510, 'road': 3378, 'bleak': 420, 'nightmarish': 2725, 'stir': 3816, 'optimistic': 2830, 'remain': 3289, 'argue': 216, 'hope': 1956, 'clever': 700, 'surprising': 3926, 'complicate': 773, 'strike': 3840, 'spark': 3738, 'fails': 1473, 'juggle': 2222, 'myriad': 2669, 'successfully': 3882, 'observe': 2780, 'endear': 1313, 'quirky': 3180, 'sense': 3521, 'genuine': 1709, 'affection': 82, 'setting': 3547, 'boxoffice': 470, 'tingle': 4084, 'million': 2571, 'week': 4420, 'last': 2291, 'stand': 3788, 'likely': 2362, 'penultimate': 2935, 'whatever': 4432, 'muse': 2660, 'drive': 1210, 'malick': 2458, 'found': 1630, 'discover': 1125, 'shoot': 3589, 'profound': 3117, 'accuse': 34, 'cheat': 643, 'cup': 938, 'leapfrog': 2316, 'unsatisfactory': 4285, 'conquest': 814, 'endearingly': 1314, 'straightforward': 3828, 'intimate': 2138, 'study': 3850, 'wholly': 4440, 'relatable': 3272, 'mcdonagh': 2511, 'line': 2369, 'without': 4475, 'compare': 761, 'know': 2259, 'sock': 3703, 'home': 1940, 'harrelson': 1857, 'prepared': 3087, 'iron': 2158, 'patel': 2919, 'create': 897, 'bit': 401, 'magic': 2445, 'mathematical': 2502, 'dance': 960, 'brown': 514, 'bog': 441, 'female': 1522, 'sweep': 3941, 'corner': 864, 'meaty': 2520, 'proc': 3105, 'emotionally': 1300, 'devastating': 1078, 'apart': 196, 'toward': 4123, 'end': 1312, 'objectivity': 2776, 'descend': 1055, 'charm': 633, 'mile': 2567, 'teller': 4008, 'analeigh': 162, 'tipton': 4088, 'compensates': 766, 'screenplay': 3491, 'bridge': 494, 'divide': 1160, 'romance': 3393, 'cruder': 921, 'par': 2891, 'course': 880, 'modern': 2608, 'awful': 297, 'syfy': 3953, 'network': 2710, 'saturday': 3458, 'inexplicably': 2069, 'escape': 1364, 'eye': 1463, 'ear': 1237, 'attention': 264, 'gradually': 1770, 'chopin': 663, 'piano': 2975, 'form': 1616, 'spine': 3755, 'soundtrack': 3730, 'convoluted': 855, 'tale': 3970, 'corruption': 866, 'within': 4474, 'rank': 3203, 'police': 3035, 'japanese': 2184, 'draw': 1200, 'compassion': 763, 'upside': 4301, 'onset': 2818, 'alzheimer': 138, 'scotland': 3485, 'partnership': 2909, 'overhaul': 2858, 'franchise': 1637, 'pirate': 2992, 'adrift': 70, 'leaf': 2313, 'many': 2477, 'derisive': 1052, 'laugh': 2297, 'dead': 988, 'snails': 3690, 'lot': 2407, 'scenery': 3474, 'outside': 2850, 'initial': 2087, 'hubbaloo': 1973, 'charlotte': 632, 'nice': 2718, 'second': 3502, 'pale': 2885, 'imitation': 2014, 'yes': 4517, 'nervous': 2708, 'james': 2179, 'officially': 2806, 'stewart': 3810, 'care': 576, 'anyway': 195, 'folk': 1600, 'actr': 50, 'broadway': 508, 'musical': 2662, 'genuinely': 1710, 'exploration': 1445, 'relationship': 3273, 'headstrong': 1871, 'woman': 4482, 'europe': 1377, 'heroine': 1901, 'tautou': 3986, 'dime': 1102, 'dozen': 1192, 'costume': 872, 'detail': 1073, 'chanel': 623, 'case': 592, 'finale': 1549, 'involve': 2153, 'battle': 339, 'enthusiast': 1344, 'safe': 3432, 'intriguing': 2140, 'erotic': 1361, 'undone': 4242, 'generic': 1703, 'limp': 2368, 'anthology': 183, 'brief': 497, 'language': 2286, 'theme': 4042, 'occasionally': 2790, 'insightful': 2097, 'welcome': 4428, 'throwback': 4069, 'hallow': 1830, 'daze': 985, 'penelope': 2934, 'cruz': 926, 'outstanding': 2853, 'otherwise': 2843, 'lame': 2279, 'male': 2457, 'bold': 443, 'innovative': 2093, 'spiritually': 3757, 'challenge': 617, 'chop': 662, 'lover': 2413, 'concerned': 789, 'cuddly': 930, 'meaningful': 2518, 'insight': 2096, 'substance': 3873, 'whether': 4435, 'fail': 1471, 'recommend': 3243, 'downer': 1190, 'warm': 4391, 'pleaser': 3010, 'reef': 3256, 'bullock': 528, 'interpretan': 2133, 'el': 1278, 'papel': 2890, 'de': 987, 'su': 3860, 'vida': 4341, 'sin': 3630, 'embargo': 1290, 'cumplen': 936, 'con': 783, 'la': 2267, 'expectativas': 1431, 'del': 1024, 'en': 1307, 'un': 4213, 'producto': 3113, 'ligero': 2353, 'fin': 1547, 'sem': 3515, 'wolf': 4481, 'wall': 4385, 'street': 3836, 'speak': 3741, 'important': 2030, 'listen': 2374, 'ridley': 3360, 'scott': 3486, 'third': 4050, 'boy': 471, 'predictable': 3081, 'romcom': 3396, 'racy': 3187, 'suffer': 3886, 'relative': 3274, 'lack': 2269, 'ambition': 143, 'immaculately': 2015, 'observed': 2781, 'soar': 3697, 'creative': 899, 'literate': 2380, 'setup': 3550, 'air': 100, 'leak': 2314, 'flatten': 1578, 'momentum': 2615, 'hour': 1970, 'captain': 570, 'underpants': 4234, 'epic': 1354, 'source': 3731, 'plus': 3024, 'perform': 2942, 'weird': 4424, 'al': 106, 'groundbreaking': 1802, 'derrickson': 1054, 'use': 4303, 'sledgehammer': 3661, 'tilt': 4079, 'everything': 1390, 'dilute': 1100, 'terrify': 4026, 'supernatural': 3907, 'darkness': 975, 'fast': 1504, 'cut': 946, 'furious': 1672, 'vibe': 4336, 'faux': 1509, 'sexiness': 3553, 'torque': 4113, 'can': 556, 'mighty': 2563, 'flat': 1577, 'rarely': 3208, 'literally': 2378, 'chore': 666, 'word': 4491, 'soulless': 3728, 'universe': 4269, 'expands': 1428, 'small': 3679, 'formulaic': 1622, 'twaddle': 4196, 'dafoe': 953, 'prof': 3114, 'ruggedness': 3414, 'sensitivity': 3524, 'conflicted': 804, 'hero': 1900, 'foot': 1603, 'orbit': 2832, 'metaphysical': 2552, 'slant': 3654, 'proceeding': 3107, 'haunting': 1864, 'ruminative': 3416, 'phoenix': 2971, 'value': 4316, 'acting': 45, 'overall': 2856, 'wan': 4387, 'wax': 4408, 'internal': 2131, 'struggle': 3846, 'expand': 1427, 'viral': 4356, 'video': 4342, 'dry': 1218, 'procedural': 3106, 'city': 685, 'permit': 2951, 'bitty': 406, 'bat': 335, 'closure': 710, 'savvy': 3465, 'social': 3700, 'promotion': 3122, 'bon': 446, 'satiate': 3449, 'desire': 1061, 'nazi': 2689, 'occupation': 2791, 'france': 1636, 'war': 4389, 'luck': 2420, 'wash': 4396, 'shore': 3591, 'startling': 3795, 'smash': 3682, 'recent': 3237, 'collapse': 734, 'finishing': 1559, 'barely': 325, 'breath': 489, 'lung': 2426, 'document': 1168, 'testament': 4034, 'differently': 1094, 'clothes': 711, 'mishap': 2589, 'av': 283, 'fortunate': 1627, 'smartphones': 3681, 'proud': 3130, 'sure': 3914, 'interest': 2124, 'politics': 3040, 'accidental': 23, 'minister': 2577, 'indian': 2058, 'familiar': 1485, 'disney': 1136, 'archetype': 210, 'twist': 4198, 'vivid': 4366, 'imaginative': 2010, 'shape': 3572, 'hybrid': 1992, 'sometimes': 3715, 'call': 549, 'dramedies': 1199, 'savage': 3460, 'tiptoe': 4087, 'fraught': 1642, 'tightrope': 4078, 'balance': 313, 'observant': 2779, 'sadness': 3431, 'uncommon': 4225, 'grace': 1768, 'eerily': 1260, 'photograph': 2972, 'suspenseful': 3935, 'scary': 3470, 'silliness': 3620, 'skittish': 3650, 'fatal': 1506, 'hysteria': 1995, 'rapid': 3206, 'unconvincing': 4227, 'finally': 1550, 'faith': 1478, 'away': 293, 'terrible': 4022, 'decision': 1005, 'unfold': 4253, 'tedious': 3999, 'badly': 309, 'outrageous': 2849, 'raunchy': 3214, 'bathroom': 338, 'zuckers': 4537, 'likable': 2359, 'serviceable': 3544, 'noir': 2736, 'violent': 4355, 'vengeful': 4330, 'equalizer': 1358, 'treat': 4153, 'overlong': 2859, 'clunky': 717, 'underwhelming': 4239, 'protagonist': 3128, 'baggage': 311, 'sap': 3445, 'laid': 2276, 'undercut': 4232, 'scare': 3469, 'suffragette': 3889, 'visuals': 4364, 'drowns': 1213, 'subjectivity': 3866, 'amazing': 140, 'touch': 4118, 'seat': 3501, 'cause': 602, 'shed': 3578, 'muddled': 2650, 'revenge': 3347, 'crime': 907, 'release': 3277, 'distributor': 1152, 'boast': 436, 'energy': 1322, 'run': 3417, 'mediocre': 2524, 'watchable': 4402, 'candy': 558, 'slapstick': 3655, 'distinguishing': 1150, 'sophistication': 3723, 'informative': 2078, 'catch': 598, 'angst': 172, 'undertaking': 4238, 'appear': 201, 'engage': 1324, 'respectful': 3329, 'arm': 219, 'length': 2329, 'structurally': 3844, 'narratively': 2683, 'amputate': 156, 'volume': 4370, 'retains': 3336, 'gut': 1816, 'gam': 1678, 'installment': 2108, 'onslaught': 2819, 'boom': 454, 'result': 3335, 'decreased': 1007, 'effectiveness': 1264, 'david': 982, 'frost': 1659, 'soft': 3705, 'nixon': 2730, 'got': 1764, 'device': 1084, 'trouble': 4177, 'triumphant': 4175, 'grow': 1804, 'tooth': 4107, 'lately': 2295, 'reasonable': 3234, 'possible': 3057, 'conclusion': 793, 'ape': 197, 'arc': 209, 'solid': 3707, 'preparation': 3085, 'flaw': 1580, 'difficulty': 1096, 'main': 2449, 'mexican': 2554, 'confound': 805, 'befuddle': 359, 'amaze': 139, 'increasingly': 2053, 'diverse': 1157, 'honestly': 1947, 'describe': 1057, 'look': 2397, 'sound': 3729, 'history': 1923, 'surprise': 3925, 'anticipation': 185, 'justice': 2228, 'showdown': 3600, 'louis': 2409, 'zamperini': 4527, 'somebody': 3710, 'poignant': 3029, 'observer': 2782, 'dimension': 1103, 'dynamic': 1233, 'hirokazu': 1920, 'master': 2497, 'girault': 1729, 'present': 3089, 'situation': 3639, 'extreme': 1460, 'romantized': 3395, 'lense': 2333, 'warmness': 4392, 'dim': 1101, 'light': 2354, 'comunication': 782, 'beleivability': 367, 'spectator': 3746, 'assure': 251, 'resolve': 3324, 'helen': 1890, 'enrich': 1337, 'throw': 4068, 'sugar': 3890, 'system': 3957, 'dialogue': 1088, 'antiquated': 188, 'obviousness': 2788, 'hunt': 1989, 'wilderpeople': 4447, 'mask': 2493, 'earnest': 1240, 'sweetness': 3944, 'giggle': 1724, 'distrust': 1153, 'authority': 281, 'mischievous': 2587, 'develop': 1081, 'art': 228, 'musty': 2666, 'auditorium': 271, 'century': 610, 'start': 3794, 'auteur': 278, 'aviator': 288, 'competence': 767, 'believer': 371, 'skeptic': 3642, 'critique': 912, 'blockbuster': 425, 'argues': 217, 'simulation': 3628, 'divorce': 1161, 'defiance': 1014, 'groan': 1798, 'deadly': 990, 'earnestness': 1241, 'mount': 2643, 'strangely': 3832, 'inert': 2066, 'brilliant': 499, 'bispuri': 400, 'ambitious': 144, 'daughter': 980, 'mine': 2575, 'expertly': 1437, 'richly': 3355, 'change': 624, 'crude': 920, 'whimsical': 4436, 'overblown': 2857, 'caricature': 582, 'screwball': 3493, 'personality': 2958, 'reduce': 3251, 'sketch': 3643, 'gibney': 1721, 'professional': 3116, 'solidly': 3708, 'execute': 1416, 'underinformed': 4233, 'aesthetically': 78, 'noteworthy': 2755, 'wonderfully': 4485, 'serene': 3536, 'portrait': 3050, 'carthusian': 588, 'reflect': 3260, 'rhythm': 3352, 'monastic': 2616, 'regimen': 3266, 'snl': 3693, 'alumnus': 136, 'keep': 2235, 'skit': 3649, 'stuff': 3851, 'donoghue': 1179, 'lenny': 2331, 'abrahamson': 6, 'musketeer': 2664, 'anderson': 164, 'depressingly': 1050, 'representative': 3309, 'eager': 1236, 'dazzle': 986, 'clueless': 715, 'sentimental': 3529, 'dreck': 1206, 'fluffy': 1596, 'order': 2833, 'cautious': 603, 'matter': 2504, 'anxious': 191, 'hint': 1916, 'sensationalism': 3520, 'exceedingly': 1402, 'attractive': 266, 'curiously': 942, 'bland': 414, 'dramatically': 1197, 'dubious': 1220, 'mark': 2482, 'kind': 2250, 'anonymous': 180, 'traditionalist': 4132, 'maybe': 2508, 'franco': 1638, 'dullest': 1224, 'memorably': 2536, 'disturb': 1154, 'stick': 3811, 'explanation': 1439, 'tsui': 4186, 'hark': 1854, 'romp': 3397, 'exactly': 1397, 'spin': 3754, 'indiana': 2059, 'jones': 2209, 'adventure': 75, 'title': 4094, 'suggest': 3891, 'match': 2500, 'authenticity': 280, 'intensity': 2119, 'type': 4202, 'talk': 3973, 'unbelievably': 4220, 'hokey': 1929, 'spite': 3758, 'terpsichore': 4020, 'display': 1137, 'resolutely': 3322, 'mawkish': 2506, 'melodrama': 2530, 'lackluster': 2271, 'nancy': 2680, 'nonjudgmental': 2745, 'distinctly': 1148, 'storyline': 3825, 'space': 3733, 'cadet': 543, 'moderately': 2607, 'settle': 3548, 'riddle': 3356, 'suffers': 3887, 'russell': 3422, 'brand': 480, 'vehicle': 4326, 'deserves': 1059, 'greta': 1786, 'gerwig': 1714, 'flirt': 1590, 'nanking': 2681, 'decency': 1001, 'terribly': 4023, 'wo': 4478, 'technically': 3997, 'outspoken': 2852, 'culture': 934, 'ought': 2844, 'simple': 3625, 'expectation': 1430, 'devoid': 1085, 'someone': 3712, 'boring': 459, 'vacation': 4311, 'force': 1605, 'anarchic': 163, 'glee': 1737, 'permeate': 2950, 'exaggerated': 1398, 'repetitive': 3303, 'unpredictable': 4283, 'revenant': 3346, 'exquisite': 1453, 'realistic': 3225, 'portrayal': 3052, 'unforgiving': 4255, 'environment': 1352, 'leo': 2334, 'lady': 2275, 'marry': 2485, 'adulterous': 72, 'husband': 1991, 'splash': 3759, 'trickle': 4166, 'sarah': 3447, 'polley': 3041, 'slightly': 3671, 'glum': 1751, 'reek': 3257, 'quality': 3170, 'shanghai': 3569, 'noon': 2750, 'derivative': 1053, 'amiable': 148, 'res': 3316, 'obsessed': 2783, 'nation': 2685, 'geoffrey': 1711, 'rush': 3421, 'stanley': 3790, 'tucci': 4187, 'able': 4, 'likeness': 2363, 'alberto': 113, 'giacometti': 1719, 'biopic': 397, 'artist': 235, 'messy': 2549, 'sight': 3614, 'fan': 1490, 'cultured': 935, 'linger': 2370, 'campion': 555, 'lethal': 2340, 'dose': 1183, 'tickle': 4073, 'dread': 1202, 'dreadful': 1203, 'confection': 797, 'mom': 2612, 'powerfully': 3067, 'immigration': 2018, 'sport': 3762, 'pure': 3155, 'utterly': 4309, 'graceful': 1769, 'cumulative': 937, 'emerge': 1294, 'country': 876, 'state': 3796, 'drift': 1208, 'personal': 2957, 'shopper': 3590, 'uncanny': 4222, 'mix': 2599, 'ghost': 1716, 'whatsoever': 4433, 'entity': 1348, 'efficiency': 1266, 'cheer': 647, 'refreshing': 3262, 'egotism': 1271, 'reference': 3259, 'touchstone': 4120, 'punchlines': 3151, 'please': 3009, 'niki': 2727, 'caro': 584, 'deftly': 1019, 'intercuts': 2123, 'josey': 2210, 'anita': 176, 'thomas': 4051, 'hearing': 1874, 'smart': 3680, 'subtle': 3876, 'tie': 4075, 'replicate': 3305, 'sensational': 3519, 'inspirational': 2103, 'celebrational': 606, 'muppetational': 2655, 'jim': 2196, 'henson': 1895, 'creation': 898, 'limelight': 2366, 'relatively': 3275, 'narrative': 2682, 'premise': 3083, 'prove': 3131, 'inspire': 2104, 'deaden': 989, 'portray': 3051, 'golden': 1757, 'journalism': 2212, 'whistleblower': 4437, 'reporter': 3306, 'risk': 3372, 'editor': 1258, 'publisher': 3143, 'bradlee': 476, 'graham': 1771, 'tense': 4014, 'buildup': 526, 'combine': 745, 'fitting': 1569, 'tribute': 4164, 'perish': 2948, 'survivor': 3931, 'disastrous': 1120, 'oil': 2809, 'rig': 3363, 'explosion': 1447, 'spill': 3753, 'unintentionally': 4265, 'comedic': 749, 'mankind': 2472, 'selfish': 3511, 'disinterest': 1133, 'anyone': 193, 'danger': 962, 'cue': 931, 'multitude': 2654, 'stolen': 3818, 'wrinkle': 4507, 'calculatedly': 547, 'sterilizingly': 3809, 'cleancut': 696, 'hallelujah': 1828, 'waste': 4399, 'finish': 1558, 'eighteen': 1274, 'different': 1093, 'neighborhood': 2701, 'paris': 2898, 'je': 2189, 'remarkable': 3291, 'achievement': 38, 'dare': 970, 'insular': 2113, 'hermeticism': 1899, 'triangular': 4163, 'intercommunication': 2122, 'sergio': 3538, 'sergei': 3537, 'peter': 2963, 'expressiveness': 1452, 'vargas': 4321, 'shuffle': 3604, 'jourdain': 2211, 'solo': 3709, 'thoughtful': 4056, 'handle': 1834, 'crassness': 894, 'kenner': 2238, 'sympathy': 3955, 'stack': 3782, 'deck': 1006, 'proclaim': 3109, 'ultimately': 4209, 'merchant': 2541, 'doubt': 1186, 'job': 2199, 'convince': 851, 'myth': 2673, 'forthrightly': 1626, 'explore': 1446, 'abuse': 16, 'knockoff': 2258, 'george': 1712, 'lucas': 2419, 'beck': 354, 'tension': 4015, 'suspense': 3934, 'frighten': 1654, 'annie': 179, 'hall': 1827, 'hummus': 1982, 'wright': 4506, 'affectionately': 83, 'lampoon': 2280, 'driver': 1211, 'legitimate': 2327, 'disconcertingly': 1124, 'graphic': 1774, 'remind': 3295, 'famous': 1488, 'miracle': 2582, 'heaven': 1880, 'manipulative': 2471, 'blunt': 433, 'propaganda': 3124, 'dignify': 1098, 'subtextual': 3875, 'trick': 4165, 'reminder': 3296, 'famously': 1489, 'company': 760, 'habitual': 1820, 'stoner': 3820, 'indeed': 2056, 'england': 1327, 'monty': 2623, 'python': 3166, 'pack': 2874, 'circus': 684, 'update': 4297, 'formula': 1621, 'public': 3142, 'exhibitionism': 1420, 'vanquishes': 4319, 'english': 1329, 'reserve': 3319, 'woefully': 4480, 'unsuitable': 4290, 'nod': 2735, 'hood': 1952, 'evil': 1393, 'cry': 927, 'cleverer': 701, 'woodcock': 4488, 'although': 135, 'doubtless': 1187, 'hotel': 1968, 'sake': 3436, 'entertain': 1341, 'else': 1287, 'hart': 1862, 'unleash': 4271, 'manic': 2468, 'tire': 4089, 'shtick': 3603, 'hype': 1993, 'luckily': 2421, 'morgan': 2633, 'spurlock': 3771, 'box': 469, 'emotion': 1298, 'western': 4431, 'sendup': 3517, 'lazy': 2308, 'aimless': 99, 'qualify': 3169, 'parody': 2902, 'srong': 3780, 'atmosphere': 256, 'weak': 4412, 'excitement': 1411, 'stanton': 3791, 'career': 577, 'opening': 2823, 'credit': 902, 'read': 3221, 'harry': 1860, 'dean': 996, 'lucky': 2422, 'reach': 3219, 'critical': 911, 'mass': 2494, 'muddle': 2649, 'implausibility': 2024, 'already': 133, 'suspicious': 3937, 'reveal': 3343, 'homicidally': 1942, 'untrustworthy': 4294, 'cloverfield': 712, 'beastie': 348, 'sun': 3898, 'neglected': 2699, 'bond': 447, 'partake': 2904, 'glamour': 1734, 'chateau': 639, 'marmont': 2484, 'attempt': 261, 'spoof': 3761, 'destination': 1069, 'wedding': 4418, 'bankrupt': 321, 'vikas': 4350, 'bahl': 312, 'gem': 1696, 'queen': 3172, 'wikipedia': 4445, 'page': 2878, 'learn': 2317, 'chazelle': 640, 'armstrong': 221, 'certainty': 613, 'verve': 4335, 'law': 2302, 'shakespeare': 3563, 'scabrous': 3468, 'lost': 2406, 'unleashed': 4272, 'clearly': 698, 'relish': 3285, 'grit': 1796, 'gristle': 1795, 'pierce': 2983, 'kindergarten': 2251, 'teacher': 3991, 'lisa': 2373, 'monster': 2621, 'rozema': 3408, 'handling': 1835, 'entangled': 1339, 'amour': 155, 'gamesmanship': 1680, 'mansfield': 2475, 'delightful': 1029, 'impure': 2041, 'austen': 274, 'potent': 3061, 'moviemaking': 2647, 'genial': 1705, 'shamble': 3566, 'obsessive': 2785, 'infatuation': 2070, 'uzumaki': 4310, 'progress': 3118, 'cycle': 950, 'butterfly': 538, 'begin': 361, 'human': 1978, 'being': 365, 'contort': 840, 'giant': 1720, 'snail': 3689, 'powerless': 3068, 'stop': 3822, 'betray': 386, 'woody': 4490, 'allen': 123, 'canvas': 562, 'incorporate': 2050, 'wisdom': 4466, 'alongside': 131, 'grisham': 1794, 'potboiler': 3060, 'pleasantly': 3008, 'outfox': 2846, 'sucker': 3884, 'zodiac': 4532, 'fincher': 1553, 'rare': 3207, 'simultaneously': 3629, 'smith': 3684, 'fog': 1599, 'mist': 2596, 'rain': 3194, 'machine': 2436, 'overtime': 2865, 'purpose': 3160, 'death': 997, 'outtake': 2855, 'fiddler': 1534, 'roof': 3398, 'tremendous': 4157, 'supremely': 3913, 'confident': 799, 'clooney': 707, 'wyrmwood': 4511, 'zombie': 4534, 'hop': 1955, 'suffice': 3888, 'visually': 4363, 'comprise': 780, 'staid': 3785, 'greyish': 1787, 'green': 1783, 'weirder': 4425, 'accent': 19, 'german': 1713, 'distancing': 1144, 'fairy': 1477, 'believement': 370, 'testify': 4035, 'pleasant': 3007, 'inoffensive': 2094, 'violence': 4354, 'hockey': 1927, 'stylish': 3857, 'witty': 4476, 'viewpoint': 4347, 'robber': 3382, 'forrest': 1623, 'thief': 4045, 'gun': 1814, 'spacek': 3734, 'redford': 3248, 'believe': 369, 'cop': 859, 'tail': 3967, 'sleeper': 3664, 'hit': 1924, 'humanity': 1980, 'reflection': 3261, 'individual': 2061, 'tightly': 4077, 'wound': 4503, 'melancholy': 2528, 'royal': 3407, 'tenenbaums': 4013, 'moonrise': 2627, 'term': 4019, 'elegantly': 1283, 'caper': 567, 'contrivance': 842, 'resolution': 3323, 'hackneyed': 1821, 'tired': 4090, 'brie': 496, 'larson': 2290, 'jacob': 2178, 'tremblay': 4156, 'couple': 878, 'unforgettable': 4254, 'blade': 410, 'certainly': 612, 'member': 2533, 'thumb': 4071, 'twitch': 4199, 'reel': 3258, 'traditional': 4131, 'introduce': 2141, 'infect': 2071, 'sly': 3678, 'simpson': 3627, 'sensibility': 3522, 'unbroken': 4221, 'unique': 4267, 'overly': 2860, 'melodramatic': 2531, 'mishmash': 2590, 'repeat': 3302, 'notice': 2757, 'lightning': 2357, 'sit': 3637, 'couch': 873, 'waiting': 4382, 'text': 4036, 'compelling': 765, 'le': 2309, 'novel': 2760, 'necessary': 2694, 'build': 524, 'absence': 7, 'development': 1082, 'idiocy': 2001, 'droning': 1212, 'mess': 2547, 'suspect': 3933, 'parent': 2897, 'depalma': 1044, 'swoon': 3952, 'equally': 1359, 'compel': 764, 'foolproof': 1602, 'scenario': 3472, 'irrelevant': 2161, 'fiala': 1530, 'franz': 1641, 'perspective': 2959, 'attitude': 265, 'homosexuality': 1944, 'church': 676, 'polish': 3036, 'chyra': 677, 'serious': 3541, 'toddler': 4096, 'collector': 738, 'velvet': 4328, 'painting': 2884, 'consider': 818, 'irresistible': 2165, 'realistically': 3226, 'tackle': 3961, 'grief': 1789, 'believable': 368, 'mcavoy': 2509, 'jessica': 2194, 'chastain': 638, 'imperfect': 2023, 'unpolished': 4282, 'slow': 3674, 'unpleasantly': 4280, 'erratic': 1362, 'return': 3340, 'burn': 535, 'stretch': 3838, 'running': 3419, 'cronenberg': 913, 'delillo': 1031, 'angel': 168, 'champion': 620, 'style': 3856, 'danny': 966, 'commentary': 753, 'guilty': 1813, 'intentional': 2121, 'unintentional': 4264, 'ala': 107, 'three': 4059, 'writer': 4509, 'lurch': 2428, 'magically': 2447, 'unexpectedly': 4250, 'funkily': 1669, 'crisp': 909, 'godfather': 1755, 'soul': 3726, 'keen': 2234, 'eastwood': 1245, 'delivers': 1034, 'ferociously': 1524, 'surpasses': 3924, 'artistry': 236, 'mystic': 2671, 'river': 3376, 'aficionado': 86, 'forward': 1628, 'besson': 383, 'spatially': 3740, 'energized': 1320, 'standard': 3789, 'kill': 2248, 'silence': 3619, 'half': 1825, 'diptych': 1107, 'uneasy': 4247, 'neighbour': 2702, 'former': 1618, 'komando': 2261, 'aksi': 105, 'squad': 3774, 'garcia': 1686, 'wobbly': 4479, 'extract': 1458, 'precisely': 3077, 'numbed': 2766, 'unease': 4245, 'murder': 2656, 'window': 4459, 'complete': 770, 'gasp': 1690, 'entire': 1346, 'screening': 3490, 'adaptation': 57, 'effective': 1262, 'tearjerker': 3995, 'stay': 3800, 'infinity': 2074, 'bind': 392, 'sprawling': 3766, 'span': 3736, 'international': 2132, 'location': 2389, 'traitor': 4135, 'efficient': 1267, 'convincing': 852, 'alpha': 132, 'transcend': 4137, 'friendship': 1653, 'animal': 173, 'fairly': 1476, 'broad': 507, 'astute': 254, 'carefree': 578, 'childhood': 652, 'shannon': 3571, 'shade': 3561, 'deft': 1018, 'tragedy': 4133, 'bearing': 347, 'proof': 3123, 'expert': 1436, 'hommage': 1943, 'smudgy': 3687, 'copy': 862, 'chill': 655, 'undoubtedly': 4243, 'thrive': 4065, 'creature': 900, 'ungainly': 4257, 'bride': 493, 'chucky': 675, 'humorous': 1984, 'aside': 238, 'shock': 3586, 'tactic': 3962, 'awkward': 300, 'williams': 4450, 'sluggish': 3676, 'interested': 2125, 'tag': 3964, 'swerve': 3946, 'unusual': 4295, 'oddly': 2796, 'satisfying': 3456, 'roy': 3406, 'bogdanovich': 442, 'dan': 959, 'robert': 3384, 'langdon': 2285, 'fletch': 1585, 'chase': 637, 'novelist': 2761, 'gregory': 1785, 'mcdonald': 2512, 'los': 2402, 'angeles': 169, 'shoulder': 3596, 'handful': 1833, 'modicum': 2610, 'snappy': 3692, 'liable': 2346, 'amuse': 157, 'overwhelm': 2866, 'seek': 3506, 'casual': 596, 'borderline': 457, 'risible': 3371, 'impressed': 2032, 'geek': 1695, 'fascinate': 1500, 'intellectual': 2116, 'property': 3125, 'mixed': 2600, 'bag': 310, 'reminds': 3297, 'bitter': 404, 'rivalry': 3375, 'torn': 4112, 'jersey': 2193, 'pickup': 2978, 'dream': 1204, 'gridiron': 1788, 'glory': 1748, 'team': 3992, 'belong': 373, 'tentative': 4016, 'vividly': 4367, 'satisfaction': 3452, 'tyrant': 4205, 'finance': 1551, 'tykwer': 4201, 'necessarily': 2693, 'politically': 3038, 'alienated': 118, 'currently': 944, 'worry': 4497, 'deepen': 1010, 'racial': 3186, 'speech': 3747, 'obama': 2773, 'mus': 2658, 'zig': 4530, 'zag': 4525, 'trendlines': 4160, 'empathetic': 1301, 'generous': 1704, 'highly': 1910, 'missed': 2594, 'ingredient': 2081, 'delightfully': 1030, 'sleek': 3662, 'padding': 2877, 'bloat': 422, 'rudo': 3413, 'cursi': 945, 'sibling': 3607, 'mexico': 2555, 'gritty': 1797, 'underbelly': 4231, 'soccer': 3699, 'backdrop': 306, 'relentlessly': 3280, 'abusive': 17, 'torrent': 4114, 'profanity': 3115, 'consist': 820, 'brutal': 518, 'beating': 350, 'titanic': 4093, 'gladiator': 1732, 'terrifically': 4025, 'honest': 1946, 'threquel': 4061, 'continue': 838, 'revel': 3344, 'surname': 3922, 'ups': 4300, 'down': 1189, 'added': 59, 'emphasis': 1302, 'mortality': 2635, 'childish': 653, 'crayola': 895, 'heat': 1879, 'tremendously': 4158, 'talented': 3972, 'room': 3399, 'improvise': 2039, 'ugh': 4206, 'remake': 3290, 'wrap': 4504, 'hundred': 1987, 'package': 2875, 'acknowledge': 39, 'manmarziyaan': 2473, 'decidedly': 1004, 'duvernay': 1232, 'martin': 2488, 'luther': 2433, 'march': 2479, 'injustice': 2089, 'sting': 3815, 'relevance': 3281, 'oyelowo': 2869, 'stirring': 3817, 'superlative': 3905, 'loony': 2398, 'sharp': 3575, 'nakata': 2677, 'drum': 1215, 'hoky': 1931, 'fear': 1513, 'existence': 1424, 'online': 2816, 'suicide': 3892, 'club': 713, 'guess': 1809, 'constantly': 825, 'track': 4129, 'camp': 553, 'factor': 1469, 'prohibits': 3119, 'ugly': 4208, 'barf': 326, 'nut': 2769, 'emergence': 1295, 'consistently': 822, 'unnerving': 4278, 'frustratingly': 1663, 'opaque': 2821, 'teenage': 4002, 'ta': 3958, 'schoolgirl': 3479, 'superstar': 3908, 'teen': 4001, 'day': 984, 'forgo': 1613, 'favor': 1510, 'stunt': 3854, 'basic': 331, 'deja': 1023, 'vu': 4374, 'hilarious': 1912, 'acerbic': 35, 'reduces': 3252, 'global': 1745, 'terrorism': 4030, 'rubik': 3412, 'cube': 929, 'suitable': 3894, 'evening': 1380, 'vaguely': 4314, 'ill': 2007, 'gimmicky': 1726, 'aspire': 241, 'cannily': 560, 'collective': 737, 'tide': 4074, 'opinion': 2826, 'selma': 3514, 'contemporary': 832, 'vijay': 4349, 'antony': 190, 'composer': 777, 'melody': 2532, 'popular': 3047, 'wee': 4419, 'bong': 449, 'tequila': 4018, 'gordon': 1760, 'poetic': 3027, 'independent': 2057, 'lowbrow': 2415, 'non': 2742, 'sequiturs': 3534, 'weirdly': 4426, 'vital': 4365, 'slice': 3668, 'lie': 2347, 'absorb': 10, 'luscious': 2431, 'highlight': 1909, 'ocean': 2792, 'worthy': 4501, 'entrance': 1349, 'hopefully': 1957, 'satisfy': 3455, 'award': 292, 'ritchie': 3373, 'arthurian': 233, 'misbegotten': 2586, 'booming': 455, 'cgi': 615, 'lairy': 2277, 'banter': 322, 'bish': 399, 'bash': 330, 'bosh': 462, 'inhale': 2085, 'gas': 1689, 'helium': 1891, 'restriction': 3334, 'conspiracy': 824, 'theorist': 4043, 'detect': 1075, 'sky': 3651, 'thinly': 4049, 'veiled': 4327, 'conservatism': 817, 'undue': 4244, 'alarmist': 111, 'implication': 2026, 'thin': 4046, 'layer': 2306, 'gender': 1697, 'recycled': 3245, 'predicament': 3080, 'cliff': 703, 'snake': 3691, 'monument': 2624, 'charge': 629, 'manages': 2465, 'eventful': 1382, 'monotonous': 2619, 'glance': 1735, 'wonder': 4483, 'lively': 2383, 'actress': 51, 'girl': 1730, 'buy': 539, 'financially': 1552, 'strapped': 3833, 'andy': 166, 'joyce': 2215, 'impulsive': 2040, 'trip': 4170, 'nature': 2687, 'auditory': 272, 'perfect': 2940, 'allude': 126, 'concern': 788, 'xenophobia': 4512, 'communication': 757, 'responsibility': 3330, 'stark': 3793, 'vignette': 4348, 'belongs': 374, 'waft': 4380, 'contentment': 836, 'frustration': 1664, 'loneliness': 2394, 'disappointment': 1118, 'happiness': 1846, 'industrial': 2063, 'accident': 22, 'father': 1508, 'thrillingly': 4064, 'grassroots': 1776, 'incredibly': 2055, 'painfully': 2882, 'erroneous': 1363, 'archive': 211, 'footage': 1604, 'trench': 4159, 'front': 1657, 'flood': 1591, 'sickly': 3608, 'orange': 2831, 'suddenly': 3885, 'spring': 3768, 'shut': 3605, 'spright': 3767, 'persistently': 2954, 'flail': 1572, 'swirl': 3950, 'turmoil': 4193, 'bridget': 495, 'ripley': 3369, 'mission': 2595, 'sabotage': 3427, 'bizarre': 407, 'journey': 2213, 'originally': 2837, 'samurai': 3440, 'earns': 1242, 'near': 2690, 'fat': 1505, 'trim': 4169, 'pad': 2876, 'ego': 1270, 'buddy': 520, 'salty': 3438, 'superficial': 3902, 'unsatisfying': 4286, 'memorable': 2535, 'pacifism': 2871, 'vision': 4360, 'mature': 2505, 'land': 2282, 'oliver': 2813, 'stone': 3819, 'alexander': 115, 'troy': 4179, 'brad': 475, 'pitt': 2995, 'pecs': 2931, 'flexer': 1586, 'swear': 3940, 'sentimentality': 3530, 'share': 3573, 'triumph': 4174, 'outbreak': 2845, 'devolve': 1086, 'andrei': 165, 'oddball': 2795, 'concoction': 794, 'lonely': 2395, 'island': 2169, 'fame': 1483, 'navigate': 2688, 'center': 608, 'utmost': 4308, 'bite': 402, 'incisive': 2044, 'preachy': 3073, 'america': 146, 'von': 4372, 'trier': 4168, 'tiresome': 4091, 'practical': 3070, 'mira': 2581, 'nair': 2676, 'mistakenly': 2597, 'connive': 812, 'becky': 355, 'symbol': 3954, 'feminist': 1523, 'pluckiness': 3020, 'low': 2414, 'income': 2049, 'inner': 2090, 'zero': 4529, 'motivate': 2641, 'tend': 4011, 'boldly': 444, 'refuse': 3264, 'neat': 2692, 'bracingly': 474, 'intelligent': 2118, 'lawlor': 2303, 'molloy': 2611, 'distinctive': 1147, 'evolving': 1395, 'ballet': 318, 'elaborately': 1280, 'detailed': 1074, 'danse': 967, 'buff': 522, 'devour': 1087, 'coppola': 861, 'file': 1540, 'evidence': 1391, 'noisy': 2738, 'jumbled': 2226, 'borat': 456, 'thankfully': 4038, 'bruno': 517, 'huge': 1975, 'praise': 3071, 'aladeen': 108, 'threaten': 4058, 'prepare': 3086, 'sherwood': 3580, 'forest': 1608, 'automotive': 282, 'iconography': 1996, 'middle': 2559, 'dardennes': 969, 'fashion': 1502, 'accessible': 21, 'expose': 1449, 'miserable': 2588, 'machiavellian': 2435, 'darwinian': 977, 'terror': 4029, 'appeal': 199, 'common': 756, 'denominator': 1040, 'bar': 323, 'due': 1222, 'rating': 3212, 'lad': 2273, 'friend': 1651, 'sandbox': 3441, 'waaaaaah': 4377, 'jukebox': 2223, 'changeling': 625, 'frustrating': 1662, 'dress': 1207, 'nine': 2729, 'party': 2910, 'enormous': 1335, 'subtlety': 3877, 'connection': 811, 'desperately': 1066, 'beat': 349, 'welsh': 4430, 'intention': 2120, 'passion': 2917, 'palpable': 2887, 'vanity': 4318, 'project': 3120, 'signify': 3618, 'ready': 3222, 'pass': 2912, 'mantle': 2476, 'nepotism': 2706, 'total': 4116, 'descent': 1056, 'comprehensive': 779, 'tour': 4121, 'upper': 4299, 'circle': 682, 'evolution': 1394, 'reset': 3320, 'steam': 3803, 'killer': 2249, 'gleeful': 1738, 'pitch': 2994, 'perversity': 2961, 'shield': 3583, 'straw': 3834, 'thoroughly': 4053, 'average': 287, 'somewhat': 3716, 'mike': 2565, 'nichols': 2720, 'osama': 2839, 'bin': 391, 'laden': 2274, 'stellar': 3805, 'alike': 119, 'jude': 2219, 'dom': 1174, 'artificial': 234, 'construct': 826, 'implausible': 2025, 'manhattan': 2467, 'christmas': 671, 'lopez': 2400, 'cliche': 702, 'spike': 3752, 'lee': 2323, 'rail': 3193, 'anna': 177, 'television': 4006, 'capability': 564, 'living': 2384, 'stun': 3852, 'celluloid': 607, 'hollow': 1935, 'essence': 1367, 'telling': 4009, 'hardwicke': 1853, 'absolutely': 9, 'table': 3959, 'colorless': 741, 'palette': 2886, 'invest': 2150, 'essentially': 1369, 'plaster': 3000, 'saint': 3435, 'obviously': 2787, 'mood': 2626, 'logic': 2392, 'static': 3799, 'glorified': 1747, 'powerpoint': 3069, 'presentation': 3090, 'intersperse': 2137, 'questionable': 3175, 'qualification': 3168, 'aim': 98, 'incite': 2045, 'paranoia': 2895, 'theory': 4044, 'argument': 218, 'garrel': 1688, 'continuity': 839, 'conflict': 803, 'similar': 3623, 'personage': 2956, 'especially': 1366, 'realization': 3228, 'dunaway': 1227, 'premonition': 3084, 'blurred': 434, 'videotape': 4343, 'explain': 1438, 'conception': 787, 'import': 2029, 'accomplish': 27, 'depict': 1046, 'cultural': 933, 'revolution': 3350, 'mall': 2460, 'comparison': 762, 'cinematic': 680, 'bloodsucking': 430, 'legend': 2325, 'supply': 3909, 'stunning': 3853, 'exciting': 1412, 'undeniable': 4230, 'red': 3246, 'supe': 3899, 'fair': 1474, 'timeless': 4082, 'skewering': 3645, 'friendly': 1652, 'dedicate': 1008, 'notion': 2758, 'white': 4438, 'hee': 1884, 'pay': 2928, 'money': 2617, 'mercifully': 2542, 'mad': 2439, 'dash': 978, 'neeson': 2697, 'win': 4457, 'oscar': 2840, 'position': 3054, 'favourite': 1512, 'redemption': 3247, 'certainy': 614, 'british': 506, 'gangland': 1682, 'gear': 1694, 'needy': 2696, 'kennedy': 2237, 'disgrace': 1129, 'delusory': 1036, 'envelope': 1351, 'tender': 4012, 'devastate': 1077, 'supreme': 3912, 'unwavering': 4296, 'kindness': 2252, 'darkly': 974, 'slave': 3658, 'rule': 3415, 'cameo': 550, 'disintegrate': 1132, 'decapitation': 1000, 'hardened': 1849, 'religion': 3284, 'roll': 3392, 'purge': 3159, 'house': 1971, 'bunny': 532, 'legally': 2324, 'blonde': 427, 'root': 3400, 'frankly': 1640, 'poppins': 3046, 'similarity': 3624, 'childrens': 654, 'straight': 3827, 'outta': 2854, 'compton': 781, 'defiant': 1015, 'tack': 3960, 'hiccup': 1904, 'transition': 4140, 'noyce': 2763, 'shortage': 3593, 'humiliation': 1981, 'await': 290, 'acceptance': 20, 'mcg': 2513, 'pop': 3044, 'charlie': 631, 'angels': 170, 'pour': 3064, 'douchey': 1188, 'hipness': 1918, 'firsttime': 1566, 'teaming': 3993, 'cary': 590, 'grant': 1773, 'audrey': 273, 'hepburn': 1896, 'natural': 2686, 'sophisticated': 3722, 'selling': 3513, 'suberb': 3863, 'arabian': 208, 'slowly': 3675, 'finger': 1556, 'portuguese': 3053, 'establishment': 1371, 'tug': 4189, 'heartstrings': 1877, 'harpist': 1856, 'unfortunately': 4256, 'anesthesia': 167, 'support': 3910, 'ballast': 317, 'excessive': 1409, 'verbosity': 4331, 'propose': 3126, 'subplots': 3871, 'acquire': 41, 'density': 1041, 'kevin': 2239, 'accrue': 31, 'casting': 595, 'elevate': 1285, 'homegrown': 1941, 'effervescent': 1265, 'seth': 3546, 'rogan': 3390, 'elizabeth': 1286, 'bank': 320, 'modest': 2609, 'massively': 2496, 'successful': 3881, 'remember': 3293, 'landmark': 2283, 'management': 2464, 'idiosyncrasy': 2002, 'mismanaged': 2591, 'mckay': 2514, 'refusal': 3263, 'succumb': 3883, 'dramatics': 1198, 'someth': 3713, 'pinter': 2989, 'branagh': 479, 'wicked': 4442, 'cold': 730, 'confined': 800, 'literary': 2379, 'jane': 2181, 'eyre': 1464, 'initially': 2088, 'nonsense': 2747, 'sandler': 3442, 'fling': 1589, 'virtually': 4358, 'soon': 3721, 'shy': 3606, 'rebooted': 3235, 'origin': 2835, 'convincingly': 853, 'scrapbook': 3487, 'benn': 378, 'approve': 206, 'carefully': 579, 'curated': 939, 'choose': 661, 'represent': 3307, 'unnerring': 4277, 'conviction': 850, 'jab': 2175, 'tak': 3968, 'hai': 1823, 'jaan': 2174, 'jthj': 2218, 'yash': 4514, 'chopra': 665, 'rich': 3353, 'philosophy': 2970, 'ray': 3218, 'harryhausen': 1861, 'seduce': 3504, 'scorpion': 3484, 'beauty': 353, 'mere': 2544, 'potentially': 3062, 'crew': 905, 'precious': 3074, 'anybody': 192, 'grunt': 1806, 'grip': 1792, 'steer': 3804, 'wheel': 4434, 'checkered': 644, 'depend': 1045, 'edition': 1257, 'impressive': 2034, 'blood': 428, 'bath': 337, 'avail': 284, 'none': 2743, 'performer': 2944, 'hank': 1840, 'vardalos': 4320, 'treatment': 4154, 'joe': 2202, 'classroom': 693, 'rodney': 3389, 'dangerfield': 963, 'austere': 275, 'obsession': 2784, 'delusion': 1035, 'remarkably': 3292, 'rinko': 3367, 'kikuchi': 2247, 'flees': 1582, 'typical': 4203, 'trapping': 4146, 'universal': 4268, 'affair': 79, 'shatter': 3577, 'bravery': 482, 'unrewarded': 4284, 'loyalty': 2418, 'nelson': 2704, 'studious': 3849, 'enforcement': 1323, 'campaign': 554, 'disinformation': 1131, 'infiltration': 2073, 'assassination': 242, 'panther': 2889, 'implode': 2027, 'lewis': 2344, 'flush': 1597, 'complicated': 774, 'category': 599, 'fact': 1468, 'possess': 3055, 'passing': 2916, 'familiarity': 1486, 'spot': 3763, 'ethan': 1375, 'hawke': 1866, 'snook': 3694, 'unmarried': 4275, 'ideal': 1998, 'engagingly': 1325, 'requirement': 3313, 'react': 3220, 'fabulous': 1466, 'siegel': 3613, 'squeeze': 3777, 'permutation': 2952, 'besides': 382, 'flash': 1575, 'bore': 458, 'joy': 2214, 'warmth': 4393, 'unalloyed': 4216, 'sincerity': 3633, 'fascinating': 1501, 'aspect': 240, 'examination': 1399, 'kusama': 2266, 'process': 3108, 'psychology': 3138, 'overwrought': 2867, 'orphan': 2838, 'faithful': 1479, 'ge': 1693, 'didactically': 1090, 'medical': 2522, 'governmental': 1766, 'economic': 1251, 'ayoade': 301, 'establish': 1370, 'map': 2478, 'submarine': 3868, 'cohesively': 728, 'awhile': 298, 'denzel': 1043, 'basis': 333, 'phil': 2968, 'lord': 2401, 'christopher': 672, 'miller': 2570, 'transform': 4138, 'unlikely': 4274, 'wonderful': 4484, 'cruel': 922, 'raison': 3197, 'soften': 3706, 'gentle': 1708, 'inhabitant': 2084, 'unspoken': 4288, 'pas': 2911, 'load': 2386, 'meaning': 2517, 'antoinette': 189, 'nwandu': 2771, 'rod': 3388, 'lurie': 2429, 'notorious': 2759, 'exceptional': 1407, 'liability': 2345, 'increase': 2052, 'exponentially': 1448, 'price': 3098, 'jason': 2187, 'statham': 3798, 'sarcastically': 3448, 'alan': 109, 'clarke': 689, 'generation': 1701, 'cinemagoers': 679, 'humour': 1985, 'trek': 4155, 'optimism': 2829, 'uncertain': 4223, 'capably': 565, 'presidential': 3091, 'wreck': 4505, 'unnecessary': 4276, 'canon': 561, 'boston': 463, 'gangster': 1684, 'crotch': 917, 'xxl': 4513, 'cynical': 951, 'understand': 4235, 'ledge': 2321, 'greatness': 1782, 'heist': 1889, 'antidote': 187, 'dolittle': 1173, 'sappy': 3446, 'blandness': 416, 'inventive': 2148, 'cat': 597, 'screenwriting': 3492, 'duty': 1231, 'lobdell': 2387, 'breaking': 488, 'landon': 2284, 'wachowski': 4378, 'disappear': 1113, 'rabbit': 3183, 'hole': 1933, 'matrix': 2503, 'reload': 3286, 'regrettably': 3268, 'redundant': 3255, 'mild': 2566, 'subversiveness': 3879, 'surprisingly': 3927, 'homage': 1939, 'rough': 3404, 'teeter': 4004, 'verge': 4332, 'sleaze': 3659, 'exploitation': 1443, 'domain': 1175, 'maggie': 2444, 'tricky': 4167, 'pick': 2977, 'domee': 1176, 'shi': 3582, 'bittersweet': 405, 'reverie': 3348, 'motherhood': 2638, 'hilariously': 1913, 'onscreen': 2817, 'obvious': 2786, 'bader': 308, 'ginsburg': 1728, 'mimi': 2573, 'leder': 2320, 'arduous': 213, 'guest': 1810, 'likeable': 2361, 'jaundice': 2188, 'sideswipe': 3611, 'chuckle': 674, 'slacker': 3653, 'spell': 3748, 'philosophical': 2969, 'allegory': 122, 'pit': 2993, 'cruise': 923, 'nihilism': 2726, 'humanism': 1979, 'told': 4099, 'evergreen': 1385, 'scientist': 3481, 'enliven': 1334, 'connolly': 813, 'documentarians': 1170, 'intuition': 2145, 'outsmart': 2851, 'ending': 1316, 'wave': 4406, 'science': 3480, 'painful': 2881, 'uninteresting': 4266, 'toenail': 4097, 'fungus': 1668, 'vengeance': 4329, 'flourish': 1594, 'concession': 791, 'riveting': 3377, 'territory': 4028, 'previously': 3097, 'unexplored': 4251, 'sinews': 3634, 'imagination': 2009, 'maddin': 2442, 'partial': 2905, 'saccharine': 3428, 'realism': 3224, 'purr': 3161, 'approval': 205, 'promise': 3121, 'halfway': 1826, 'limb': 2365, 'permalocked': 2949, 'pacing': 2872, 'usually': 4306, 'poky': 3032, 'frenetic': 1646, 'clip': 706, 'kiddie': 2243, 'conscience': 815, 'runtime': 3420, 'devastatingly': 1079, 'exhaust': 1419, 'require': 3312, 'suspension': 3936, 'disbelief': 1121, 'willing': 4452, 'meticulously': 2553, 'clue': 714, 'revelation': 3345, 'hercule': 1897, 'poirot': 3031, 'agatha': 89, 'christie': 670, 'detective': 1076, 'holmes': 1937, 'waxed': 4409, 'eon': 1353, 'frank': 1639, 'overstuff': 2863, 'exposition': 1450, 'multiple': 2652, 'dismiss': 1135, 'switch': 3951, 'costner': 871, 'preston': 3092, 'express': 1451, 'hat': 1863, 'plodding': 3016, 'ravishingly': 3217, 'vicious': 4338, 'eighty': 1275, 'zahn': 4526, 'davy': 983, 'bale': 315, 'herzog': 1903, 'reluctant': 3288, 'despair': 1064, 'harrow': 1859, 'sensitive': 3523, 'collaboration': 732, 'generational': 1702, 'amnesia': 152, 'delicate': 1027, 'construction': 827, 'top': 4109, 'significance': 3616, 'asian': 237, 'jon': 2208, 'chu': 673, 'phenomenal': 2966, 'joyful': 2216, 'trope': 4176, 'summer': 3896, 'tad': 3963, 'becomes': 357, 'surer': 3916, 'central': 609, 'redundancy': 3254, 'elaborate': 1279, 'glitter': 1744, 'trap': 4145, 'terrorize': 4032, 'isolated': 2170, 'uncle': 4224, 'sale': 3437, 'arrive': 226, 'dillard': 1099, 'storytelling': 3826, 'lipstick': 2372, 'impressively': 2035, 'gang': 1681, 'wasseypur': 4398, 'brisk': 503, 'daunting': 981, 'surfer': 3918, 'sticky': 3812, 'schmaltz': 3477, 'annasophia': 178, 'robb': 3381, 'carrie': 586, 'underwood': 4240, 'few': 1529, 'squall': 3775, 'improbability': 2036, 'laughable': 2298, 'clammy': 687, 'budget': 521, 'capitalism': 568, 'scattershot': 3471, 'moore': 2629, 'blatantly': 419, 'astonishing': 252, 'regret': 3267, 'eden': 1253, 'formless': 1620, 'lackadaisical': 2270, 'inevitable': 2067, 'masterson': 2499, 'hair': 1824, 'lumet': 2424, 'firmly': 1564, 'control': 844, 'arthritic': 231, 'intellect': 2115, 'episodic': 1356, 'fully': 1666, 'sincere': 3632, 'reproduction': 3310, 'tradition': 4130, 'nuance': 2764, 'minor': 2578, 'key': 2240, 'tragically': 4134, 'atrocious': 260, 'roadblock': 3379, 'baumbach': 340, 'previous': 3096, 'recapture': 3236, 'pave': 2927, 'michael': 2556, 'fassbender': 1503, 'sob': 3698, 'magnetism': 2448, 'enable': 1308, 'bend': 377, 'oddment': 2797, 'cohere': 725, 'sheer': 3579, 'sensuousness': 3527, 'sustain': 3938, 'happy': 1847, 'hong': 1951, 'distills': 1145, 'vast': 4323, 'confessional': 798, 'monologue': 2618, 'pugnacious': 3144, 'discussion': 1127, 'luminous': 2425, 'aphorism': 198, 'macho': 2438, 'cheeky': 646, 'wink': 4461, 'specifically': 3744, 'leterrier': 2339, 'clash': 690, 'titan': 4092, 'assemblage': 244, 'mythic': 2674, 'odds': 2798, 'grasp': 1775, 'anticipate': 184, 'name': 2679, 'content': 835, 'pride': 3100, 'cluttered': 718, 'lay': 2305, 'swiftly': 3947, 'warn': 4394, 'lavish': 2301, 'sensual': 3525, 'endlessly': 1318, 'fetish': 1527, 'fetishism': 1528, 'provocative': 3133, 'willingness': 4454, 'roar': 3380, 'loud': 2408, 'ignore': 2005, 'brisseau': 505, 'tea': 3989, 'dude': 1221, 'threesome': 4060, 'dysfunctional': 1235, 'touching': 4119, 'host': 1966, 'helluva': 1893, 'potato': 3059, 'nutritional': 2770, 'darn': 976, 'eating': 1248, 'zaniness': 4528, 'pineapple': 2988, 'highness': 1911, 'lower': 2416, 'theater': 4041, 'hunger': 1988, 'polar': 3034, 'winter': 4464, 'alone': 129, 'enamor': 1309, 'southern': 3732, 'buoyant': 533, 'brando': 481, 'alive': 120, 'skynrd': 3652, 'karaoke': 2230, 'hooter': 1954, 'rainbow': 3195, 'accompany': 26, 'scratching': 3488, 'trippy': 4172, 'outing': 2847, 'demonic': 1038, 'possession': 3056, 'deploy': 1048, 'audio': 270, 'firepower': 1563, 'frequency': 1647, 'ghostbusting': 1718, 'taiko': 3966, 'ensemble': 1338, 'wish': 4468, 'deviation': 1083, 'depress': 1049, 'person': 2955, 'hbo': 1868, 'biographical': 395, 'moderate': 2606, 'borrow': 460, 'glimpse': 1743, 'doom': 1180, 'jarringly': 2186, 'ring': 3366, 'component': 776, 'trial': 4162, 'lone': 2393, 'fighting': 1537, 'contender': 834, 'candidate': 557, 'monstrously': 2622, 'sommers': 3718, 'plunder': 3023, 'crib': 906, 'mock': 2602, 'dislike': 1134, 'patent': 2920, 'dispute': 1140, 'regard': 3265, 'invention': 2147, 'intermittent': 2129, 'motor': 2642, 'iq': 2155, 'retire': 3337, 'extremely': 1461, 'dangerous': 964, 'retired': 3338, 'daphne': 968, 'emily': 1297, 'beecham': 358, 'astound': 253, 'michelle': 2557, 'pfeiffer': 2965, 'kathy': 2232, 'bates': 336, 'cartoonish': 589, 'smug': 3688, 'fatally': 1507, 'consistent': 821, 'degenerate': 1021, 'pious': 2990, 'soap': 3696, 'opera': 2824, 'casa': 591, 'restrained': 3332, 'impression': 2033, 'torture': 4115, 'interrogation': 2135, 'surveillance': 3930, 'marine': 2481, 'raid': 3192, 'leaden': 2311, 'zola': 4533, 'guilt': 1812, 'betrayal': 387, 'unknown': 4270, 'tongue': 4106, 'cheek': 645, 'realize': 3229, 'happening': 1844, 'tuck': 4188, 'obscurity': 2778, 'celebrating': 604, 'ireland': 2156, 'pub': 3141, 'marvellous': 2490, 'patronise': 2924, 'irish': 2157, 'dig': 1097, 'piracy': 2991, 'anachronism': 161, 'sign': 3615, 'cameron': 552, 'crowe': 919, 'aloha': 128, 'unifying': 4259, 'toxic': 4127, 'advance': 74, 'buzz': 540, 'dizzy': 1162, 'viewing': 4346, 'extricate': 1462, 'incredible': 2054, 'circumstance': 683, 'surround': 3929, 'expense': 1433, 'pretension': 3094, 'insecurity': 2095, 'sexual': 3555, 'dalliance': 955, 'feathered': 1515, 'boa': 435, 'kick': 2241, 'assortment': 249, 'vintage': 4353, 'rockettes': 3386, 'crasher': 892, 'car': 574, 'bay': 343, 'dumb': 1225, 'crack': 884, 'falter': 1482, 'boys': 473, 'lighting': 2355, 'composition': 778, 'bennett': 379, 'nicholson': 2721, 'opt': 2828, 'rent': 3301, 'product': 3111, 'significantly': 3617, 'italian': 2172, 'countryside': 877, 'echo': 1250, 'sentiment': 3528, 'kedarnath': 2233, 'calamity': 546, 'ruthlessly': 3424, 'skewer': 3644, 'satirize': 3451, 'absurdist': 13, 'brutally': 519, 'lynne': 2434, 'ramsay': 3200, 'joint': 2205, 'lean': 2315, 'trauma': 4148, 'grim': 1790, 'marvel': 2489, 'upon': 4298, 'shoddy': 3588, 'wither': 4473, 'taste': 3982, 'hawk': 1865, 'emerges': 1296, 'colossus': 742, 'finnigan': 1561, 'afford': 84, 'questioning': 3176, 'extended': 1455, 'bump': 530, 'notch': 2754, 'punisher': 3153, 'coarse': 720, 'numbing': 2768, 'muscle': 2659, 'transmission': 4143, 'hangdog': 1838, 'affront': 85, 'everybo': 1387, 'ingrid': 2082, 'screwy': 3494, 'hughes': 1977, 'breakfast': 487, 'quotable': 3182, 'delivering': 1033, 'conundrum': 846, 'ranger': 3202, 'closer': 709, 'slick': 3669, 'exotica': 1426, 'minutia': 2580, 'airbrush': 101, 'platitude': 3001, 'bear': 345, 'sum': 3895, 'everybody': 1388, 'blandly': 415, 'nonpartisan': 2746, 'controversial': 845, 'influential': 2075, 'politician': 3039, 'madden': 2441, 'submergence': 3869, 'separate': 3531, 'coast': 722, 'mainly': 2450, 'graze': 1780, 'worthington': 4499, 'wooden': 4489, 'rub': 3409, 'mendes': 2540, 'spontaneously': 3760, 'combust': 746, 'exception': 1406, 'bardem': 324, 'plumb': 3022, 'poetics': 3028, 'ton': 4103, 'hitman': 1925, 'agent': 92, 'hannah': 1842, 'ware': 4390, 'nonsensical': 2748, 'evident': 1392, 'admirable': 65, 'nolan': 2739, 'cathedral': 601, 'sizzle': 3641, 'floor': 1592, 'dancing': 961, 'fizzle': 1571, 'chaos': 627, 'sidestep': 3610, 'resonance': 3325, 'amid': 149, 'complement': 769, 'bonnie': 450, 'clyde': 719, 'pulp': 3147, 'manner': 2474, 'baltasar': 319, 'kormakur': 2262, 'invisible': 2151, 'margaret': 2480, 'quietly': 3179, 'infuriating': 2079, 'deepwater': 1012, 'horizon': 1959, 'information': 2077, 'probably': 3103, 'tawdry': 3987, 'martha': 2487, 'indie': 2060, 'squanders': 3776, 'invite': 2152, 'local': 2388, 'color': 740, 'blah': 411, 'reductive': 3253, 'offens': 2803, 'akin': 104, 'cutscene': 948, 'thought': 4055, 'recite': 3238, 'conclude': 792, 'york': 4519, 'interestingly': 2127, 'jack': 2176, 'explicit': 1440, 'gangsta': 1683, 'rap': 3204, 'suave': 3861, 'dork': 1182, 'jock': 2200, 'immature': 2016, 'crossbreed': 915, 'oldboy': 2812, 'select': 3510, 'recognize': 3241, 'climax': 704, 'ferrell': 1526, 'playground': 3005, 'diversion': 1158, 'dreamworks': 1205, 'animation': 175, 'shrek': 3602, 'binge': 393, 'pessimism': 2962, 'area': 214, 'insufficient': 2112, 'braincells': 478, 'stagger': 3784, 'collide': 739, 'thalamic': 4037, 'lamppost': 2281, 'trust': 4182, 'forge': 1609, 'collaborator': 733, 'kidnapping': 2246, 'larceny': 2288, 'seldom': 3509, 'funnier': 1670, 'fargo': 1496, 'accountant': 30, 'blatancy': 418, 'overtakes': 2864, 'absurdly': 14, 'convolute': 854, 'correct': 865, 'pageant': 2879, 'demonstrate': 1039, 'grotesque': 1800, 'winner': 4462, 'imax': 2012, 'wallow': 4386, 'horrific': 1963, 'judging': 2221, 'stalingrad': 3787, 'cheadle': 641, 'biography': 396, 'mulloy': 2651, 'documentarian': 1169, 'una': 4214, 'noche': 2733, 'covenant': 882, 'undertake': 4237, 'hardly': 1852, 'figuratively': 1538, 'intersect': 2136, 'friction': 1650, 'taut': 3985, 'biting': 403, 'cory': 868, 'finley': 1560, 'test': 4033, 'boat': 437, 'plenty': 3013, 'milewski': 2568, 'topic': 4110, 'doc': 1165, 'resonates': 3327, 'parade': 2894, 'flop': 1593, 'coherent': 727, 'subplot': 3870, 'stepping': 3807, 'swing': 3948, 'blame': 413, 'meander': 2516, 'turkish': 4192, 'odyssey': 2800, 'devastation': 1080, 'porn': 3048, 'acquaint': 40, 'mythology': 2675, 'breathless': 490, 'sleepless': 3665, 'madame': 2440, 'heartwarming': 1878, 'netflix': 2709, 'later': 2296, 'silver': 3622, 'lake': 2278, 'confusing': 808, 'frustrate': 1661, 'hypnotic': 1994, 'heed': 1885, 'disturbance': 1155, 'teeth': 4005, 'bavo': 341, 'defurne': 1020, 'mordacity': 2631, 'inventiveness': 2149, 'surfwise': 3919, 'hug': 1974, 'harder': 1850, 'avenge': 286, 'challenging': 618, 'proposition': 3127, 'slog': 3672, 'blacktop': 409, 'ravage': 3215, 'honesty': 1948, 'caretaker': 581, 'fade': 1470, 'conjures': 809, 'future': 1676, 'richard': 3354, 'linklater': 2371, 'fictional': 1532, 'representation': 3308, 'choice': 658, 'bookmark': 453, 'card': 575, 'eat': 1247, 'newbie': 2715, 'fuss': 1674, 'contemptuous': 833, 'conjuring': 810, 'satisfies': 3454, 'disappoint': 1114, 'bromance': 511, 'lurk': 2430, 'washington': 4397, 'usual': 4305, 'irrepressible': 2163, 'smother': 3686, 'afraid': 87, 'condense': 795, 'harried': 1858, 'jockey': 2201, 'santa': 3444, 'frequently': 1648, 'instinct': 2111, 'australian': 277, 'tourism': 4122, 'commission': 755, 'save': 3461, 'ambiguous': 142, 'interpretation': 2134, 'shetty': 3581, 'heroism': 1902, 'grate': 1777, 'depiction': 1047, 'ridiculousness': 3359, 'sprinkle': 3770, 'zoolander': 4535, 'wasted': 4400, 'chance': 622, 'ahem': 96, 'bouncy': 467, 'cheap': 642, 'involvement': 2154, 'thrashing': 4057, 'dipper': 1106, 'ardent': 212, 'defend': 1013, 'rubbish': 3411, 'assume': 250, 'cranston': 888, 'nomination': 2740, 'recognition': 3240, 'die': 1092, 'shame': 3567, 'oblige': 2777, 'communism': 758, 'lit': 2376, 'ad': 54, 'chlamydia': 657, 'medication': 2523, 'pig': 2984, 'introduction': 2142, 'absent': 8, 'scheme': 3475, 'notable': 2752, 'drag': 1194, 'swell': 3945, 'les': 2336, 'choristes': 668, 'playfully': 3004, 'assault': 243, 'six': 3640, 'taraji': 3978, 'mel': 2527, 'gibson': 1722, 'dist': 1143, 'intrude': 2144, 'single': 3635, 'curiosity': 940, 'forthright': 1625, 'coddington': 723, 'lens': 2332, 'flare': 1574, 'awe': 294, 'inspiring': 2107, 'provoke': 3134, 'asset': 247, 'four': 1631, 'horrible': 1961, 'realm': 3231, 'unthinkable': 4293, 'actively': 47, 'stork': 3823, 'unbearable': 4219, 'example': 1400, 'slender': 3667, 'apply': 202, 'drab': 1193, 'hazy': 1867, 'blue': 432, 'neutral': 2711, 'creepy': 904, 'exact': 1396, 'contestant': 837, 'frame': 1635, 'tune': 4190, 'polanski': 3033, 'major': 2454, 'recollection': 3242, 'rigorous': 3365, 'ethic': 1376, 'atonement': 259, 'vacuous': 4313, 'woo': 4487, 'wishing': 4469, 'satisfactorily': 3453, 'indulge': 2062, 'gag': 1677, 'impenetrable': 2022, 'double': 1184, 'triple': 4171, 'eight': 1273, 'nominee': 2741, 'clint': 705, 'bald': 314, 'lunge': 2427, 'academy': 18, 'gold': 1756, 'armour': 220, 'garden': 1687, 'fleming': 1584, 'travelogue': 4151, 'drug': 1214, 'forster': 1624, 'gothic': 1765, 'terrain': 4021, 'brilliantly': 500, 'association': 248, 'capacity': 566, 'engineer': 1326, 'vulnerability': 4376, 'burrow': 536, 'skin': 3648, 'lifeless': 2349, 'jerky': 2191, 'abundance': 15, 'beard': 346, 'parker': 2900, 'merciless': 2543, 'mockery': 2603, 'bruckheimer': 516, 'accur': 32, 'shocker': 3587, 'zack': 4524, 'snyder': 3695, 'vehemently': 4325, 'monumental': 2625, 'drinker': 1209, 'stiff': 3813, 'belt': 376, 'plight': 3014, 'ordinary': 2834, 'widely': 4443, 'imitate': 2013, 'fantastic': 1492, 'feed': 1517, 'warrior': 4395, 'adolescent': 66, 'moral': 2630, 'complication': 775, 'ken': 2236, 'loach': 2385, 'scribble': 3495, 'lowlife': 2417, 'drunken': 1217, 'buffoonery': 523, 'charmingly': 636, 'weightless': 4423, 'eternally': 1374, 'abel': 1, 'ferrara': 1525, 'remotely': 3299, 'resemble': 3318, 'uma': 4212, 'releitura': 3278, 'da': 952, 'filme': 1543, 'traz': 4152, 'carell': 580, 'em': 1289, 'momento': 2614, 'insp': 2101, 'contraband': 841, 'retread': 3339, 'holiday': 1934, 'manipulation': 2470, 'cooper': 858, 'terrifying': 4027, 'pacino': 2873, 'surmise': 3921, 'dealt': 995, 'health': 1872, 'malpractice': 2461, 'educates': 1259, 'inspires': 2106, 'ravish': 3216, 'fire': 1562, 'excite': 1410, 'workmanlike': 4493, 'hoot': 1953, 'hermetic': 1898, 'poor': 3042, 'albert': 112, 'nobbs': 2731, 'transformer': 4139, 'massive': 2495, 'metallic': 2551, 'explode': 1441, 'subculture': 3862, 'sag': 3433, 'current': 943, 'mode': 2604, 'excellence': 1403, 'nocturnal': 2734, 'invent': 2146, 'ford': 1606, 'precise': 3076, 'integration': 2114, 'willis': 4455, 'ease': 1244, 'quale': 3167, 'nobody': 2732, 'bother': 464, 'inevitably': 2068, 'false': 1481, 'hugh': 1976, 'relaxed': 3276, 'pain': 2880, 'lengthy': 2330, 'awesome': 295, 'monotony': 2620, 'guarantee': 1808, 'plug': 3021, 'directly': 1110, 'synapsis': 3956, 'tepidly': 4017, 'glib': 1741, 'wisecrack': 4467, 'prurient': 3135, 'ogle': 2808, 'heigl': 1887, 'cleavage': 699, 'charmer': 634, 'pootie': 3043, 'vocab': 4368, 'impress': 2031, 'mirthless': 2584, 'eddie': 1252, 'murphy': 2657, 'daisy': 954, 'rife': 3361, 'hoary': 1926, 'negro': 2700, 'presumably': 3093, 'labour': 2268, 'pedigree': 2932, 'kidnap': 2245, 'heineken': 1888, 'captive': 572, 'tantalize': 3975, 'bounce': 466, 'catharsis': 600, 'weigh': 4421, 'osmosis': 2841, 'daring': 972, 'alice': 116, 'englert': 1328, 'alden': 114, 'ehrenreich': 1272, 'preposterous': 3088, 'awake': 291, 'blocked': 426, 'midst': 2561, 'midlife': 2560, 'breakdown': 486, 'youtube': 4522, 'blaine': 412, 'vid': 4340, 'wonderstone': 4486, 'houdini': 1969, 'enthusiastically': 1345, 'tasteless': 3983, 'earn': 1239, 'jerk': 2190, 'sensuality': 3526, 'adorable': 67, 'shared': 3574, 'atmospheric': 257, 'weirdness': 4427, 'odd': 2794, 'behavior': 362, 'cove': 881, 'headland': 1870, 'town': 4126, 'impend': 2021, 'reckon': 3239, 'primer': 3102, 'object': 2774, 'disposal': 1139, 'valentine': 4315, 'eve': 1378, 'marshall': 2486, 'bunch': 531, 'sitcom': 3638, 'ugliness': 4207, 'bloodshed': 429, 'showbiz': 3598, 'ruthlessness': 3425, 'outlandish': 2848, 'plods': 3017, 'feeding': 1518, 'coin': 729, 'oversimplified': 2862, 'captivate': 571, 'open': 2822, 'forgive': 1612, 'preachiness': 3072, 'karen': 2231, 'abercrombie': 2, 'radiant': 3188, 'unappealing': 4217, 'mixture': 2601, 'mystical': 2672, 'psychodrama': 3136, 'cope': 860, 'salute': 3439, 'puppetry': 3154, 'crappy': 890, 'tsangari': 4185, 'deadpan': 991, 'sociopathic': 3702, 'behaviour': 363, 'sextet': 3554, 'judge': 2220, 'chamber': 619, 'letter': 2341, 'grindhouse': 1791, 'gore': 1761, 'furiously': 1673, 'unimaginable': 4260, 'rocking': 3387, 'tom': 4101, 'rock': 3385, 'tap': 3976, 'sleazy': 3660, 'adam': 55, 'shankman': 3570, 'confuse': 806, 'glam': 1733, 'unlike': 4273, 'concert': 790, 'pungent': 3152, 'capsule': 569, 'forgotten': 1614, 'ripe': 3368, 'rediscovery': 3250, 'flashback': 1576, 'ludicrously': 2423, 'alien': 117, 'racecars': 3185, 'carpenter': 585, 'unparalleled': 4279, 'gift': 1723, 'contrive': 843, 'extend': 1454, 'crush': 924, 'army': 222, 'rejoice': 3271, 'belatedly': 366, 'strictly': 3839, 'plotting': 3019, 'passage': 2914, 'relentless': 3279, 'pause': 2926, 'rerun': 3315, 'knock': 2257, 'sideways': 3612, 'lodger': 2390, 'pornographically': 3049, 'adore': 68, 'inch': 2043, 'interminable': 2128, 'ryan': 3426, 'january': 2183, 'inherently': 2086, 'frightening': 1655, 'sea': 3499, 'feat': 1514, 'adept': 61, 'strand': 3830, 'weave': 4416, 'horrifically': 1964, 'tangle': 3974, 'choke': 660, 'bone': 448, 'tomahawk': 4102, 'dinosaur': 1105, 'rubber': 3410, 'chicken': 650, 'squirting': 3778, 'flower': 1595, 'cap': 563, 'vacillates': 4312, 'laughless': 2299, 'negga': 2698, 'edgerton': 1255, 'shine': 3585, 'clumsy': 716, 'offending': 2802, 'exec': 1415, 'desk': 1062, 'chadwick': 616, 'boseman': 461, 'formidable': 1619, 'bask': 334, 'accolade': 25, 'greet': 1784, 'charles': 630, 'joaquin': 2198, 'johnny': 2204, 'holy': 1938, 'deaf': 993, 'latch': 2293, 'bowl': 468, 'columbine': 744, 'deadpool': 992, 'coarseness': 721, 'incorrectness': 2051, 'horribly': 1962, 'handsome': 1836, 'barry': 328, 'levinson': 2343, 'ultraviolent': 4210, 'measure': 2519, 'cradle': 885, 'grave': 1779, 'disposable': 1138, 'undemanding': 4229, 'diverting': 1159, 'energetic': 1319, 'irrepressibly': 2164, 'bawdy': 342, 'hanna': 1841, 'empowerment': 1305, 'disappointingly': 1117, 'translate': 4141, 'idolizing': 2003, 'nosedive': 2751, 'degradation': 1022, 'tape': 3977, 'grohl': 1799, 'musician': 2663, 'cage': 544, 'visionary': 4361, 'panos': 2888, 'cosmatos': 869, 'yule': 4523, 'log': 2391, 'passable': 2913, 'wildly': 4448, 'overrate': 2861, 'gloria': 1746, 'waver': 4407, 'austerity': 276, 'accomplished': 28, 'jung': 2227, 'structure': 3845, 'mute': 2668, 'jar': 2185, 'tonal': 4104, 'shift': 3584, 'gimmickry': 1725, 'malkovich': 2459, 'restraint': 3333, 'excess': 1408, 'irreverence': 2167, 'neruda': 2707, 'baroque': 327, 'scripter': 3497, 'stylistically': 3859, 'domestic': 1177, 'speaks': 3742, 'stylistic': 3858, 'frontal': 1658, 'urgency': 4302, 'resonate': 3326, 'dictate': 1089, 'thanksgiving': 4040, 'turkey': 4191, 'rancid': 3201, 'cook': 856, 'informant': 2076, 'motif': 2639, 'knowable': 2260, 'instantly': 2109, 'virtual': 4357, 'sputore': 3772, 'existentialist': 1425, 'taika': 3965, 'waititi': 4383, 'offbeat': 2801, 'honey': 1949, 'rival': 3374, 'acclaimed': 24, 'forebear': 1607, 'winged': 4460, 'migration': 2564, 'microcosmos': 2558, 'scope': 3482, 'honeybee': 1950, 'mirror': 2583, 'jokey': 2207, 'hip': 1917, 'irony': 2159, 'sublimely': 3867, 'raucous': 3213, 'exhilarate': 1421, 'fable': 1465, 'payne': 2929, 'bloated': 423, 'downsizing': 1191, 'discomfit': 1123, 'trace': 4128, 'trajectory': 4136, 'disrupted': 1141, 'airport': 103, 'bully': 529, 'community': 759, 'amidst': 150, 'rampant': 3199, 'stab': 3781, 'available': 285, 'basically': 332, 'terrific': 4024, 'docudrama': 1167, 'disappointed': 1115, 'meryl': 2546, 'streep': 3835, 'bolster': 445, 'adapt': 56, 'nimble': 2728, 'villeneuve': 4352, 'distinguish': 1149, 'runner': 3418, 'awesomeness': 296, 'irrelevancy': 2160, 'news': 2716, 'ok': 2810, 'passer': 2915, 'carnage': 583, 'lacklustre': 2272, 'petering': 2964, 'distinction': 1146, 'replace': 3304, 'paranormal': 2896, 'activity': 48, 'incline': 2046, 'sleep': 3663, 'audacious': 268, 'engross': 1330, 'quentin': 3173, 'tarantino': 3979, 'flawless': 1581, 'nicol': 2722, 'conductor': 796, 'leonard': 2335, 'moorambilla': 2628, 'voice': 4369, 'choir': 659, 'ingenious': 2080, 'technician': 3998, 'assess': 246, 'abortion': 5, 'ongoing': 2815, 'weapon': 4414, 'assemble': 245, 'seymour': 3559, 'hoffman': 1928, 'slattery': 3657, 'authentic': 279, 'collar': 735, 'quibble': 3177, 'complaint': 768, 'concentrate': 785, 'scheming': 3476, 'lush': 2432, 'briefly': 498, 'dissipate': 1142, 'anticlimactic': 186, 'thud': 4070, 'knightley': 2256, 'loosely': 2399, 'pleasurable': 3011, 'ifs': 2004, 'taylor': 3988, 'lautner': 2300, 'damn': 957, 'steal': 3802, 'today': 4095, 'pulpy': 3148, 'colin': 731, 'farrell': 1498, 'noomi': 2749, 'rapace': 3205, 'rehash': 3269, 'juliette': 2225, 'binoche': 394, 'dumont': 1226, 'fictionalized': 1533, 'eponymous': 1357, 'sculptor': 3498, 'confinement': 801, 'experiment': 1435, 'tedium': 4000, 'fit': 1568, 'fleet': 1583, 'persuasion': 2960, 'exploitative': 1444, 'misogynistic': 2592, 'plea': 3006, 'tolerance': 4100, 'understanding': 4236, 'ana': 160, 'lily': 2364, 'amirpour': 151, 'allegorical': 121, 'cannibal': 559, 'reproductive': 3311, 'freedom': 1644, 'crosshairs': 916, 'own': 2868, 'uterus': 4307, 'minimalist': 2576, 'savour': 3464, 'bruce': 515, 'jackie': 2177, 'chan': 621, 'jaa': 2173, 'electrifies': 1281, 'joan': 2197, 'jett': 2195, 'attribute': 267, 'parable': 2893, 'tight': 4076, 'nonetheless': 2744, 'lift': 2351, 'artform': 229, 'robbie': 3383, 'allison': 124, 'janney': 2182, 'harding': 1851, 'broke': 509, 'juliet': 2224, 'naked': 2678, 'hornby': 1960, 'generally': 1699, 'unpleasantries': 4281, 'gluck': 1750, 'timberlake': 4080, 'target': 3980, 'gratuitous': 1778, 'rear': 3232, 'deflect': 1017, 'rotten': 3403, 'motion': 2640, 'preform': 3082, 'daredevil': 971, 'hire': 1919, 'winslet': 4463, 'spencer': 3749, 'watt': 4405, 'spout': 3765, 'gobbledygook': 1754, 'daniel': 965, 'savoir': 3463, 'faire': 1475, 'tower': 4125, 'totally': 4117, 'consolidate': 823, 'bullet': 527, 'calendar': 548, 'sloppy': 3673, 'occasional': 2789, 'boogie': 451, 'web': 4417, 'typically': 4204, 'farrelly': 1499, 'lap': 2287, 'willingly': 4453, 'coruscant': 867, 'discworld': 1128, 'cuz': 949, 'topping': 4111, 'wormhole': 4495, 'sweetly': 3943, 'dish': 1130, 'donner': 1178, 'superman': 3906, 'punch': 3150, 'drunk': 1216, 'confused': 807, 'diddy': 1091, 'dynamo': 1234, 'melinda': 2529, 'steady': 3801, 'walk': 4384, 'pocket': 3025, 'twirl': 4197, 'priceless': 3099, 'worrisome': 4496, 'energizing': 1321, 'skillfully': 3647, 'milne': 2572, 'subsequent': 3872, 'resistance': 3321, 'futile': 1675, 'gu': 1807, 'van': 4317, 'sant': 3443, 'milk': 2569, 'soderbergh': 3704, 'glimmer': 1742, 'coherence': 726, 'destine': 1070, 'dizzying': 1163, 'array': 224, 'colour': 743, 'saturate': 3457, 'pocus': 3026, 'intoxicating': 2139, 'witch': 4472, 'desperation': 1067, 'azazel': 302, 'endeavor': 1315, 'calamitous': 545, 'expedition': 1432, 'earth': 1243, 'strength': 3837, 'participant': 2906, 'docu': 1166, 'advocate': 76, 'legislation': 2326, 'um': 4211, 'tipos': 4086, 'besteira': 385, 'mais': 2453, 'irritantes': 2168, 'que': 3171, 'existem': 1423, 'aquele': 207, 'acredita': 42, 'precisar': 3075, 'duas': 1219, 'horas': 1958, 'para': 2892, 'ser': 3535, 'contado': 828, 'radiantly': 3189, 'sexy': 3557, 'five': 1570}\n"
     ]
    }
   ],
   "source": [
    "Tfidf_vect = TfidfVectorizer(max_features=5000)\n",
    "Tfidf_vect.fit(reviews['text_final'])\n",
    "train_x_Tfidf = Tfidf_vect.transform(train_x)\n",
    "test_x_Tfidf = Tfidf_vect.transform(test_x)\n",
    "print(Tfidf_vect.vocabulary_)"
   ]
  },
  {
   "cell_type": "code",
   "execution_count": null,
   "metadata": {},
   "outputs": [],
   "source": []
  },
  {
   "cell_type": "code",
   "execution_count": 286,
   "metadata": {},
   "outputs": [
    {
     "name": "stdout",
     "output_type": "stream",
     "text": [
      "  (0, 8993)\t0.5082231329336182\n",
      "  (0, 8903)\t0.20165986589280085\n",
      "  (0, 8020)\t0.18158460593352085\n",
      "  (0, 8016)\t0.20165986589280085\n",
      "  (0, 6971)\t0.1832647699696022\n",
      "  (0, 6479)\t0.1874837790985555\n",
      "  (0, 6154)\t0.11124020295681572\n",
      "  (0, 5739)\t0.15373019013368555\n",
      "  (0, 5629)\t0.5245713084922997\n",
      "  (0, 3314)\t0.08549480836534451\n",
      "  (0, 3232)\t0.24397287142800353\n",
      "  (0, 820)\t0.1435720334165427\n",
      "  (0, 472)\t0.2838809957817026\n",
      "  (0, 50)\t0.28187026639369667\n",
      "  (1, 6099)\t0.16144021223173471\n",
      "  (1, 5555)\t0.16939728435986592\n",
      "  (1, 5323)\t0.8382310076887837\n",
      "  (1, 5158)\t0.12057809471174956\n",
      "  (1, 5098)\t0.2168757566006275\n",
      "  (1, 4325)\t0.18439811314287075\n",
      "  (1, 3395)\t0.17736679158623397\n",
      "  (1, 3100)\t0.16403256300489244\n",
      "  (1, 2901)\t0.1636419500999239\n",
      "  (1, 2148)\t0.16699265963614957\n",
      "  (1, 923)\t0.18439811314287075\n",
      "  :\t:\n",
      "  (42496, 650)\t0.38722664516973837\n",
      "  (42497, 9862)\t0.5368593291720263\n",
      "  (42497, 5692)\t0.4883140408770643\n",
      "  (42497, 4296)\t0.29033170172560896\n",
      "  (42497, 3912)\t0.43247509646599114\n",
      "  (42497, 2907)\t0.31896100821938184\n",
      "  (42497, 477)\t0.3166514287174366\n",
      "  (42498, 9018)\t0.38124919161273835\n",
      "  (42498, 8937)\t0.20928497353220912\n",
      "  (42498, 6373)\t0.21569786954313847\n",
      "  (42498, 5812)\t0.24440225061453963\n",
      "  (42498, 5158)\t0.23348070436902385\n",
      "  (42498, 3717)\t0.18986197138462477\n",
      "  (42498, 3314)\t0.11103897125064215\n",
      "  (42498, 3101)\t0.6383600411084587\n",
      "  (42498, 2212)\t0.31127702008319963\n",
      "  (42498, 1378)\t0.311934988057404\n",
      "  (42499, 9574)\t0.34330598206584445\n",
      "  (42499, 9250)\t0.47579837513142254\n",
      "  (42499, 9239)\t0.3355686244236903\n",
      "  (42499, 8988)\t0.25545749664841827\n",
      "  (42499, 5657)\t0.33147780333493304\n",
      "  (42499, 4608)\t0.37584488433445506\n",
      "  (42499, 4159)\t0.37159581900880584\n",
      "  (42499, 3333)\t0.29777795539573126\n"
     ]
    }
   ],
   "source": [
    "print(train_x_Tfidf)"
   ]
  },
  {
   "cell_type": "code",
   "execution_count": 338,
   "metadata": {},
   "outputs": [
    {
     "name": "stdout",
     "output_type": "stream",
     "text": [
      "Accuracy:  0.68\n"
     ]
    }
   ],
   "source": [
    "# First Attempt at classifier is Naive Bays \n",
    "nb = naive_bayes.MultinomialNB()\n",
    "nb.fit(train_x_Tfidf, train_y)\n",
    "\n",
    "# predict the target on validation data\n",
    "pred_nb = nb.predict(test_x_Tfidf)\n",
    "\n",
    "# output accuracy just to show it works\n",
    "print(\"Accuracy: \", accuracy_score(pred_nb, test_y))"
   ]
  }
 ],
 "metadata": {
  "kernelspec": {
   "display_name": "Python 3",
   "language": "python",
   "name": "python3"
  },
  "language_info": {
   "codemirror_mode": {
    "name": "ipython",
    "version": 3
   },
   "file_extension": ".py",
   "mimetype": "text/x-python",
   "name": "python",
   "nbconvert_exporter": "python",
   "pygments_lexer": "ipython3",
   "version": "3.8.3"
  }
 },
 "nbformat": 4,
 "nbformat_minor": 4
}
