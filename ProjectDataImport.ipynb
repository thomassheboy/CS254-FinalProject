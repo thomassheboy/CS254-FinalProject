{
 "cells": [
  {
   "cell_type": "code",
   "execution_count": null,
   "metadata": {},
   "outputs": [],
   "source": []
  },
  {
   "cell_type": "code",
   "execution_count": 1,
   "metadata": {},
   "outputs": [
    {
     "name": "stderr",
     "output_type": "stream",
     "text": [
      "[nltk_data] Downloading package punkt to\n",
      "[nltk_data]     C:\\Users\\thoma\\AppData\\Roaming\\nltk_data...\n",
      "[nltk_data]   Package punkt is already up-to-date!\n",
      "[nltk_data] Downloading package wordnet to\n",
      "[nltk_data]     C:\\Users\\thoma\\AppData\\Roaming\\nltk_data...\n",
      "[nltk_data]   Package wordnet is already up-to-date!\n",
      "[nltk_data] Downloading package averaged_perceptron_tagger to\n",
      "[nltk_data]     C:\\Users\\thoma\\AppData\\Roaming\\nltk_data...\n",
      "[nltk_data]   Package averaged_perceptron_tagger is already up-to-\n",
      "[nltk_data]       date!\n",
      "[nltk_data] Downloading package stopwords to\n",
      "[nltk_data]     C:\\Users\\thoma\\AppData\\Roaming\\nltk_data...\n",
      "[nltk_data]   Package stopwords is already up-to-date!\n"
     ]
    },
    {
     "data": {
      "text/plain": [
       "True"
      ]
     },
     "execution_count": 1,
     "metadata": {},
     "output_type": "execute_result"
    }
   ],
   "source": [
    "import nltk\n",
    "nltk.download('punkt')\n",
    "nltk.download('wordnet')\n",
    "nltk.download('averaged_perceptron_tagger')\n",
    "nltk.download('stopwords')"
   ]
  },
  {
   "cell_type": "markdown",
   "metadata": {},
   "source": []
  },
  {
   "cell_type": "code",
   "execution_count": 11,
   "metadata": {},
   "outputs": [],
   "source": [
    "import pandas as pd\n",
    "import numpy as np\n",
    "from matplotlib import pyplot\n",
    "from nltk.tokenize import word_tokenize\n",
    "from nltk import pos_tag\n",
    "from nltk.corpus import stopwords\n",
    "from nltk.corpus import wordnet\n",
    "from nltk.stem import WordNetLemmatizer\n",
    "from sklearn.pipeline import make_pipeline\n",
    "from sklearn.preprocessing import LabelEncoder, StandardScaler\n",
    "from collections import defaultdict\n",
    "from nltk.corpus import wordnet as wn\n",
    "from sklearn.feature_extraction.text import TfidfVectorizer\n",
    "from sklearn import model_selection, naive_bayes, svm\n",
    "from sklearn.model_selection import learning_curve\n",
    "from sklearn.svm import SVC\n",
    "from sklearn.metrics import accuracy_score, precision_recall_curve,f1_score,auc\n",
    "from sklearn.metrics import confusion_matrix, classification_report"
   ]
  },
  {
   "cell_type": "code",
   "execution_count": 3,
   "metadata": {},
   "outputs": [
    {
     "name": "stderr",
     "output_type": "stream",
     "text": [
      "C:\\Users\\thoma\\anaconda3\\lib\\site-packages\\IPython\\core\\interactiveshell.py:3071: DtypeWarning: Columns (0) have mixed types.Specify dtype option on import or set low_memory=False.\n",
      "  has_raised = await self.run_ast_nodes(code_ast.body, cell_name,\n"
     ]
    }
   ],
   "source": [
    "# Set seed for reproduceable results\n",
    "np.random.seed(500)\n",
    "# Read in to Pandas DataFrame and drop the first row(which contained column names as I have assigned new names)\n",
    "reviews = pd.read_csv(r\"rt_reviews.csv\", names = ['target', 'review'], encoding = 'latin-1')\n",
    "reviews = reviews.iloc[1:]\n",
    "reviews = reviews.iloc[:480000] # Choose num here"
   ]
  },
  {
   "cell_type": "code",
   "execution_count": 4,
   "metadata": {},
   "outputs": [],
   "source": [
    "for i in range(reviews.shape[0]):\n",
    "    #if(isinstance(reviews['target'].values[i],)):\n",
    "    if(reviews['target'].values[i] == '0'):\n",
    "        reviews['target'].values[i] = 0\n",
    "    elif(reviews['target'].values[i] == '1'):\n",
    "        reviews['target'].values[i] = 1\n",
    "for i in range(reviews.shape[0]):\n",
    "    if(isinstance(reviews['target'].values[i],str)):\n",
    "        print(\"Caught: \",reviews['target'].values[i])\n",
    "    if(reviews['target'].values[i] != 0 and reviews['target'].values[i] != 1):\n",
    "        print(\"Error\")"
   ]
  },
  {
   "cell_type": "code",
   "execution_count": 5,
   "metadata": {},
   "outputs": [],
   "source": [
    "\n",
    "# Data is of shape(480000,2) The first column is the target, the second in the review\n",
    "\n",
    "# Make data smaller for ease of implementation\n",
    "reviews = reviews.iloc[:480000] # Choose num here"
   ]
  },
  {
   "cell_type": "code",
   "execution_count": null,
   "metadata": {},
   "outputs": [],
   "source": []
  },
  {
   "cell_type": "code",
   "execution_count": null,
   "metadata": {},
   "outputs": [],
   "source": []
  },
  {
   "cell_type": "code",
   "execution_count": null,
   "metadata": {},
   "outputs": [],
   "source": []
  },
  {
   "cell_type": "code",
   "execution_count": 6,
   "metadata": {},
   "outputs": [
    {
     "data": {
      "text/plain": [
       "(480000, 2)"
      ]
     },
     "execution_count": 6,
     "metadata": {},
     "output_type": "execute_result"
    }
   ],
   "source": [
    "# Remove and row where either datafield is blank, no rows contained blank data so the shape remains 480000,2 \n",
    "reviews.dropna(inplace = True)\n",
    "reviews.shape"
   ]
  },
  {
   "cell_type": "code",
   "execution_count": 7,
   "metadata": {},
   "outputs": [
    {
     "data": {
      "text/html": [
       "<div>\n",
       "<style scoped>\n",
       "    .dataframe tbody tr th:only-of-type {\n",
       "        vertical-align: middle;\n",
       "    }\n",
       "\n",
       "    .dataframe tbody tr th {\n",
       "        vertical-align: top;\n",
       "    }\n",
       "\n",
       "    .dataframe thead th {\n",
       "        text-align: right;\n",
       "    }\n",
       "</style>\n",
       "<table border=\"1\" class=\"dataframe\">\n",
       "  <thead>\n",
       "    <tr style=\"text-align: right;\">\n",
       "      <th></th>\n",
       "      <th>target</th>\n",
       "      <th>review</th>\n",
       "    </tr>\n",
       "  </thead>\n",
       "  <tbody>\n",
       "    <tr>\n",
       "      <th>1</th>\n",
       "      <td>1</td>\n",
       "      <td>manakamana doesn't answer any questions, yet ...</td>\n",
       "    </tr>\n",
       "    <tr>\n",
       "      <th>2</th>\n",
       "      <td>1</td>\n",
       "      <td>wilfully offensive and powered by a chest-thu...</td>\n",
       "    </tr>\n",
       "    <tr>\n",
       "      <th>3</th>\n",
       "      <td>0</td>\n",
       "      <td>it would be difficult to imagine material mor...</td>\n",
       "    </tr>\n",
       "    <tr>\n",
       "      <th>4</th>\n",
       "      <td>0</td>\n",
       "      <td>despite the gusto its star brings to the role...</td>\n",
       "    </tr>\n",
       "    <tr>\n",
       "      <th>5</th>\n",
       "      <td>0</td>\n",
       "      <td>if there was a good idea at the core of this ...</td>\n",
       "    </tr>\n",
       "  </tbody>\n",
       "</table>\n",
       "</div>"
      ],
      "text/plain": [
       "  target                                             review\n",
       "1      1   manakamana doesn't answer any questions, yet ...\n",
       "2      1   wilfully offensive and powered by a chest-thu...\n",
       "3      0   it would be difficult to imagine material mor...\n",
       "4      0   despite the gusto its star brings to the role...\n",
       "5      0   if there was a good idea at the core of this ..."
      ]
     },
     "execution_count": 7,
     "metadata": {},
     "output_type": "execute_result"
    }
   ],
   "source": [
    "# Convert all text to lowercase so all words recognized the same \n",
    "reviews['review'] = [entry.lower() for entry in reviews['review']]\n",
    "\n",
    "# Can now been seen to contain no capital letters\n",
    "reviews.head()\n",
    "#type(reviews)\n"
   ]
  },
  {
   "cell_type": "code",
   "execution_count": 8,
   "metadata": {},
   "outputs": [
    {
     "data": {
      "text/plain": [
       "pandas.core.frame.DataFrame"
      ]
     },
     "execution_count": 8,
     "metadata": {},
     "output_type": "execute_result"
    }
   ],
   "source": [
    "# Tokenize each review: this process converts each review into a set of words. \n",
    "reviews['review'] = [word_tokenize(entry) for entry in reviews['review']]\n",
    "type(reviews)"
   ]
  },
  {
   "cell_type": "code",
   "execution_count": 9,
   "metadata": {},
   "outputs": [
    {
     "data": {
      "text/html": [
       "<div>\n",
       "<style scoped>\n",
       "    .dataframe tbody tr th:only-of-type {\n",
       "        vertical-align: middle;\n",
       "    }\n",
       "\n",
       "    .dataframe tbody tr th {\n",
       "        vertical-align: top;\n",
       "    }\n",
       "\n",
       "    .dataframe thead th {\n",
       "        text-align: right;\n",
       "    }\n",
       "</style>\n",
       "<table border=\"1\" class=\"dataframe\">\n",
       "  <thead>\n",
       "    <tr style=\"text-align: right;\">\n",
       "      <th></th>\n",
       "      <th>target</th>\n",
       "      <th>review</th>\n",
       "    </tr>\n",
       "  </thead>\n",
       "  <tbody>\n",
       "    <tr>\n",
       "      <th>1</th>\n",
       "      <td>1</td>\n",
       "      <td>[manakamana, does, n't, answer, any, questions...</td>\n",
       "    </tr>\n",
       "    <tr>\n",
       "      <th>2</th>\n",
       "      <td>1</td>\n",
       "      <td>[wilfully, offensive, and, powered, by, a, che...</td>\n",
       "    </tr>\n",
       "    <tr>\n",
       "      <th>3</th>\n",
       "      <td>0</td>\n",
       "      <td>[it, would, be, difficult, to, imagine, materi...</td>\n",
       "    </tr>\n",
       "    <tr>\n",
       "      <th>4</th>\n",
       "      <td>0</td>\n",
       "      <td>[despite, the, gusto, its, star, brings, to, t...</td>\n",
       "    </tr>\n",
       "    <tr>\n",
       "      <th>5</th>\n",
       "      <td>0</td>\n",
       "      <td>[if, there, was, a, good, idea, at, the, core,...</td>\n",
       "    </tr>\n",
       "  </tbody>\n",
       "</table>\n",
       "</div>"
      ],
      "text/plain": [
       "  target                                             review\n",
       "1      1  [manakamana, does, n't, answer, any, questions...\n",
       "2      1  [wilfully, offensive, and, powered, by, a, che...\n",
       "3      0  [it, would, be, difficult, to, imagine, materi...\n",
       "4      0  [despite, the, gusto, its, star, brings, to, t...\n",
       "5      0  [if, there, was, a, good, idea, at, the, core,..."
      ]
     },
     "execution_count": 9,
     "metadata": {},
     "output_type": "execute_result"
    }
   ],
   "source": [
    "reviews.head()"
   ]
  },
  {
   "cell_type": "code",
   "execution_count": 11,
   "metadata": {},
   "outputs": [],
   "source": [
    "#DO NOT RUN\n",
    "\n",
    "# Next steps are stemming/lemmenting which reduces words to their root so that words such as 'loving' and 'loved'\n",
    "# both reduce to 'love'\n",
    "\n",
    "# Creating tags so that lemmatizer can understand verbs from nouns from adjectives \n",
    "tag_map = defaultdict(lambda : wn.NOUN)\n",
    "tag_map['J'] = wn.ADJ\n",
    "tag_map['V'] = wn.VERB\n",
    "tag_map['R'] = wn.ADV\n",
    "\n",
    "for index,entry in enumerate(reviews['review']):\n",
    "    index = index+1 # Index seems to off by one, this fixes it\n",
    "    # Words that follow the rules will end up in this list\n",
    "    Final_words = []\n",
    "    \n",
    "    word_Lemmatized = WordNetLemmatizer()\n",
    "    \n",
    "    for word, tag in pos_tag(entry):\n",
    "        if word not in stopwords.words('english') and word.isalpha():\n",
    "            word_Final = word_Lemmatized.lemmatize(word, tag_map[tag[0]])\n",
    "            Final_words.append(word_Final)\n",
    "        reviews.loc[index, 'text_final'] = str(Final_words)"
   ]
  },
  {
   "cell_type": "code",
   "execution_count": 12,
   "metadata": {},
   "outputs": [],
   "source": [
    "################ Unaltered Words ############\n",
    "\n",
    "for index, entry in enumerate(reviews['review']):\n",
    "    index = index + 1\n",
    "    Final_words = []\n",
    "        \n",
    "    for word, tag in pos_tag(entry):\n",
    "        if word not in stopwords.words('english') and word.isalpha() and wordnet.synsets(word):\n",
    "            word_Final = word  #This is where a stemmer would go\n",
    "            Final_words.append(word_Final)\n",
    "        reviews.loc[index, 'unaltered_words'] = str(Final_words)   "
   ]
  },
  {
   "cell_type": "code",
   "execution_count": 13,
   "metadata": {},
   "outputs": [
    {
     "data": {
      "text/plain": [
       "(480000, 3)"
      ]
     },
     "execution_count": 13,
     "metadata": {},
     "output_type": "execute_result"
    }
   ],
   "source": [
    "reviews.shape"
   ]
  },
  {
   "cell_type": "code",
   "execution_count": null,
   "metadata": {},
   "outputs": [],
   "source": []
  },
  {
   "cell_type": "code",
   "execution_count": 14,
   "metadata": {},
   "outputs": [
    {
     "data": {
      "text/html": [
       "<div>\n",
       "<style scoped>\n",
       "    .dataframe tbody tr th:only-of-type {\n",
       "        vertical-align: middle;\n",
       "    }\n",
       "\n",
       "    .dataframe tbody tr th {\n",
       "        vertical-align: top;\n",
       "    }\n",
       "\n",
       "    .dataframe thead th {\n",
       "        text-align: right;\n",
       "    }\n",
       "</style>\n",
       "<table border=\"1\" class=\"dataframe\">\n",
       "  <thead>\n",
       "    <tr style=\"text-align: right;\">\n",
       "      <th></th>\n",
       "      <th>target</th>\n",
       "      <th>review</th>\n",
       "      <th>unaltered_words</th>\n",
       "    </tr>\n",
       "  </thead>\n",
       "  <tbody>\n",
       "    <tr>\n",
       "      <th>479996</th>\n",
       "      <td>0</td>\n",
       "      <td>[zemeckis, seems, unable, to, admit, that, the...</td>\n",
       "      <td>['seems', 'unable', 'admit', 'motion', 'captur...</td>\n",
       "    </tr>\n",
       "    <tr>\n",
       "      <th>479997</th>\n",
       "      <td>1</td>\n",
       "      <td>[movies, like, the, kids, are, all, right, --,...</td>\n",
       "      <td>['movies', 'like', 'kids', 'right', 'beautiful...</td>\n",
       "    </tr>\n",
       "    <tr>\n",
       "      <th>479998</th>\n",
       "      <td>0</td>\n",
       "      <td>[film-savvy, audiences, soon, will, catch, ont...</td>\n",
       "      <td>['audiences', 'soon', 'catch', 'attempts', 'ea...</td>\n",
       "    </tr>\n",
       "    <tr>\n",
       "      <th>479999</th>\n",
       "      <td>1</td>\n",
       "      <td>[an, odd, yet, enjoyable, film, .]</td>\n",
       "      <td>['odd', 'yet', 'enjoyable', 'film']</td>\n",
       "    </tr>\n",
       "    <tr>\n",
       "      <th>480000</th>\n",
       "      <td>1</td>\n",
       "      <td>[no, other, animation, studio, ,, even, our, b...</td>\n",
       "      <td>['animation', 'studio', 'even', 'beloved', 'qu...</td>\n",
       "    </tr>\n",
       "  </tbody>\n",
       "</table>\n",
       "</div>"
      ],
      "text/plain": [
       "       target                                             review  \\\n",
       "479996      0  [zemeckis, seems, unable, to, admit, that, the...   \n",
       "479997      1  [movies, like, the, kids, are, all, right, --,...   \n",
       "479998      0  [film-savvy, audiences, soon, will, catch, ont...   \n",
       "479999      1                 [an, odd, yet, enjoyable, film, .]   \n",
       "480000      1  [no, other, animation, studio, ,, even, our, b...   \n",
       "\n",
       "                                          unaltered_words  \n",
       "479996  ['seems', 'unable', 'admit', 'motion', 'captur...  \n",
       "479997  ['movies', 'like', 'kids', 'right', 'beautiful...  \n",
       "479998  ['audiences', 'soon', 'catch', 'attempts', 'ea...  \n",
       "479999                ['odd', 'yet', 'enjoyable', 'film']  \n",
       "480000  ['animation', 'studio', 'even', 'beloved', 'qu...  "
      ]
     },
     "execution_count": 14,
     "metadata": {},
     "output_type": "execute_result"
    }
   ],
   "source": [
    "reviews.tail() "
   ]
  },
  {
   "cell_type": "code",
   "execution_count": 16,
   "metadata": {},
   "outputs": [],
   "source": [
    "# Create Train and Test splits \n",
    "test_s = .15\n",
    "train_x, test_x, train_y, test_y = model_selection.train_test_split(reviews['unaltered_words'], reviews['target'], test_size=test_s)"
   ]
  },
  {
   "cell_type": "code",
   "execution_count": 17,
   "metadata": {},
   "outputs": [
    {
     "name": "stdout",
     "output_type": "stream",
     "text": [
      "\n",
      "train_x Shape:  (408000,)\n",
      "\n",
      "train_y Shape:  (408000,)\n",
      "\n",
      "test_x Shape:  (72000,)\n",
      "\n",
      "test_y Shape:  (72000,)\n",
      "360649    ['intimations', 'allusions', 'wicker', 'man', ...\n",
      "285349    ['occasionally', 'stirring', 'peek', 'place', ...\n",
      "59650     ['glum', 'muddy', 'muddled', 'gory', 'told', '...\n",
      "178735    ['men', 'sets', 'puts', 'motion', 'premise', '...\n",
      "84349     ['struggles', 'find', 'balance', 'contemporary...\n",
      "                                ...                        \n",
      "329586    ['bloated', 'crime', 'tome', 'meanders', 'far'...\n",
      "143893    ['possible', 'see', 'crudely', 'assembled', 's...\n",
      "469535    ['man', 'man', 'certainly', 'emit', 'quite', '...\n",
      "89062     ['sincere', 'austere', 'intellectually', 'rigo...\n",
      "298168    ['behind', 'candelabra', 'smear', 'job', 'reve...\n",
      "Name: unaltered_words, Length: 72000, dtype: object\n"
     ]
    }
   ],
   "source": [
    "print(\"\\ntrain_x Shape: \", train_x.shape)\n",
    "print(\"\\ntrain_y Shape: \", train_y.shape)\n",
    "print(\"\\ntest_x Shape: \", test_x.shape)\n",
    "print(\"\\ntest_y Shape: \", test_y.shape)\n",
    "print(test_x)"
   ]
  },
  {
   "cell_type": "code",
   "execution_count": 18,
   "metadata": {},
   "outputs": [],
   "source": [
    "Encoder = LabelEncoder()\n",
    "train_y = Encoder.fit_transform(train_y)\n",
    "test_y = Encoder.fit_transform(test_y)"
   ]
  },
  {
   "cell_type": "code",
   "execution_count": 20,
   "metadata": {},
   "outputs": [],
   "source": [
    "max_f = 480000\n",
    "Tfidf_vect = TfidfVectorizer(max_features=max_f)\n",
    "Tfidf_vect.fit(reviews['unaltered_words'])\n",
    "train_x_Tfidf = Tfidf_vect.transform(train_x)\n",
    "test_x_Tfidf = Tfidf_vect.transform(test_x)\n",
    "#print(Tfidf_vect.vocabulary_)"
   ]
  },
  {
   "cell_type": "code",
   "execution_count": null,
   "metadata": {},
   "outputs": [],
   "source": []
  },
  {
   "cell_type": "code",
   "execution_count": 21,
   "metadata": {
    "scrolled": true
   },
   "outputs": [
    {
     "name": "stdout",
     "output_type": "stream",
     "text": [
      "  (0, 45801)\t0.39238223633546665\n",
      "  (0, 39395)\t0.6092874055425757\n",
      "  (0, 37323)\t0.581142094327209\n",
      "  (0, 27332)\t0.37024168357514853\n",
      "  (1, 38330)\t0.35093283377513174\n",
      "  (1, 29175)\t0.45756986201715516\n",
      "  (1, 22621)\t0.39528642847987117\n",
      "  (1, 22611)\t0.4191179416648708\n",
      "  (1, 22576)\t0.2850850503020472\n",
      "  (1, 19445)\t0.4640213909831402\n",
      "  (1, 17902)\t0.19742193594111576\n",
      "  (2, 43084)\t0.29545701870944535\n",
      "  (2, 42342)\t0.2976617421554046\n",
      "  (2, 36810)\t0.22038252506535663\n",
      "  (2, 30084)\t0.39070163127096746\n",
      "  (2, 29723)\t0.268742238964389\n",
      "  (2, 25768)\t0.4342130001275752\n",
      "  (2, 25086)\t0.20808090361868944\n",
      "  (2, 24850)\t0.19987200577523073\n",
      "  (2, 22593)\t0.25917026866811455\n",
      "  (2, 16910)\t0.2057035361081761\n",
      "  (2, 10918)\t0.22741455233301505\n",
      "  (2, 7697)\t0.1881274906284557\n",
      "  (2, 1030)\t0.28685206888167264\n",
      "  (3, 46219)\t0.17423381475704994\n",
      "  :\t:\n",
      "  (407996, 47329)\t0.46128372977414994\n",
      "  (407996, 38902)\t0.6119201617598373\n",
      "  (407996, 13811)\t0.4709986239071192\n",
      "  (407996, 12434)\t0.43695690011151395\n",
      "  (407997, 38994)\t0.31827001869218663\n",
      "  (407997, 37347)\t0.4352465712032011\n",
      "  (407997, 36324)\t0.5827203370102515\n",
      "  (407997, 19168)\t0.25900212676663503\n",
      "  (407997, 14341)\t0.3797574325647415\n",
      "  (407997, 14320)\t0.3979997701436354\n",
      "  (407998, 47329)\t0.3232863168739417\n",
      "  (407998, 14552)\t0.47253631203552354\n",
      "  (407998, 11435)\t0.4981923997792404\n",
      "  (407998, 4647)\t0.6511526118600378\n",
      "  (407999, 47060)\t0.24655519603133275\n",
      "  (407999, 41140)\t0.29417544513054544\n",
      "  (407999, 40249)\t0.1669299457263855\n",
      "  (407999, 26816)\t0.2538109108375274\n",
      "  (407999, 23430)\t0.2383725724831789\n",
      "  (407999, 19981)\t0.2792783637006738\n",
      "  (407999, 18709)\t0.25969009351965444\n",
      "  (407999, 17490)\t0.3093150832993506\n",
      "  (407999, 5141)\t0.41410384474436207\n",
      "  (407999, 1326)\t0.47834278651981\n",
      "  (407999, 412)\t0.24931764625052655\n"
     ]
    }
   ],
   "source": [
    "print(train_x_Tfidf)"
   ]
  },
  {
   "cell_type": "code",
   "execution_count": 26,
   "metadata": {},
   "outputs": [
    {
     "name": "stdout",
     "output_type": "stream",
     "text": [
      "NB Multinomial: Accuracy:  0.7947638888888889\n",
      "NB Bernoulli: Accuracy:  0.7948194444444444\n"
     ]
    }
   ],
   "source": [
    "# First Attempt at classifier is Naive Bays \n",
    "nbm = naive_bayes.MultinomialNB()\n",
    "nbm.fit(train_x_Tfidf, train_y)\n",
    "\n",
    "#Bernoulli Naive Bayes\n",
    "nbb = naive_bayes.BernoulliNB()\n",
    "nbb.fit(train_x_Tfidf, train_y)\n",
    "\n",
    "# predict the target on validation data\n",
    "pred_nbm = nbm.predict(test_x_Tfidf)\n",
    "pred_nbb = nbb.predict(test_x_Tfidf)\n",
    "\n",
    "# output accuracy just to show it works\n",
    "print(\"NB Multinomial: Accuracy: \", accuracy_score(pred_nbm, test_y))\n",
    "print(\"NB Bernoulli: Accuracy: \", accuracy_score(pred_nbb, test_y))\n",
    "\n",
    "#svm = SVC(probability=True)\n",
    "#svm.fit(train_x_Tfidf, train_y)\n",
    "#pred_svm = svm.predict(test_x_Tfidf)\n",
    "#print(\"SVM: Accuracy: \", accuracy_score(pred_svm, test_y))\n"
   ]
  },
  {
   "cell_type": "code",
   "execution_count": 27,
   "metadata": {
    "scrolled": true
   },
   "outputs": [
    {
     "name": "stdout",
     "output_type": "stream",
     "text": [
      "              precision    recall  f1-score   support\n",
      "\n",
      "           0       0.79      0.80      0.80     35977\n",
      "           1       0.80      0.79      0.79     36023\n",
      "\n",
      "    accuracy                           0.79     72000\n",
      "   macro avg       0.79      0.79      0.79     72000\n",
      "weighted avg       0.79      0.79      0.79     72000\n",
      "\n",
      "              precision    recall  f1-score   support\n",
      "\n",
      "           0       0.78      0.81      0.80     35977\n",
      "           1       0.81      0.78      0.79     36023\n",
      "\n",
      "    accuracy                           0.79     72000\n",
      "   macro avg       0.80      0.79      0.79     72000\n",
      "weighted avg       0.80      0.79      0.79     72000\n",
      "\n",
      "Test Split:  0.15\n",
      "Max Features:  480000\n",
      "Naive-Bayes-Multinomial: f1=0.794\n",
      "Accuracy:  0.7947638888888889\n",
      "Naive-Bayes-Bernoulli: f1=0.791\n",
      "Accuracy:  0.7948194444444444\n"
     ]
    },
    {
     "data": {
      "image/png": "[encoded data removed]",
      "text/plain": [
       "<Figure size 432x288 with 1 Axes>"
      ]
     },
     "metadata": {
      "needs_background": "light"
     },
     "output_type": "display_data"
    }
   ],
   "source": [
    "#Analysis\n",
    "\n",
    "#Predict Probability\n",
    "nbm_probs = nbm.predict_proba(test_x_Tfidf)\n",
    "nbm_probs = nbm_probs[:,1]\n",
    "nbb_probs = nbb.predict_proba(test_x_Tfidf)\n",
    "nbb_probs = nbb_probs[:,1]\n",
    "#svm_probs = svm.predict_proba(test_x_Tfidf)\n",
    "#svm_probs = svm_probs[:,1]\n",
    "\n",
    "#Classification Report\n",
    "print(classification_report(test_y, pred_nbm, labels=[0,1]))\n",
    "print(classification_report(test_y, pred_nbb, labels=[0,1]))\n",
    "#print(classification_report(test_y, pred_svm, labels=[0,1]))\n",
    "\n",
    "#Calculate precision-recall\n",
    "precision_nbm, recall_nbm, thresholds_nbm = precision_recall_curve(test_y, nbm_probs)\n",
    "precision_nbb, recall_nbb, thresholds_nbb = precision_recall_curve(test_y, nbb_probs)\n",
    "#precision_svm, recall_svm, thresholds_svm = precision_recall_curve(test_y, svm_probs)\n",
    "\n",
    "#Calculate F1\n",
    "f1_nbm = f1_score(test_y, pred_nbm)\n",
    "f1_nbb = f1_score(test_y, pred_nbb)\n",
    "#f1_svm = f1_score(test_y, pred_svm)\n",
    "\n",
    "#Calculate precision recal auc\n",
    "# auc_nb = auc(recall_nb, precision_nb)\n",
    "# auc_svm = auc(recall_svm, precision_svm)\n",
    "\n",
    "# summarize scores\n",
    "print(\"Test Split: \", test_s)\n",
    "print(\"Max Features: \", max_f)\n",
    "print('Naive-Bayes-Multinomial: f1=%.3f' % (f1_nbm))\n",
    "print(\"Accuracy: \", accuracy_score(pred_nbm, test_y))\n",
    "print('Naive-Bayes-Bernoulli: f1=%.3f' % (f1_nbb))\n",
    "print(\"Accuracy: \", accuracy_score(pred_nbb, test_y))\n",
    "#print('Support Vector Machine: f1=%.3f' % (f1_svm))\n",
    "#print(\"Accuracy: \", accuracy_score(pred_svm, test_y))\n",
    "\n",
    "\n",
    "# plot the precision-recall curves\n",
    "no_skill = len(test_y[test_y==1]) / len(test_y)\n",
    "pyplot.plot(recall_nbm, precision_nbm, marker='.', label='Naive-Bayes Multinomial')\n",
    "pyplot.plot(recall_nbb, precision_nbb, marker='.', label='Naive-Bayes Bernoulli')\n",
    "#pyplot.plot(recall_svm, precision_svm, marker='.', label='SVM')\n",
    "\n",
    "# axis labels\n",
    "pyplot.xlabel('Recall')\n",
    "pyplot.ylabel('Precision')\n",
    "\n",
    "# show the legend\n",
    "pyplot.legend()\n",
    "\n",
    "# show the plot\n",
    "pyplot.show()"
   ]
  },
  {
   "cell_type": "code",
   "execution_count": 28,
   "metadata": {},
   "outputs": [
    {
     "data": {
      "image/png": "[encoded data removed]",
      "text/plain": [
       "<Figure size 432x288 with 1 Axes>"
      ]
     },
     "metadata": {
      "needs_background": "light"
     },
     "output_type": "display_data"
    },
    {
     "data": {
      "image/png": "[encoded data removed]",
      "text/plain": [
       "<Figure size 432x288 with 1 Axes>"
      ]
     },
     "metadata": {
      "needs_background": "light"
     },
     "output_type": "display_data"
    }
   ],
   "source": [
    "#Learning curve\n",
    "#svm_train_sizes, svm_train_scores, svm_valid_scores = learning_curve(SVC(probability=True), train_x_Tfidf, train_y,  cv=5)\n",
    "nbm_train_sizes, nbm_train_scores, nbm_valid_scores = learning_curve(naive_bayes.MultinomialNB(), train_x_Tfidf, train_y,  cv=5)\n",
    "nbb_train_sizes, nbb_train_scores, nbb_valid_scores = learning_curve(naive_bayes.BernoulliNB(), train_x_Tfidf, train_y,  cv=5)\n",
    "\n",
    "nbm_valid_scores = np.mean(nbm_valid_scores, axis=1)\n",
    "nbm_train_scores = np.mean(nbm_train_scores, axis=1)\n",
    "nbb_valid_scores = np.mean(nbb_valid_scores, axis=1)\n",
    "nbb_train_scores = np.mean(nbb_train_scores, axis=1)\n",
    "#svm_valid_scores = np.mean(svm_valid_scores, axis=1)\n",
    "#svm_train_scores = np.mean(svm_train_scores, axis=1)\n",
    "\n",
    "pyplot.plot(nbm_train_sizes, nbm_train_scores, marker='.', label='Naive-Bayes Multinomial - Training Score')\n",
    "pyplot.plot(nbb_train_sizes, nbb_train_scores, marker='.', label='Naive-Bayes Bernoulli - Training Score')\n",
    "#pyplot.plot(svm_train_sizes, svm_train_scores, marker='.', label='SVM - Training Score')\n",
    "\n",
    "pyplot.xlabel('Training Examples')\n",
    "pyplot.ylabel('Score')\n",
    "pyplot.legend()\n",
    "\n",
    "# show the plot\n",
    "pyplot.show()\n",
    "\n",
    "pyplot.plot(nbm_train_sizes, nbm_valid_scores, marker='.', label='Naive-Bayes Multinomial - Cross Validation Score')\n",
    "pyplot.plot(nbb_train_sizes, nbb_valid_scores, marker='.', label='Naive-Bayes Bernoulli - Cross Validation Score')\n",
    "#pyplot.plot(svm_train_sizes, svm_valid_scores, marker='.', label='SVM - Cross Validation Score')\n",
    "pyplot.xlabel('Training Examples')\n",
    "pyplot.ylabel('Score')\n",
    "pyplot.legend()\n",
    "\n",
    "# show the plot\n",
    "pyplot.show()"
   ]
  },
  {
   "cell_type": "code",
   "execution_count": null,
   "metadata": {},
   "outputs": [],
   "source": []
  }
 ],
 "metadata": {
  "kernelspec": {
   "display_name": "Python 3",
   "language": "python",
   "name": "python3"
  },
  "language_info": {
   "codemirror_mode": {
    "name": "ipython",
    "version": 3
   },
   "file_extension": ".py",
   "mimetype": "text/x-python",
   "name": "python",
   "nbconvert_exporter": "python",
   "pygments_lexer": "ipython3",
   "version": "3.8.3"
  }
 },
 "nbformat": 4,
 "nbformat_minor": 4
}
